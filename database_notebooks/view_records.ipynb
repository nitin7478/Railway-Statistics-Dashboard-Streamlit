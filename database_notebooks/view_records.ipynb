{
 "cells": [
  {
   "cell_type": "code",
   "execution_count": 76,
   "metadata": {},
   "outputs": [
    {
     "name": "stdout",
     "output_type": "stream",
     "text": [
      "Year: 2022 , Division: pune\n",
      "Year: 2022 , Division: pune\n",
      "Year: 2022 , Division: pune\n",
      "Year: 2022 , Division: pune\n",
      "Year: 2022 , Division: pune\n",
      "Year: 2022 , Division: pune\n",
      "Year: 2022 , Division: pune\n",
      "Year: 2022 , Division: pune\n",
      "Year: 2023 , Division: pune\n",
      "Year: 2023 , Division: pune\n",
      "Year: 2023 , Division: pune\n",
      "Year: 2023 , Division: pune\n",
      "Year: 2023 , Division: pune\n",
      "Year: 2023 , Division: pune\n",
      "Year: 2023 , Division: pune\n",
      "Year: 2023 , Division: pune\n",
      "Year: 2023 , Division: pune\n",
      "Year: 2023 , Division: pune\n",
      "Year: 2023 , Division: pune\n",
      "Year: 2022 , Division: pune\n",
      "Year: 2023 , Division: pune\n",
      "Year: 2024 , Division: pune\n"
     ]
    }
   ],
   "source": [
    "import psycopg2\n",
    "\n",
    "# Connect to your PostgreSQL database\n",
    "conn = psycopg2.connect(\n",
    "    dbname='railway_dashboard',\n",
    "    user='postgres',\n",
    "    password='1234',\n",
    "    host='localhost',\n",
    "    port='5432'\n",
    ")\n",
    "\n",
    "# Create a cursor\n",
    "cur = conn.cursor()\n",
    "\n",
    "# Execute SQL query to fetch all records with year and division\n",
    "select_query = \"\"\"\n",
    "SELECT earning_month, division_code\n",
    "FROM division_earnings;\n",
    "\"\"\"\n",
    "cur.execute(select_query)\n",
    "\n",
    "# Fetch all rows\n",
    "rows = cur.fetchall()\n",
    "\n",
    "# Print the fetched rows\n",
    "for row in rows:\n",
    "    print(\"Year:\", row[0].year, \", Division:\", row[1])\n",
    "\n",
    "# Close cursor and connection\n",
    "cur.close()\n",
    "conn.close()\n"
   ]
  },
  {
   "cell_type": "code",
   "execution_count": 77,
   "metadata": {},
   "outputs": [
    {
     "data": {
      "text/html": [
       "<div>\n",
       "<style scoped>\n",
       "    .dataframe tbody tr th:only-of-type {\n",
       "        vertical-align: middle;\n",
       "    }\n",
       "\n",
       "    .dataframe tbody tr th {\n",
       "        vertical-align: top;\n",
       "    }\n",
       "\n",
       "    .dataframe thead th {\n",
       "        text-align: right;\n",
       "    }\n",
       "</style>\n",
       "<table border=\"1\" class=\"dataframe\">\n",
       "  <thead>\n",
       "    <tr style=\"text-align: right;\">\n",
       "      <th></th>\n",
       "      <th>earning_id</th>\n",
       "      <th>earning_month</th>\n",
       "      <th>uts_sub_urban_pass</th>\n",
       "      <th>uts_non_sub_pass</th>\n",
       "      <th>prs_pass</th>\n",
       "      <th>total_pass</th>\n",
       "      <th>freight</th>\n",
       "      <th>other_coaching</th>\n",
       "      <th>total</th>\n",
       "      <th>sundry</th>\n",
       "      <th>gross_total</th>\n",
       "      <th>division_code</th>\n",
       "    </tr>\n",
       "  </thead>\n",
       "  <tbody>\n",
       "    <tr>\n",
       "      <th>0</th>\n",
       "      <td>1</td>\n",
       "      <td>2022-04-01</td>\n",
       "      <td>0.65</td>\n",
       "      <td>1.79</td>\n",
       "      <td>70.61</td>\n",
       "      <td>73.05</td>\n",
       "      <td>28.34</td>\n",
       "      <td>8.58</td>\n",
       "      <td>109.97</td>\n",
       "      <td>0.76</td>\n",
       "      <td>110.72</td>\n",
       "      <td>pune</td>\n",
       "    </tr>\n",
       "    <tr>\n",
       "      <th>1</th>\n",
       "      <td>2</td>\n",
       "      <td>2022-05-01</td>\n",
       "      <td>0.84</td>\n",
       "      <td>2.60</td>\n",
       "      <td>72.30</td>\n",
       "      <td>75.74</td>\n",
       "      <td>25.69</td>\n",
       "      <td>9.63</td>\n",
       "      <td>111.05</td>\n",
       "      <td>0.55</td>\n",
       "      <td>111.61</td>\n",
       "      <td>pune</td>\n",
       "    </tr>\n",
       "    <tr>\n",
       "      <th>2</th>\n",
       "      <td>3</td>\n",
       "      <td>2022-06-01</td>\n",
       "      <td>0.86</td>\n",
       "      <td>3.14</td>\n",
       "      <td>73.74</td>\n",
       "      <td>77.74</td>\n",
       "      <td>35.26</td>\n",
       "      <td>11.64</td>\n",
       "      <td>124.64</td>\n",
       "      <td>1.14</td>\n",
       "      <td>125.78</td>\n",
       "      <td>pune</td>\n",
       "    </tr>\n",
       "    <tr>\n",
       "      <th>3</th>\n",
       "      <td>4</td>\n",
       "      <td>2022-07-01</td>\n",
       "      <td>0.93</td>\n",
       "      <td>8.87</td>\n",
       "      <td>78.50</td>\n",
       "      <td>88.30</td>\n",
       "      <td>40.54</td>\n",
       "      <td>9.07</td>\n",
       "      <td>137.91</td>\n",
       "      <td>0.71</td>\n",
       "      <td>138.62</td>\n",
       "      <td>pune</td>\n",
       "    </tr>\n",
       "    <tr>\n",
       "      <th>4</th>\n",
       "      <td>5</td>\n",
       "      <td>2022-08-01</td>\n",
       "      <td>1.00</td>\n",
       "      <td>10.66</td>\n",
       "      <td>74.07</td>\n",
       "      <td>85.73</td>\n",
       "      <td>34.40</td>\n",
       "      <td>7.83</td>\n",
       "      <td>127.95</td>\n",
       "      <td>1.27</td>\n",
       "      <td>129.22</td>\n",
       "      <td>pune</td>\n",
       "    </tr>\n",
       "    <tr>\n",
       "      <th>5</th>\n",
       "      <td>6</td>\n",
       "      <td>2022-09-01</td>\n",
       "      <td>1.02</td>\n",
       "      <td>11.72</td>\n",
       "      <td>73.28</td>\n",
       "      <td>86.01</td>\n",
       "      <td>38.91</td>\n",
       "      <td>8.36</td>\n",
       "      <td>133.28</td>\n",
       "      <td>2.95</td>\n",
       "      <td>136.23</td>\n",
       "      <td>pune</td>\n",
       "    </tr>\n",
       "    <tr>\n",
       "      <th>6</th>\n",
       "      <td>7</td>\n",
       "      <td>2022-10-01</td>\n",
       "      <td>1.00</td>\n",
       "      <td>15.36</td>\n",
       "      <td>63.43</td>\n",
       "      <td>79.79</td>\n",
       "      <td>30.02</td>\n",
       "      <td>9.57</td>\n",
       "      <td>119.39</td>\n",
       "      <td>0.99</td>\n",
       "      <td>120.38</td>\n",
       "      <td>pune</td>\n",
       "    </tr>\n",
       "    <tr>\n",
       "      <th>7</th>\n",
       "      <td>8</td>\n",
       "      <td>2022-11-01</td>\n",
       "      <td>1.08</td>\n",
       "      <td>14.40</td>\n",
       "      <td>75.32</td>\n",
       "      <td>90.80</td>\n",
       "      <td>43.15</td>\n",
       "      <td>8.64</td>\n",
       "      <td>142.60</td>\n",
       "      <td>2.13</td>\n",
       "      <td>144.73</td>\n",
       "      <td>pune</td>\n",
       "    </tr>\n",
       "    <tr>\n",
       "      <th>8</th>\n",
       "      <td>9</td>\n",
       "      <td>2022-12-01</td>\n",
       "      <td>1.06</td>\n",
       "      <td>15.19</td>\n",
       "      <td>75.17</td>\n",
       "      <td>91.42</td>\n",
       "      <td>36.83</td>\n",
       "      <td>9.08</td>\n",
       "      <td>137.33</td>\n",
       "      <td>1.95</td>\n",
       "      <td>139.28</td>\n",
       "      <td>pune</td>\n",
       "    </tr>\n",
       "    <tr>\n",
       "      <th>9</th>\n",
       "      <td>10</td>\n",
       "      <td>2023-01-01</td>\n",
       "      <td>0.99</td>\n",
       "      <td>14.92</td>\n",
       "      <td>78.50</td>\n",
       "      <td>93.45</td>\n",
       "      <td>28.82</td>\n",
       "      <td>7.98</td>\n",
       "      <td>130.25</td>\n",
       "      <td>1.10</td>\n",
       "      <td>131.35</td>\n",
       "      <td>pune</td>\n",
       "    </tr>\n",
       "    <tr>\n",
       "      <th>10</th>\n",
       "      <td>11</td>\n",
       "      <td>2023-02-01</td>\n",
       "      <td>0.97</td>\n",
       "      <td>14.42</td>\n",
       "      <td>73.47</td>\n",
       "      <td>88.86</td>\n",
       "      <td>28.25</td>\n",
       "      <td>7.55</td>\n",
       "      <td>124.66</td>\n",
       "      <td>1.99</td>\n",
       "      <td>126.65</td>\n",
       "      <td>pune</td>\n",
       "    </tr>\n",
       "    <tr>\n",
       "      <th>11</th>\n",
       "      <td>12</td>\n",
       "      <td>2023-03-01</td>\n",
       "      <td>1.03</td>\n",
       "      <td>14.62</td>\n",
       "      <td>77.65</td>\n",
       "      <td>93.30</td>\n",
       "      <td>32.89</td>\n",
       "      <td>8.76</td>\n",
       "      <td>134.96</td>\n",
       "      <td>2.14</td>\n",
       "      <td>137.10</td>\n",
       "      <td>pune</td>\n",
       "    </tr>\n",
       "    <tr>\n",
       "      <th>12</th>\n",
       "      <td>13</td>\n",
       "      <td>2023-04-01</td>\n",
       "      <td>1.08</td>\n",
       "      <td>17.52</td>\n",
       "      <td>69.48</td>\n",
       "      <td>88.08</td>\n",
       "      <td>30.74</td>\n",
       "      <td>9.81</td>\n",
       "      <td>128.63</td>\n",
       "      <td>1.23</td>\n",
       "      <td>129.86</td>\n",
       "      <td>pune</td>\n",
       "    </tr>\n",
       "    <tr>\n",
       "      <th>13</th>\n",
       "      <td>14</td>\n",
       "      <td>2023-05-01</td>\n",
       "      <td>1.19</td>\n",
       "      <td>19.20</td>\n",
       "      <td>73.73</td>\n",
       "      <td>94.12</td>\n",
       "      <td>28.04</td>\n",
       "      <td>9.95</td>\n",
       "      <td>132.10</td>\n",
       "      <td>1.31</td>\n",
       "      <td>133.42</td>\n",
       "      <td>pune</td>\n",
       "    </tr>\n",
       "    <tr>\n",
       "      <th>14</th>\n",
       "      <td>15</td>\n",
       "      <td>2023-06-01</td>\n",
       "      <td>1.13</td>\n",
       "      <td>16.26</td>\n",
       "      <td>72.58</td>\n",
       "      <td>89.98</td>\n",
       "      <td>36.14</td>\n",
       "      <td>10.10</td>\n",
       "      <td>136.22</td>\n",
       "      <td>1.78</td>\n",
       "      <td>137.99</td>\n",
       "      <td>pune</td>\n",
       "    </tr>\n",
       "    <tr>\n",
       "      <th>15</th>\n",
       "      <td>16</td>\n",
       "      <td>2023-07-01</td>\n",
       "      <td>1.31</td>\n",
       "      <td>14.48</td>\n",
       "      <td>102.80</td>\n",
       "      <td>118.58</td>\n",
       "      <td>34.99</td>\n",
       "      <td>9.23</td>\n",
       "      <td>162.80</td>\n",
       "      <td>1.86</td>\n",
       "      <td>164.67</td>\n",
       "      <td>pune</td>\n",
       "    </tr>\n",
       "    <tr>\n",
       "      <th>16</th>\n",
       "      <td>17</td>\n",
       "      <td>2023-08-01</td>\n",
       "      <td>1.27</td>\n",
       "      <td>15.63</td>\n",
       "      <td>87.97</td>\n",
       "      <td>104.87</td>\n",
       "      <td>43.98</td>\n",
       "      <td>9.54</td>\n",
       "      <td>158.39</td>\n",
       "      <td>1.86</td>\n",
       "      <td>160.25</td>\n",
       "      <td>pune</td>\n",
       "    </tr>\n",
       "    <tr>\n",
       "      <th>17</th>\n",
       "      <td>18</td>\n",
       "      <td>2023-09-01</td>\n",
       "      <td>1.16</td>\n",
       "      <td>15.30</td>\n",
       "      <td>79.61</td>\n",
       "      <td>96.08</td>\n",
       "      <td>40.17</td>\n",
       "      <td>11.35</td>\n",
       "      <td>147.60</td>\n",
       "      <td>1.58</td>\n",
       "      <td>149.18</td>\n",
       "      <td>pune</td>\n",
       "    </tr>\n",
       "    <tr>\n",
       "      <th>18</th>\n",
       "      <td>19</td>\n",
       "      <td>2023-10-01</td>\n",
       "      <td>1.13</td>\n",
       "      <td>15.61</td>\n",
       "      <td>82.79</td>\n",
       "      <td>99.53</td>\n",
       "      <td>42.38</td>\n",
       "      <td>9.88</td>\n",
       "      <td>151.78</td>\n",
       "      <td>1.07</td>\n",
       "      <td>152.86</td>\n",
       "      <td>pune</td>\n",
       "    </tr>\n",
       "    <tr>\n",
       "      <th>19</th>\n",
       "      <td>20</td>\n",
       "      <td>2023-11-01</td>\n",
       "      <td>1.08</td>\n",
       "      <td>20.52</td>\n",
       "      <td>78.16</td>\n",
       "      <td>99.76</td>\n",
       "      <td>31.11</td>\n",
       "      <td>11.23</td>\n",
       "      <td>142.10</td>\n",
       "      <td>1.65</td>\n",
       "      <td>143.75</td>\n",
       "      <td>pune</td>\n",
       "    </tr>\n",
       "    <tr>\n",
       "      <th>20</th>\n",
       "      <td>21</td>\n",
       "      <td>2023-12-01</td>\n",
       "      <td>1.10</td>\n",
       "      <td>16.35</td>\n",
       "      <td>90.56</td>\n",
       "      <td>108.01</td>\n",
       "      <td>40.69</td>\n",
       "      <td>9.30</td>\n",
       "      <td>158.00</td>\n",
       "      <td>1.99</td>\n",
       "      <td>159.99</td>\n",
       "      <td>pune</td>\n",
       "    </tr>\n",
       "    <tr>\n",
       "      <th>21</th>\n",
       "      <td>22</td>\n",
       "      <td>2024-01-01</td>\n",
       "      <td>1.13</td>\n",
       "      <td>167.37</td>\n",
       "      <td>89.04</td>\n",
       "      <td>106.67</td>\n",
       "      <td>28.05</td>\n",
       "      <td>9.77</td>\n",
       "      <td>144.49</td>\n",
       "      <td>1.33</td>\n",
       "      <td>145.83</td>\n",
       "      <td>pune</td>\n",
       "    </tr>\n",
       "  </tbody>\n",
       "</table>\n",
       "</div>"
      ],
      "text/plain": [
       "    earning_id earning_month  uts_sub_urban_pass  uts_non_sub_pass  prs_pass  \\\n",
       "0            1    2022-04-01                0.65              1.79     70.61   \n",
       "1            2    2022-05-01                0.84              2.60     72.30   \n",
       "2            3    2022-06-01                0.86              3.14     73.74   \n",
       "3            4    2022-07-01                0.93              8.87     78.50   \n",
       "4            5    2022-08-01                1.00             10.66     74.07   \n",
       "5            6    2022-09-01                1.02             11.72     73.28   \n",
       "6            7    2022-10-01                1.00             15.36     63.43   \n",
       "7            8    2022-11-01                1.08             14.40     75.32   \n",
       "8            9    2022-12-01                1.06             15.19     75.17   \n",
       "9           10    2023-01-01                0.99             14.92     78.50   \n",
       "10          11    2023-02-01                0.97             14.42     73.47   \n",
       "11          12    2023-03-01                1.03             14.62     77.65   \n",
       "12          13    2023-04-01                1.08             17.52     69.48   \n",
       "13          14    2023-05-01                1.19             19.20     73.73   \n",
       "14          15    2023-06-01                1.13             16.26     72.58   \n",
       "15          16    2023-07-01                1.31             14.48    102.80   \n",
       "16          17    2023-08-01                1.27             15.63     87.97   \n",
       "17          18    2023-09-01                1.16             15.30     79.61   \n",
       "18          19    2023-10-01                1.13             15.61     82.79   \n",
       "19          20    2023-11-01                1.08             20.52     78.16   \n",
       "20          21    2023-12-01                1.10             16.35     90.56   \n",
       "21          22    2024-01-01                1.13            167.37     89.04   \n",
       "\n",
       "    total_pass  freight  other_coaching   total  sundry  gross_total  \\\n",
       "0        73.05    28.34            8.58  109.97    0.76       110.72   \n",
       "1        75.74    25.69            9.63  111.05    0.55       111.61   \n",
       "2        77.74    35.26           11.64  124.64    1.14       125.78   \n",
       "3        88.30    40.54            9.07  137.91    0.71       138.62   \n",
       "4        85.73    34.40            7.83  127.95    1.27       129.22   \n",
       "5        86.01    38.91            8.36  133.28    2.95       136.23   \n",
       "6        79.79    30.02            9.57  119.39    0.99       120.38   \n",
       "7        90.80    43.15            8.64  142.60    2.13       144.73   \n",
       "8        91.42    36.83            9.08  137.33    1.95       139.28   \n",
       "9        93.45    28.82            7.98  130.25    1.10       131.35   \n",
       "10       88.86    28.25            7.55  124.66    1.99       126.65   \n",
       "11       93.30    32.89            8.76  134.96    2.14       137.10   \n",
       "12       88.08    30.74            9.81  128.63    1.23       129.86   \n",
       "13       94.12    28.04            9.95  132.10    1.31       133.42   \n",
       "14       89.98    36.14           10.10  136.22    1.78       137.99   \n",
       "15      118.58    34.99            9.23  162.80    1.86       164.67   \n",
       "16      104.87    43.98            9.54  158.39    1.86       160.25   \n",
       "17       96.08    40.17           11.35  147.60    1.58       149.18   \n",
       "18       99.53    42.38            9.88  151.78    1.07       152.86   \n",
       "19       99.76    31.11           11.23  142.10    1.65       143.75   \n",
       "20      108.01    40.69            9.30  158.00    1.99       159.99   \n",
       "21      106.67    28.05            9.77  144.49    1.33       145.83   \n",
       "\n",
       "   division_code  \n",
       "0           pune  \n",
       "1           pune  \n",
       "2           pune  \n",
       "3           pune  \n",
       "4           pune  \n",
       "5           pune  \n",
       "6           pune  \n",
       "7           pune  \n",
       "8           pune  \n",
       "9           pune  \n",
       "10          pune  \n",
       "11          pune  \n",
       "12          pune  \n",
       "13          pune  \n",
       "14          pune  \n",
       "15          pune  \n",
       "16          pune  \n",
       "17          pune  \n",
       "18          pune  \n",
       "19          pune  \n",
       "20          pune  \n",
       "21          pune  "
      ]
     },
     "execution_count": 77,
     "metadata": {},
     "output_type": "execute_result"
    }
   ],
   "source": [
    "import os\n",
    "import pandas as pd\n",
    "from dotenv import load_dotenv\n",
    "from sqlalchemy import create_engine, text\n",
    "\n",
    "# Load environment variables from .env file\n",
    "load_dotenv()\n",
    "\n",
    "# Access the database connection details\n",
    "DB_HOST = os.getenv(\"DB_HOST\")\n",
    "DB_PORT = os.getenv(\"DB_PORT\")\n",
    "DB_NAME = os.getenv(\"DB_NAME\")\n",
    "DB_USER = os.getenv(\"DB_USER\")\n",
    "DB_PASSWORD = os.getenv(\"DB_PASSWORD\")\n",
    "\n",
    "# Define the database connection URI\n",
    "DB_URI = f\"postgresql://{DB_USER}:{DB_PASSWORD}@{DB_HOST}:{DB_PORT}/{DB_NAME}\"\n",
    "\n",
    "# Create a SQLAlchemy engine\n",
    "engine = create_engine(DB_URI)\n",
    "\n",
    "conn = engine.connect()\n",
    "\n",
    "# Define function to load division earnings data\n",
    "def load_division_earnings_data(selected_division):\n",
    "    # Execute the query and read into a DataFrame\n",
    "    selected_division = selected_division.lower()\n",
    "    select_query = text(f\"SELECT * FROM division_earnings WHERE division_code = '{selected_division}'\")\n",
    "    earnings_df = pd.read_sql_query(select_query, conn)\n",
    "    return earnings_df\n",
    "\n",
    "# Example usage\n",
    "earnings_df = load_division_earnings_data(\"Pune\")\n",
    "earnings_df.head(25)\n"
   ]
  },
  {
   "cell_type": "code",
   "execution_count": 78,
   "metadata": {},
   "outputs": [
    {
     "data": {
      "text/plain": [
       "Index(['earning_id', 'earning_month', 'uts_sub_urban_pass', 'uts_non_sub_pass',\n",
       "       'prs_pass', 'total_pass', 'freight', 'other_coaching', 'total',\n",
       "       'sundry', 'gross_total', 'division_code'],\n",
       "      dtype='object')"
      ]
     },
     "execution_count": 78,
     "metadata": {},
     "output_type": "execute_result"
    }
   ],
   "source": [
    "earnings_df.columns"
   ]
  },
  {
   "cell_type": "code",
   "execution_count": 79,
   "metadata": {},
   "outputs": [],
   "source": [
    "earnings_df['earning_month'] = pd.to_datetime(earnings_df['earning_month'])\n"
   ]
  },
  {
   "cell_type": "code",
   "execution_count": 80,
   "metadata": {},
   "outputs": [
    {
     "data": {
      "text/html": [
       "<div>\n",
       "<style scoped>\n",
       "    .dataframe tbody tr th:only-of-type {\n",
       "        vertical-align: middle;\n",
       "    }\n",
       "\n",
       "    .dataframe tbody tr th {\n",
       "        vertical-align: top;\n",
       "    }\n",
       "\n",
       "    .dataframe thead th {\n",
       "        text-align: right;\n",
       "    }\n",
       "</style>\n",
       "<table border=\"1\" class=\"dataframe\">\n",
       "  <thead>\n",
       "    <tr style=\"text-align: right;\">\n",
       "      <th></th>\n",
       "      <th>earning_id</th>\n",
       "      <th>earning_month</th>\n",
       "      <th>uts_sub_urban_pass</th>\n",
       "      <th>uts_non_sub_pass</th>\n",
       "      <th>prs_pass</th>\n",
       "      <th>total_pass</th>\n",
       "      <th>freight</th>\n",
       "      <th>other_coaching</th>\n",
       "      <th>total</th>\n",
       "      <th>sundry</th>\n",
       "      <th>gross_total</th>\n",
       "      <th>division_code</th>\n",
       "    </tr>\n",
       "  </thead>\n",
       "  <tbody>\n",
       "    <tr>\n",
       "      <th>12</th>\n",
       "      <td>13</td>\n",
       "      <td>2023-04-01</td>\n",
       "      <td>1.08</td>\n",
       "      <td>17.52</td>\n",
       "      <td>69.48</td>\n",
       "      <td>88.08</td>\n",
       "      <td>30.74</td>\n",
       "      <td>9.81</td>\n",
       "      <td>128.63</td>\n",
       "      <td>1.23</td>\n",
       "      <td>129.86</td>\n",
       "      <td>pune</td>\n",
       "    </tr>\n",
       "    <tr>\n",
       "      <th>13</th>\n",
       "      <td>14</td>\n",
       "      <td>2023-05-01</td>\n",
       "      <td>1.19</td>\n",
       "      <td>19.20</td>\n",
       "      <td>73.73</td>\n",
       "      <td>94.12</td>\n",
       "      <td>28.04</td>\n",
       "      <td>9.95</td>\n",
       "      <td>132.10</td>\n",
       "      <td>1.31</td>\n",
       "      <td>133.42</td>\n",
       "      <td>pune</td>\n",
       "    </tr>\n",
       "    <tr>\n",
       "      <th>14</th>\n",
       "      <td>15</td>\n",
       "      <td>2023-06-01</td>\n",
       "      <td>1.13</td>\n",
       "      <td>16.26</td>\n",
       "      <td>72.58</td>\n",
       "      <td>89.98</td>\n",
       "      <td>36.14</td>\n",
       "      <td>10.10</td>\n",
       "      <td>136.22</td>\n",
       "      <td>1.78</td>\n",
       "      <td>137.99</td>\n",
       "      <td>pune</td>\n",
       "    </tr>\n",
       "    <tr>\n",
       "      <th>15</th>\n",
       "      <td>16</td>\n",
       "      <td>2023-07-01</td>\n",
       "      <td>1.31</td>\n",
       "      <td>14.48</td>\n",
       "      <td>102.80</td>\n",
       "      <td>118.58</td>\n",
       "      <td>34.99</td>\n",
       "      <td>9.23</td>\n",
       "      <td>162.80</td>\n",
       "      <td>1.86</td>\n",
       "      <td>164.67</td>\n",
       "      <td>pune</td>\n",
       "    </tr>\n",
       "    <tr>\n",
       "      <th>16</th>\n",
       "      <td>17</td>\n",
       "      <td>2023-08-01</td>\n",
       "      <td>1.27</td>\n",
       "      <td>15.63</td>\n",
       "      <td>87.97</td>\n",
       "      <td>104.87</td>\n",
       "      <td>43.98</td>\n",
       "      <td>9.54</td>\n",
       "      <td>158.39</td>\n",
       "      <td>1.86</td>\n",
       "      <td>160.25</td>\n",
       "      <td>pune</td>\n",
       "    </tr>\n",
       "    <tr>\n",
       "      <th>17</th>\n",
       "      <td>18</td>\n",
       "      <td>2023-09-01</td>\n",
       "      <td>1.16</td>\n",
       "      <td>15.30</td>\n",
       "      <td>79.61</td>\n",
       "      <td>96.08</td>\n",
       "      <td>40.17</td>\n",
       "      <td>11.35</td>\n",
       "      <td>147.60</td>\n",
       "      <td>1.58</td>\n",
       "      <td>149.18</td>\n",
       "      <td>pune</td>\n",
       "    </tr>\n",
       "    <tr>\n",
       "      <th>18</th>\n",
       "      <td>19</td>\n",
       "      <td>2023-10-01</td>\n",
       "      <td>1.13</td>\n",
       "      <td>15.61</td>\n",
       "      <td>82.79</td>\n",
       "      <td>99.53</td>\n",
       "      <td>42.38</td>\n",
       "      <td>9.88</td>\n",
       "      <td>151.78</td>\n",
       "      <td>1.07</td>\n",
       "      <td>152.86</td>\n",
       "      <td>pune</td>\n",
       "    </tr>\n",
       "    <tr>\n",
       "      <th>19</th>\n",
       "      <td>20</td>\n",
       "      <td>2023-11-01</td>\n",
       "      <td>1.08</td>\n",
       "      <td>20.52</td>\n",
       "      <td>78.16</td>\n",
       "      <td>99.76</td>\n",
       "      <td>31.11</td>\n",
       "      <td>11.23</td>\n",
       "      <td>142.10</td>\n",
       "      <td>1.65</td>\n",
       "      <td>143.75</td>\n",
       "      <td>pune</td>\n",
       "    </tr>\n",
       "    <tr>\n",
       "      <th>20</th>\n",
       "      <td>21</td>\n",
       "      <td>2023-12-01</td>\n",
       "      <td>1.10</td>\n",
       "      <td>16.35</td>\n",
       "      <td>90.56</td>\n",
       "      <td>108.01</td>\n",
       "      <td>40.69</td>\n",
       "      <td>9.30</td>\n",
       "      <td>158.00</td>\n",
       "      <td>1.99</td>\n",
       "      <td>159.99</td>\n",
       "      <td>pune</td>\n",
       "    </tr>\n",
       "    <tr>\n",
       "      <th>21</th>\n",
       "      <td>22</td>\n",
       "      <td>2024-01-01</td>\n",
       "      <td>1.13</td>\n",
       "      <td>167.37</td>\n",
       "      <td>89.04</td>\n",
       "      <td>106.67</td>\n",
       "      <td>28.05</td>\n",
       "      <td>9.77</td>\n",
       "      <td>144.49</td>\n",
       "      <td>1.33</td>\n",
       "      <td>145.83</td>\n",
       "      <td>pune</td>\n",
       "    </tr>\n",
       "  </tbody>\n",
       "</table>\n",
       "</div>"
      ],
      "text/plain": [
       "    earning_id earning_month  uts_sub_urban_pass  uts_non_sub_pass  prs_pass  \\\n",
       "12          13    2023-04-01                1.08             17.52     69.48   \n",
       "13          14    2023-05-01                1.19             19.20     73.73   \n",
       "14          15    2023-06-01                1.13             16.26     72.58   \n",
       "15          16    2023-07-01                1.31             14.48    102.80   \n",
       "16          17    2023-08-01                1.27             15.63     87.97   \n",
       "17          18    2023-09-01                1.16             15.30     79.61   \n",
       "18          19    2023-10-01                1.13             15.61     82.79   \n",
       "19          20    2023-11-01                1.08             20.52     78.16   \n",
       "20          21    2023-12-01                1.10             16.35     90.56   \n",
       "21          22    2024-01-01                1.13            167.37     89.04   \n",
       "\n",
       "    total_pass  freight  other_coaching   total  sundry  gross_total  \\\n",
       "12       88.08    30.74            9.81  128.63    1.23       129.86   \n",
       "13       94.12    28.04            9.95  132.10    1.31       133.42   \n",
       "14       89.98    36.14           10.10  136.22    1.78       137.99   \n",
       "15      118.58    34.99            9.23  162.80    1.86       164.67   \n",
       "16      104.87    43.98            9.54  158.39    1.86       160.25   \n",
       "17       96.08    40.17           11.35  147.60    1.58       149.18   \n",
       "18       99.53    42.38            9.88  151.78    1.07       152.86   \n",
       "19       99.76    31.11           11.23  142.10    1.65       143.75   \n",
       "20      108.01    40.69            9.30  158.00    1.99       159.99   \n",
       "21      106.67    28.05            9.77  144.49    1.33       145.83   \n",
       "\n",
       "   division_code  \n",
       "12          pune  \n",
       "13          pune  \n",
       "14          pune  \n",
       "15          pune  \n",
       "16          pune  \n",
       "17          pune  \n",
       "18          pune  \n",
       "19          pune  \n",
       "20          pune  \n",
       "21          pune  "
      ]
     },
     "execution_count": 80,
     "metadata": {},
     "output_type": "execute_result"
    }
   ],
   "source": [
    "import datetime\n",
    "\n",
    "def get_current_financial_year():\n",
    "    current_date = datetime.datetime.now()\n",
    "    current_year = current_date.year\n",
    "    current_month = current_date.month\n",
    "\n",
    "    if current_month < 4:  # Financial year starts from April\n",
    "        start_year = current_year - 1\n",
    "        end_year = current_year\n",
    "    else:\n",
    "        start_year = current_year\n",
    "        end_year = current_year + 1\n",
    "\n",
    "    financial_year_start = pd.Timestamp(year=start_year, month=4, day=1)\n",
    "    financial_year_end = pd.Timestamp(year=end_year, month=3, day=1)\n",
    "    financial_year_data = earnings_df[(earnings_df['earning_month'] >= financial_year_start) &\n",
    "                                  (earnings_df['earning_month'] <= financial_year_end)]\n",
    "    previous_financial_year_start = pd.Timestamp(year=start_year-1, month=4, day=1)\n",
    "    previous_financial_year_end = pd.Timestamp(year=end_year-1, month=3, day=31)\n",
    "    previous_year_data = earnings_df[(earnings_df['earning_month'] >= previous_financial_year_start) &\n",
    "                                  (earnings_df['earning_month'] <= previous_financial_year_end)]\n",
    "    \n",
    "    return financial_year_data , previous_year_data , financial_year_start , financial_year_end\n",
    "\n",
    "\n",
    "current_financial_year_data, previous_financial_year_data, financial_year_start , financial_year_end  = get_current_financial_year()\n",
    "current_financial_year_data"
   ]
  },
  {
   "cell_type": "code",
   "execution_count": 81,
   "metadata": {},
   "outputs": [
    {
     "data": {
      "text/html": [
       "<div>\n",
       "<style scoped>\n",
       "    .dataframe tbody tr th:only-of-type {\n",
       "        vertical-align: middle;\n",
       "    }\n",
       "\n",
       "    .dataframe tbody tr th {\n",
       "        vertical-align: top;\n",
       "    }\n",
       "\n",
       "    .dataframe thead th {\n",
       "        text-align: right;\n",
       "    }\n",
       "</style>\n",
       "<table border=\"1\" class=\"dataframe\">\n",
       "  <thead>\n",
       "    <tr style=\"text-align: right;\">\n",
       "      <th></th>\n",
       "      <th>earning_id</th>\n",
       "      <th>earning_month</th>\n",
       "      <th>uts_sub_urban_pass</th>\n",
       "      <th>uts_non_sub_pass</th>\n",
       "      <th>prs_pass</th>\n",
       "      <th>total_pass</th>\n",
       "      <th>freight</th>\n",
       "      <th>other_coaching</th>\n",
       "      <th>total</th>\n",
       "      <th>sundry</th>\n",
       "      <th>gross_total</th>\n",
       "      <th>division_code</th>\n",
       "    </tr>\n",
       "  </thead>\n",
       "  <tbody>\n",
       "    <tr>\n",
       "      <th>0</th>\n",
       "      <td>1</td>\n",
       "      <td>2022-04-01</td>\n",
       "      <td>0.65</td>\n",
       "      <td>1.79</td>\n",
       "      <td>70.61</td>\n",
       "      <td>73.05</td>\n",
       "      <td>28.34</td>\n",
       "      <td>8.58</td>\n",
       "      <td>109.97</td>\n",
       "      <td>0.76</td>\n",
       "      <td>110.72</td>\n",
       "      <td>pune</td>\n",
       "    </tr>\n",
       "    <tr>\n",
       "      <th>1</th>\n",
       "      <td>2</td>\n",
       "      <td>2022-05-01</td>\n",
       "      <td>0.84</td>\n",
       "      <td>2.60</td>\n",
       "      <td>72.30</td>\n",
       "      <td>75.74</td>\n",
       "      <td>25.69</td>\n",
       "      <td>9.63</td>\n",
       "      <td>111.05</td>\n",
       "      <td>0.55</td>\n",
       "      <td>111.61</td>\n",
       "      <td>pune</td>\n",
       "    </tr>\n",
       "    <tr>\n",
       "      <th>2</th>\n",
       "      <td>3</td>\n",
       "      <td>2022-06-01</td>\n",
       "      <td>0.86</td>\n",
       "      <td>3.14</td>\n",
       "      <td>73.74</td>\n",
       "      <td>77.74</td>\n",
       "      <td>35.26</td>\n",
       "      <td>11.64</td>\n",
       "      <td>124.64</td>\n",
       "      <td>1.14</td>\n",
       "      <td>125.78</td>\n",
       "      <td>pune</td>\n",
       "    </tr>\n",
       "    <tr>\n",
       "      <th>3</th>\n",
       "      <td>4</td>\n",
       "      <td>2022-07-01</td>\n",
       "      <td>0.93</td>\n",
       "      <td>8.87</td>\n",
       "      <td>78.50</td>\n",
       "      <td>88.30</td>\n",
       "      <td>40.54</td>\n",
       "      <td>9.07</td>\n",
       "      <td>137.91</td>\n",
       "      <td>0.71</td>\n",
       "      <td>138.62</td>\n",
       "      <td>pune</td>\n",
       "    </tr>\n",
       "    <tr>\n",
       "      <th>4</th>\n",
       "      <td>5</td>\n",
       "      <td>2022-08-01</td>\n",
       "      <td>1.00</td>\n",
       "      <td>10.66</td>\n",
       "      <td>74.07</td>\n",
       "      <td>85.73</td>\n",
       "      <td>34.40</td>\n",
       "      <td>7.83</td>\n",
       "      <td>127.95</td>\n",
       "      <td>1.27</td>\n",
       "      <td>129.22</td>\n",
       "      <td>pune</td>\n",
       "    </tr>\n",
       "    <tr>\n",
       "      <th>5</th>\n",
       "      <td>6</td>\n",
       "      <td>2022-09-01</td>\n",
       "      <td>1.02</td>\n",
       "      <td>11.72</td>\n",
       "      <td>73.28</td>\n",
       "      <td>86.01</td>\n",
       "      <td>38.91</td>\n",
       "      <td>8.36</td>\n",
       "      <td>133.28</td>\n",
       "      <td>2.95</td>\n",
       "      <td>136.23</td>\n",
       "      <td>pune</td>\n",
       "    </tr>\n",
       "    <tr>\n",
       "      <th>6</th>\n",
       "      <td>7</td>\n",
       "      <td>2022-10-01</td>\n",
       "      <td>1.00</td>\n",
       "      <td>15.36</td>\n",
       "      <td>63.43</td>\n",
       "      <td>79.79</td>\n",
       "      <td>30.02</td>\n",
       "      <td>9.57</td>\n",
       "      <td>119.39</td>\n",
       "      <td>0.99</td>\n",
       "      <td>120.38</td>\n",
       "      <td>pune</td>\n",
       "    </tr>\n",
       "    <tr>\n",
       "      <th>7</th>\n",
       "      <td>8</td>\n",
       "      <td>2022-11-01</td>\n",
       "      <td>1.08</td>\n",
       "      <td>14.40</td>\n",
       "      <td>75.32</td>\n",
       "      <td>90.80</td>\n",
       "      <td>43.15</td>\n",
       "      <td>8.64</td>\n",
       "      <td>142.60</td>\n",
       "      <td>2.13</td>\n",
       "      <td>144.73</td>\n",
       "      <td>pune</td>\n",
       "    </tr>\n",
       "    <tr>\n",
       "      <th>8</th>\n",
       "      <td>9</td>\n",
       "      <td>2022-12-01</td>\n",
       "      <td>1.06</td>\n",
       "      <td>15.19</td>\n",
       "      <td>75.17</td>\n",
       "      <td>91.42</td>\n",
       "      <td>36.83</td>\n",
       "      <td>9.08</td>\n",
       "      <td>137.33</td>\n",
       "      <td>1.95</td>\n",
       "      <td>139.28</td>\n",
       "      <td>pune</td>\n",
       "    </tr>\n",
       "    <tr>\n",
       "      <th>9</th>\n",
       "      <td>10</td>\n",
       "      <td>2023-01-01</td>\n",
       "      <td>0.99</td>\n",
       "      <td>14.92</td>\n",
       "      <td>78.50</td>\n",
       "      <td>93.45</td>\n",
       "      <td>28.82</td>\n",
       "      <td>7.98</td>\n",
       "      <td>130.25</td>\n",
       "      <td>1.10</td>\n",
       "      <td>131.35</td>\n",
       "      <td>pune</td>\n",
       "    </tr>\n",
       "    <tr>\n",
       "      <th>10</th>\n",
       "      <td>11</td>\n",
       "      <td>2023-02-01</td>\n",
       "      <td>0.97</td>\n",
       "      <td>14.42</td>\n",
       "      <td>73.47</td>\n",
       "      <td>88.86</td>\n",
       "      <td>28.25</td>\n",
       "      <td>7.55</td>\n",
       "      <td>124.66</td>\n",
       "      <td>1.99</td>\n",
       "      <td>126.65</td>\n",
       "      <td>pune</td>\n",
       "    </tr>\n",
       "    <tr>\n",
       "      <th>11</th>\n",
       "      <td>12</td>\n",
       "      <td>2023-03-01</td>\n",
       "      <td>1.03</td>\n",
       "      <td>14.62</td>\n",
       "      <td>77.65</td>\n",
       "      <td>93.30</td>\n",
       "      <td>32.89</td>\n",
       "      <td>8.76</td>\n",
       "      <td>134.96</td>\n",
       "      <td>2.14</td>\n",
       "      <td>137.10</td>\n",
       "      <td>pune</td>\n",
       "    </tr>\n",
       "  </tbody>\n",
       "</table>\n",
       "</div>"
      ],
      "text/plain": [
       "    earning_id earning_month  uts_sub_urban_pass  uts_non_sub_pass  prs_pass  \\\n",
       "0            1    2022-04-01                0.65              1.79     70.61   \n",
       "1            2    2022-05-01                0.84              2.60     72.30   \n",
       "2            3    2022-06-01                0.86              3.14     73.74   \n",
       "3            4    2022-07-01                0.93              8.87     78.50   \n",
       "4            5    2022-08-01                1.00             10.66     74.07   \n",
       "5            6    2022-09-01                1.02             11.72     73.28   \n",
       "6            7    2022-10-01                1.00             15.36     63.43   \n",
       "7            8    2022-11-01                1.08             14.40     75.32   \n",
       "8            9    2022-12-01                1.06             15.19     75.17   \n",
       "9           10    2023-01-01                0.99             14.92     78.50   \n",
       "10          11    2023-02-01                0.97             14.42     73.47   \n",
       "11          12    2023-03-01                1.03             14.62     77.65   \n",
       "\n",
       "    total_pass  freight  other_coaching   total  sundry  gross_total  \\\n",
       "0        73.05    28.34            8.58  109.97    0.76       110.72   \n",
       "1        75.74    25.69            9.63  111.05    0.55       111.61   \n",
       "2        77.74    35.26           11.64  124.64    1.14       125.78   \n",
       "3        88.30    40.54            9.07  137.91    0.71       138.62   \n",
       "4        85.73    34.40            7.83  127.95    1.27       129.22   \n",
       "5        86.01    38.91            8.36  133.28    2.95       136.23   \n",
       "6        79.79    30.02            9.57  119.39    0.99       120.38   \n",
       "7        90.80    43.15            8.64  142.60    2.13       144.73   \n",
       "8        91.42    36.83            9.08  137.33    1.95       139.28   \n",
       "9        93.45    28.82            7.98  130.25    1.10       131.35   \n",
       "10       88.86    28.25            7.55  124.66    1.99       126.65   \n",
       "11       93.30    32.89            8.76  134.96    2.14       137.10   \n",
       "\n",
       "   division_code  \n",
       "0           pune  \n",
       "1           pune  \n",
       "2           pune  \n",
       "3           pune  \n",
       "4           pune  \n",
       "5           pune  \n",
       "6           pune  \n",
       "7           pune  \n",
       "8           pune  \n",
       "9           pune  \n",
       "10          pune  \n",
       "11          pune  "
      ]
     },
     "execution_count": 81,
     "metadata": {},
     "output_type": "execute_result"
    }
   ],
   "source": [
    "previous_financial_year_data"
   ]
  },
  {
   "cell_type": "code",
   "execution_count": 82,
   "metadata": {},
   "outputs": [
    {
     "data": {
      "text/plain": [
       "Index(['earning_id', 'earning_month', 'uts_sub_urban_pass', 'uts_non_sub_pass',\n",
       "       'prs_pass', 'total_pass', 'freight', 'other_coaching', 'total',\n",
       "       'sundry', 'gross_total', 'division_code'],\n",
       "      dtype='object')"
      ]
     },
     "execution_count": 82,
     "metadata": {},
     "output_type": "execute_result"
    }
   ],
   "source": [
    "previous_financial_year_data.columns"
   ]
  },
  {
   "cell_type": "code",
   "execution_count": 83,
   "metadata": {},
   "outputs": [
    {
     "data": {
      "application/vnd.plotly.v1+json": {
       "config": {
        "plotlyServerURL": "https://plot.ly"
       },
       "data": [
        {
         "marker": {
          "color": "indianred"
         },
         "name": "2023 - 2024 ",
         "type": "bar",
         "x": [
          "Jan",
          "Feb",
          "Mar",
          "Apr",
          "May",
          "Jun",
          "Jul",
          "Aug",
          "Sep",
          "Oct",
          "Nov",
          "Dec"
         ],
         "y": [
          129.86,
          133.42,
          137.99,
          164.67,
          160.25,
          149.18,
          152.86,
          143.75,
          159.99,
          145.83
         ]
        },
        {
         "marker": {
          "color": "lightsalmon"
         },
         "name": "2022 - 2023 ",
         "type": "bar",
         "x": [
          "Jan",
          "Feb",
          "Mar",
          "Apr",
          "May",
          "Jun",
          "Jul",
          "Aug",
          "Sep",
          "Oct",
          "Nov",
          "Dec"
         ],
         "y": [
          110.72,
          111.61,
          125.78,
          138.62,
          129.22,
          136.23,
          120.38,
          144.73,
          139.28,
          131.35,
          126.65,
          137.1
         ]
        }
       ],
       "layout": {
        "barmode": "group",
        "template": {
         "data": {
          "bar": [
           {
            "error_x": {
             "color": "#2a3f5f"
            },
            "error_y": {
             "color": "#2a3f5f"
            },
            "marker": {
             "line": {
              "color": "#E5ECF6",
              "width": 0.5
             },
             "pattern": {
              "fillmode": "overlay",
              "size": 10,
              "solidity": 0.2
             }
            },
            "type": "bar"
           }
          ],
          "barpolar": [
           {
            "marker": {
             "line": {
              "color": "#E5ECF6",
              "width": 0.5
             },
             "pattern": {
              "fillmode": "overlay",
              "size": 10,
              "solidity": 0.2
             }
            },
            "type": "barpolar"
           }
          ],
          "carpet": [
           {
            "aaxis": {
             "endlinecolor": "#2a3f5f",
             "gridcolor": "white",
             "linecolor": "white",
             "minorgridcolor": "white",
             "startlinecolor": "#2a3f5f"
            },
            "baxis": {
             "endlinecolor": "#2a3f5f",
             "gridcolor": "white",
             "linecolor": "white",
             "minorgridcolor": "white",
             "startlinecolor": "#2a3f5f"
            },
            "type": "carpet"
           }
          ],
          "choropleth": [
           {
            "colorbar": {
             "outlinewidth": 0,
             "ticks": ""
            },
            "type": "choropleth"
           }
          ],
          "contour": [
           {
            "colorbar": {
             "outlinewidth": 0,
             "ticks": ""
            },
            "colorscale": [
             [
              0,
              "#0d0887"
             ],
             [
              0.1111111111111111,
              "#46039f"
             ],
             [
              0.2222222222222222,
              "#7201a8"
             ],
             [
              0.3333333333333333,
              "#9c179e"
             ],
             [
              0.4444444444444444,
              "#bd3786"
             ],
             [
              0.5555555555555556,
              "#d8576b"
             ],
             [
              0.6666666666666666,
              "#ed7953"
             ],
             [
              0.7777777777777778,
              "#fb9f3a"
             ],
             [
              0.8888888888888888,
              "#fdca26"
             ],
             [
              1,
              "#f0f921"
             ]
            ],
            "type": "contour"
           }
          ],
          "contourcarpet": [
           {
            "colorbar": {
             "outlinewidth": 0,
             "ticks": ""
            },
            "type": "contourcarpet"
           }
          ],
          "heatmap": [
           {
            "colorbar": {
             "outlinewidth": 0,
             "ticks": ""
            },
            "colorscale": [
             [
              0,
              "#0d0887"
             ],
             [
              0.1111111111111111,
              "#46039f"
             ],
             [
              0.2222222222222222,
              "#7201a8"
             ],
             [
              0.3333333333333333,
              "#9c179e"
             ],
             [
              0.4444444444444444,
              "#bd3786"
             ],
             [
              0.5555555555555556,
              "#d8576b"
             ],
             [
              0.6666666666666666,
              "#ed7953"
             ],
             [
              0.7777777777777778,
              "#fb9f3a"
             ],
             [
              0.8888888888888888,
              "#fdca26"
             ],
             [
              1,
              "#f0f921"
             ]
            ],
            "type": "heatmap"
           }
          ],
          "heatmapgl": [
           {
            "colorbar": {
             "outlinewidth": 0,
             "ticks": ""
            },
            "colorscale": [
             [
              0,
              "#0d0887"
             ],
             [
              0.1111111111111111,
              "#46039f"
             ],
             [
              0.2222222222222222,
              "#7201a8"
             ],
             [
              0.3333333333333333,
              "#9c179e"
             ],
             [
              0.4444444444444444,
              "#bd3786"
             ],
             [
              0.5555555555555556,
              "#d8576b"
             ],
             [
              0.6666666666666666,
              "#ed7953"
             ],
             [
              0.7777777777777778,
              "#fb9f3a"
             ],
             [
              0.8888888888888888,
              "#fdca26"
             ],
             [
              1,
              "#f0f921"
             ]
            ],
            "type": "heatmapgl"
           }
          ],
          "histogram": [
           {
            "marker": {
             "pattern": {
              "fillmode": "overlay",
              "size": 10,
              "solidity": 0.2
             }
            },
            "type": "histogram"
           }
          ],
          "histogram2d": [
           {
            "colorbar": {
             "outlinewidth": 0,
             "ticks": ""
            },
            "colorscale": [
             [
              0,
              "#0d0887"
             ],
             [
              0.1111111111111111,
              "#46039f"
             ],
             [
              0.2222222222222222,
              "#7201a8"
             ],
             [
              0.3333333333333333,
              "#9c179e"
             ],
             [
              0.4444444444444444,
              "#bd3786"
             ],
             [
              0.5555555555555556,
              "#d8576b"
             ],
             [
              0.6666666666666666,
              "#ed7953"
             ],
             [
              0.7777777777777778,
              "#fb9f3a"
             ],
             [
              0.8888888888888888,
              "#fdca26"
             ],
             [
              1,
              "#f0f921"
             ]
            ],
            "type": "histogram2d"
           }
          ],
          "histogram2dcontour": [
           {
            "colorbar": {
             "outlinewidth": 0,
             "ticks": ""
            },
            "colorscale": [
             [
              0,
              "#0d0887"
             ],
             [
              0.1111111111111111,
              "#46039f"
             ],
             [
              0.2222222222222222,
              "#7201a8"
             ],
             [
              0.3333333333333333,
              "#9c179e"
             ],
             [
              0.4444444444444444,
              "#bd3786"
             ],
             [
              0.5555555555555556,
              "#d8576b"
             ],
             [
              0.6666666666666666,
              "#ed7953"
             ],
             [
              0.7777777777777778,
              "#fb9f3a"
             ],
             [
              0.8888888888888888,
              "#fdca26"
             ],
             [
              1,
              "#f0f921"
             ]
            ],
            "type": "histogram2dcontour"
           }
          ],
          "mesh3d": [
           {
            "colorbar": {
             "outlinewidth": 0,
             "ticks": ""
            },
            "type": "mesh3d"
           }
          ],
          "parcoords": [
           {
            "line": {
             "colorbar": {
              "outlinewidth": 0,
              "ticks": ""
             }
            },
            "type": "parcoords"
           }
          ],
          "pie": [
           {
            "automargin": true,
            "type": "pie"
           }
          ],
          "scatter": [
           {
            "fillpattern": {
             "fillmode": "overlay",
             "size": 10,
             "solidity": 0.2
            },
            "type": "scatter"
           }
          ],
          "scatter3d": [
           {
            "line": {
             "colorbar": {
              "outlinewidth": 0,
              "ticks": ""
             }
            },
            "marker": {
             "colorbar": {
              "outlinewidth": 0,
              "ticks": ""
             }
            },
            "type": "scatter3d"
           }
          ],
          "scattercarpet": [
           {
            "marker": {
             "colorbar": {
              "outlinewidth": 0,
              "ticks": ""
             }
            },
            "type": "scattercarpet"
           }
          ],
          "scattergeo": [
           {
            "marker": {
             "colorbar": {
              "outlinewidth": 0,
              "ticks": ""
             }
            },
            "type": "scattergeo"
           }
          ],
          "scattergl": [
           {
            "marker": {
             "colorbar": {
              "outlinewidth": 0,
              "ticks": ""
             }
            },
            "type": "scattergl"
           }
          ],
          "scattermapbox": [
           {
            "marker": {
             "colorbar": {
              "outlinewidth": 0,
              "ticks": ""
             }
            },
            "type": "scattermapbox"
           }
          ],
          "scatterpolar": [
           {
            "marker": {
             "colorbar": {
              "outlinewidth": 0,
              "ticks": ""
             }
            },
            "type": "scatterpolar"
           }
          ],
          "scatterpolargl": [
           {
            "marker": {
             "colorbar": {
              "outlinewidth": 0,
              "ticks": ""
             }
            },
            "type": "scatterpolargl"
           }
          ],
          "scatterternary": [
           {
            "marker": {
             "colorbar": {
              "outlinewidth": 0,
              "ticks": ""
             }
            },
            "type": "scatterternary"
           }
          ],
          "surface": [
           {
            "colorbar": {
             "outlinewidth": 0,
             "ticks": ""
            },
            "colorscale": [
             [
              0,
              "#0d0887"
             ],
             [
              0.1111111111111111,
              "#46039f"
             ],
             [
              0.2222222222222222,
              "#7201a8"
             ],
             [
              0.3333333333333333,
              "#9c179e"
             ],
             [
              0.4444444444444444,
              "#bd3786"
             ],
             [
              0.5555555555555556,
              "#d8576b"
             ],
             [
              0.6666666666666666,
              "#ed7953"
             ],
             [
              0.7777777777777778,
              "#fb9f3a"
             ],
             [
              0.8888888888888888,
              "#fdca26"
             ],
             [
              1,
              "#f0f921"
             ]
            ],
            "type": "surface"
           }
          ],
          "table": [
           {
            "cells": {
             "fill": {
              "color": "#EBF0F8"
             },
             "line": {
              "color": "white"
             }
            },
            "header": {
             "fill": {
              "color": "#C8D4E3"
             },
             "line": {
              "color": "white"
             }
            },
            "type": "table"
           }
          ]
         },
         "layout": {
          "annotationdefaults": {
           "arrowcolor": "#2a3f5f",
           "arrowhead": 0,
           "arrowwidth": 1
          },
          "autotypenumbers": "strict",
          "coloraxis": {
           "colorbar": {
            "outlinewidth": 0,
            "ticks": ""
           }
          },
          "colorscale": {
           "diverging": [
            [
             0,
             "#8e0152"
            ],
            [
             0.1,
             "#c51b7d"
            ],
            [
             0.2,
             "#de77ae"
            ],
            [
             0.3,
             "#f1b6da"
            ],
            [
             0.4,
             "#fde0ef"
            ],
            [
             0.5,
             "#f7f7f7"
            ],
            [
             0.6,
             "#e6f5d0"
            ],
            [
             0.7,
             "#b8e186"
            ],
            [
             0.8,
             "#7fbc41"
            ],
            [
             0.9,
             "#4d9221"
            ],
            [
             1,
             "#276419"
            ]
           ],
           "sequential": [
            [
             0,
             "#0d0887"
            ],
            [
             0.1111111111111111,
             "#46039f"
            ],
            [
             0.2222222222222222,
             "#7201a8"
            ],
            [
             0.3333333333333333,
             "#9c179e"
            ],
            [
             0.4444444444444444,
             "#bd3786"
            ],
            [
             0.5555555555555556,
             "#d8576b"
            ],
            [
             0.6666666666666666,
             "#ed7953"
            ],
            [
             0.7777777777777778,
             "#fb9f3a"
            ],
            [
             0.8888888888888888,
             "#fdca26"
            ],
            [
             1,
             "#f0f921"
            ]
           ],
           "sequentialminus": [
            [
             0,
             "#0d0887"
            ],
            [
             0.1111111111111111,
             "#46039f"
            ],
            [
             0.2222222222222222,
             "#7201a8"
            ],
            [
             0.3333333333333333,
             "#9c179e"
            ],
            [
             0.4444444444444444,
             "#bd3786"
            ],
            [
             0.5555555555555556,
             "#d8576b"
            ],
            [
             0.6666666666666666,
             "#ed7953"
            ],
            [
             0.7777777777777778,
             "#fb9f3a"
            ],
            [
             0.8888888888888888,
             "#fdca26"
            ],
            [
             1,
             "#f0f921"
            ]
           ]
          },
          "colorway": [
           "#636efa",
           "#EF553B",
           "#00cc96",
           "#ab63fa",
           "#FFA15A",
           "#19d3f3",
           "#FF6692",
           "#B6E880",
           "#FF97FF",
           "#FECB52"
          ],
          "font": {
           "color": "#2a3f5f"
          },
          "geo": {
           "bgcolor": "white",
           "lakecolor": "white",
           "landcolor": "#E5ECF6",
           "showlakes": true,
           "showland": true,
           "subunitcolor": "white"
          },
          "hoverlabel": {
           "align": "left"
          },
          "hovermode": "closest",
          "mapbox": {
           "style": "light"
          },
          "paper_bgcolor": "white",
          "plot_bgcolor": "#E5ECF6",
          "polar": {
           "angularaxis": {
            "gridcolor": "white",
            "linecolor": "white",
            "ticks": ""
           },
           "bgcolor": "#E5ECF6",
           "radialaxis": {
            "gridcolor": "white",
            "linecolor": "white",
            "ticks": ""
           }
          },
          "scene": {
           "xaxis": {
            "backgroundcolor": "#E5ECF6",
            "gridcolor": "white",
            "gridwidth": 2,
            "linecolor": "white",
            "showbackground": true,
            "ticks": "",
            "zerolinecolor": "white"
           },
           "yaxis": {
            "backgroundcolor": "#E5ECF6",
            "gridcolor": "white",
            "gridwidth": 2,
            "linecolor": "white",
            "showbackground": true,
            "ticks": "",
            "zerolinecolor": "white"
           },
           "zaxis": {
            "backgroundcolor": "#E5ECF6",
            "gridcolor": "white",
            "gridwidth": 2,
            "linecolor": "white",
            "showbackground": true,
            "ticks": "",
            "zerolinecolor": "white"
           }
          },
          "shapedefaults": {
           "line": {
            "color": "#2a3f5f"
           }
          },
          "ternary": {
           "aaxis": {
            "gridcolor": "white",
            "linecolor": "white",
            "ticks": ""
           },
           "baxis": {
            "gridcolor": "white",
            "linecolor": "white",
            "ticks": ""
           },
           "bgcolor": "#E5ECF6",
           "caxis": {
            "gridcolor": "white",
            "linecolor": "white",
            "ticks": ""
           }
          },
          "title": {
           "x": 0.05
          },
          "xaxis": {
           "automargin": true,
           "gridcolor": "white",
           "linecolor": "white",
           "ticks": "",
           "title": {
            "standoff": 15
           },
           "zerolinecolor": "white",
           "zerolinewidth": 2
          },
          "yaxis": {
           "automargin": true,
           "gridcolor": "white",
           "linecolor": "white",
           "ticks": "",
           "title": {
            "standoff": 15
           },
           "zerolinecolor": "white",
           "zerolinewidth": 2
          }
         }
        },
        "title": {
         "text": "Revenue Comparison"
        },
        "xaxis": {
         "tickangle": -45,
         "title": {
          "text": "Month"
         }
        },
        "yaxis": {
         "title": {
          "text": "Total Revenue"
         }
        }
       }
      }
     },
     "metadata": {},
     "output_type": "display_data"
    }
   ],
   "source": [
    "import plotly.graph_objects as go\n",
    "current_financial_year_data, previous_financial_year_data, financial_year_start , financial_year_end  = get_current_financial_year()\n",
    "# Extract revenue data for current and previous financial years\n",
    "combined_data = pd.concat([current_financial_year_data.assign(year='Current Financial Year'), \n",
    "                           previous_financial_year_data.assign(year='Previous Financial Year')])\n",
    "current_year_revenue = combined_data.loc[combined_data['year'] == 'Current Financial Year', 'gross_total']\n",
    "previous_year_revenue = combined_data.loc[combined_data['year'] == 'Previous Financial Year', 'gross_total']\n",
    "\n",
    "# List of months\n",
    "months = ['Jan', 'Feb', 'Mar', 'Apr', 'May', 'Jun',\n",
    "          'Jul', 'Aug', 'Sep', 'Oct', 'Nov', 'Dec']\n",
    "\n",
    "# Create side-by-side bar charts\n",
    "fig = go.Figure()\n",
    "fig.add_trace(go.Bar(\n",
    "    x=months,\n",
    "    y=current_year_revenue,\n",
    "    name=f'{financial_year_start.year } - {financial_year_start.year + 1} ',\n",
    "    marker_color='indianred'\n",
    "))\n",
    "fig.add_trace(go.Bar(\n",
    "    x=months,\n",
    "    y=previous_year_revenue,\n",
    "    name=f'{financial_year_start.year - 1 } - {financial_year_start.year} ',\n",
    "    marker_color='lightsalmon'\n",
    "))\n",
    "\n",
    "# Modify the tickangle of the xaxis for better readability\n",
    "fig.update_layout(barmode='group', xaxis_tickangle=-45)\n",
    "\n",
    "# Update figure layout and show the plot\n",
    "fig.update_layout(title='Revenue Comparison',\n",
    "                  xaxis_title='Month',\n",
    "                  yaxis_title='Total Revenue',)\n",
    "fig.show()\n"
   ]
  },
  {
   "cell_type": "code",
   "execution_count": 84,
   "metadata": {},
   "outputs": [
    {
     "data": {
      "text/html": [
       "<div>\n",
       "<style scoped>\n",
       "    .dataframe tbody tr th:only-of-type {\n",
       "        vertical-align: middle;\n",
       "    }\n",
       "\n",
       "    .dataframe tbody tr th {\n",
       "        vertical-align: top;\n",
       "    }\n",
       "\n",
       "    .dataframe thead th {\n",
       "        text-align: right;\n",
       "    }\n",
       "</style>\n",
       "<table border=\"1\" class=\"dataframe\">\n",
       "  <thead>\n",
       "    <tr style=\"text-align: right;\">\n",
       "      <th></th>\n",
       "      <th>earning_id</th>\n",
       "      <th>earning_month</th>\n",
       "      <th>uts_sub_urban_pass</th>\n",
       "      <th>uts_non_sub_pass</th>\n",
       "      <th>prs_pass</th>\n",
       "      <th>total_pass</th>\n",
       "      <th>freight</th>\n",
       "      <th>other_coaching</th>\n",
       "      <th>total</th>\n",
       "      <th>sundry</th>\n",
       "      <th>gross_total</th>\n",
       "      <th>division_code</th>\n",
       "    </tr>\n",
       "  </thead>\n",
       "  <tbody>\n",
       "    <tr>\n",
       "      <th>12</th>\n",
       "      <td>13</td>\n",
       "      <td>2023-04-01</td>\n",
       "      <td>1.08</td>\n",
       "      <td>17.52</td>\n",
       "      <td>69.48</td>\n",
       "      <td>88.08</td>\n",
       "      <td>30.74</td>\n",
       "      <td>9.81</td>\n",
       "      <td>128.63</td>\n",
       "      <td>1.23</td>\n",
       "      <td>129.86</td>\n",
       "      <td>pune</td>\n",
       "    </tr>\n",
       "    <tr>\n",
       "      <th>13</th>\n",
       "      <td>14</td>\n",
       "      <td>2023-05-01</td>\n",
       "      <td>1.19</td>\n",
       "      <td>19.20</td>\n",
       "      <td>73.73</td>\n",
       "      <td>94.12</td>\n",
       "      <td>28.04</td>\n",
       "      <td>9.95</td>\n",
       "      <td>132.10</td>\n",
       "      <td>1.31</td>\n",
       "      <td>133.42</td>\n",
       "      <td>pune</td>\n",
       "    </tr>\n",
       "    <tr>\n",
       "      <th>14</th>\n",
       "      <td>15</td>\n",
       "      <td>2023-06-01</td>\n",
       "      <td>1.13</td>\n",
       "      <td>16.26</td>\n",
       "      <td>72.58</td>\n",
       "      <td>89.98</td>\n",
       "      <td>36.14</td>\n",
       "      <td>10.10</td>\n",
       "      <td>136.22</td>\n",
       "      <td>1.78</td>\n",
       "      <td>137.99</td>\n",
       "      <td>pune</td>\n",
       "    </tr>\n",
       "    <tr>\n",
       "      <th>15</th>\n",
       "      <td>16</td>\n",
       "      <td>2023-07-01</td>\n",
       "      <td>1.31</td>\n",
       "      <td>14.48</td>\n",
       "      <td>102.80</td>\n",
       "      <td>118.58</td>\n",
       "      <td>34.99</td>\n",
       "      <td>9.23</td>\n",
       "      <td>162.80</td>\n",
       "      <td>1.86</td>\n",
       "      <td>164.67</td>\n",
       "      <td>pune</td>\n",
       "    </tr>\n",
       "    <tr>\n",
       "      <th>16</th>\n",
       "      <td>17</td>\n",
       "      <td>2023-08-01</td>\n",
       "      <td>1.27</td>\n",
       "      <td>15.63</td>\n",
       "      <td>87.97</td>\n",
       "      <td>104.87</td>\n",
       "      <td>43.98</td>\n",
       "      <td>9.54</td>\n",
       "      <td>158.39</td>\n",
       "      <td>1.86</td>\n",
       "      <td>160.25</td>\n",
       "      <td>pune</td>\n",
       "    </tr>\n",
       "    <tr>\n",
       "      <th>17</th>\n",
       "      <td>18</td>\n",
       "      <td>2023-09-01</td>\n",
       "      <td>1.16</td>\n",
       "      <td>15.30</td>\n",
       "      <td>79.61</td>\n",
       "      <td>96.08</td>\n",
       "      <td>40.17</td>\n",
       "      <td>11.35</td>\n",
       "      <td>147.60</td>\n",
       "      <td>1.58</td>\n",
       "      <td>149.18</td>\n",
       "      <td>pune</td>\n",
       "    </tr>\n",
       "    <tr>\n",
       "      <th>18</th>\n",
       "      <td>19</td>\n",
       "      <td>2023-10-01</td>\n",
       "      <td>1.13</td>\n",
       "      <td>15.61</td>\n",
       "      <td>82.79</td>\n",
       "      <td>99.53</td>\n",
       "      <td>42.38</td>\n",
       "      <td>9.88</td>\n",
       "      <td>151.78</td>\n",
       "      <td>1.07</td>\n",
       "      <td>152.86</td>\n",
       "      <td>pune</td>\n",
       "    </tr>\n",
       "    <tr>\n",
       "      <th>19</th>\n",
       "      <td>20</td>\n",
       "      <td>2023-11-01</td>\n",
       "      <td>1.08</td>\n",
       "      <td>20.52</td>\n",
       "      <td>78.16</td>\n",
       "      <td>99.76</td>\n",
       "      <td>31.11</td>\n",
       "      <td>11.23</td>\n",
       "      <td>142.10</td>\n",
       "      <td>1.65</td>\n",
       "      <td>143.75</td>\n",
       "      <td>pune</td>\n",
       "    </tr>\n",
       "    <tr>\n",
       "      <th>20</th>\n",
       "      <td>21</td>\n",
       "      <td>2023-12-01</td>\n",
       "      <td>1.10</td>\n",
       "      <td>16.35</td>\n",
       "      <td>90.56</td>\n",
       "      <td>108.01</td>\n",
       "      <td>40.69</td>\n",
       "      <td>9.30</td>\n",
       "      <td>158.00</td>\n",
       "      <td>1.99</td>\n",
       "      <td>159.99</td>\n",
       "      <td>pune</td>\n",
       "    </tr>\n",
       "    <tr>\n",
       "      <th>21</th>\n",
       "      <td>22</td>\n",
       "      <td>2024-01-01</td>\n",
       "      <td>1.13</td>\n",
       "      <td>167.37</td>\n",
       "      <td>89.04</td>\n",
       "      <td>106.67</td>\n",
       "      <td>28.05</td>\n",
       "      <td>9.77</td>\n",
       "      <td>144.49</td>\n",
       "      <td>1.33</td>\n",
       "      <td>145.83</td>\n",
       "      <td>pune</td>\n",
       "    </tr>\n",
       "  </tbody>\n",
       "</table>\n",
       "</div>"
      ],
      "text/plain": [
       "    earning_id earning_month  uts_sub_urban_pass  uts_non_sub_pass  prs_pass  \\\n",
       "12          13    2023-04-01                1.08             17.52     69.48   \n",
       "13          14    2023-05-01                1.19             19.20     73.73   \n",
       "14          15    2023-06-01                1.13             16.26     72.58   \n",
       "15          16    2023-07-01                1.31             14.48    102.80   \n",
       "16          17    2023-08-01                1.27             15.63     87.97   \n",
       "17          18    2023-09-01                1.16             15.30     79.61   \n",
       "18          19    2023-10-01                1.13             15.61     82.79   \n",
       "19          20    2023-11-01                1.08             20.52     78.16   \n",
       "20          21    2023-12-01                1.10             16.35     90.56   \n",
       "21          22    2024-01-01                1.13            167.37     89.04   \n",
       "\n",
       "    total_pass  freight  other_coaching   total  sundry  gross_total  \\\n",
       "12       88.08    30.74            9.81  128.63    1.23       129.86   \n",
       "13       94.12    28.04            9.95  132.10    1.31       133.42   \n",
       "14       89.98    36.14           10.10  136.22    1.78       137.99   \n",
       "15      118.58    34.99            9.23  162.80    1.86       164.67   \n",
       "16      104.87    43.98            9.54  158.39    1.86       160.25   \n",
       "17       96.08    40.17           11.35  147.60    1.58       149.18   \n",
       "18       99.53    42.38            9.88  151.78    1.07       152.86   \n",
       "19       99.76    31.11           11.23  142.10    1.65       143.75   \n",
       "20      108.01    40.69            9.30  158.00    1.99       159.99   \n",
       "21      106.67    28.05            9.77  144.49    1.33       145.83   \n",
       "\n",
       "   division_code  \n",
       "12          pune  \n",
       "13          pune  \n",
       "14          pune  \n",
       "15          pune  \n",
       "16          pune  \n",
       "17          pune  \n",
       "18          pune  \n",
       "19          pune  \n",
       "20          pune  \n",
       "21          pune  "
      ]
     },
     "execution_count": 84,
     "metadata": {},
     "output_type": "execute_result"
    }
   ],
   "source": [
    "current_financial_year_data"
   ]
  },
  {
   "cell_type": "code",
   "execution_count": 85,
   "metadata": {},
   "outputs": [
    {
     "data": {
      "text/html": [
       "<div>\n",
       "<style scoped>\n",
       "    .dataframe tbody tr th:only-of-type {\n",
       "        vertical-align: middle;\n",
       "    }\n",
       "\n",
       "    .dataframe tbody tr th {\n",
       "        vertical-align: top;\n",
       "    }\n",
       "\n",
       "    .dataframe thead th {\n",
       "        text-align: right;\n",
       "    }\n",
       "</style>\n",
       "<table border=\"1\" class=\"dataframe\">\n",
       "  <thead>\n",
       "    <tr style=\"text-align: right;\">\n",
       "      <th></th>\n",
       "      <th>earning_id</th>\n",
       "      <th>earning_month</th>\n",
       "      <th>uts_sub_urban_pass</th>\n",
       "      <th>uts_non_sub_pass</th>\n",
       "      <th>prs_pass</th>\n",
       "      <th>total_pass</th>\n",
       "      <th>freight</th>\n",
       "      <th>other_coaching</th>\n",
       "      <th>total</th>\n",
       "      <th>sundry</th>\n",
       "      <th>gross_total</th>\n",
       "      <th>division_code</th>\n",
       "    </tr>\n",
       "  </thead>\n",
       "  <tbody>\n",
       "    <tr>\n",
       "      <th>0</th>\n",
       "      <td>1</td>\n",
       "      <td>2022-04-01</td>\n",
       "      <td>0.65</td>\n",
       "      <td>1.79</td>\n",
       "      <td>70.61</td>\n",
       "      <td>73.05</td>\n",
       "      <td>28.34</td>\n",
       "      <td>8.58</td>\n",
       "      <td>109.97</td>\n",
       "      <td>0.76</td>\n",
       "      <td>110.72</td>\n",
       "      <td>pune</td>\n",
       "    </tr>\n",
       "    <tr>\n",
       "      <th>1</th>\n",
       "      <td>2</td>\n",
       "      <td>2022-05-01</td>\n",
       "      <td>0.84</td>\n",
       "      <td>2.60</td>\n",
       "      <td>72.30</td>\n",
       "      <td>75.74</td>\n",
       "      <td>25.69</td>\n",
       "      <td>9.63</td>\n",
       "      <td>111.05</td>\n",
       "      <td>0.55</td>\n",
       "      <td>111.61</td>\n",
       "      <td>pune</td>\n",
       "    </tr>\n",
       "    <tr>\n",
       "      <th>2</th>\n",
       "      <td>3</td>\n",
       "      <td>2022-06-01</td>\n",
       "      <td>0.86</td>\n",
       "      <td>3.14</td>\n",
       "      <td>73.74</td>\n",
       "      <td>77.74</td>\n",
       "      <td>35.26</td>\n",
       "      <td>11.64</td>\n",
       "      <td>124.64</td>\n",
       "      <td>1.14</td>\n",
       "      <td>125.78</td>\n",
       "      <td>pune</td>\n",
       "    </tr>\n",
       "    <tr>\n",
       "      <th>3</th>\n",
       "      <td>4</td>\n",
       "      <td>2022-07-01</td>\n",
       "      <td>0.93</td>\n",
       "      <td>8.87</td>\n",
       "      <td>78.50</td>\n",
       "      <td>88.30</td>\n",
       "      <td>40.54</td>\n",
       "      <td>9.07</td>\n",
       "      <td>137.91</td>\n",
       "      <td>0.71</td>\n",
       "      <td>138.62</td>\n",
       "      <td>pune</td>\n",
       "    </tr>\n",
       "    <tr>\n",
       "      <th>4</th>\n",
       "      <td>5</td>\n",
       "      <td>2022-08-01</td>\n",
       "      <td>1.00</td>\n",
       "      <td>10.66</td>\n",
       "      <td>74.07</td>\n",
       "      <td>85.73</td>\n",
       "      <td>34.40</td>\n",
       "      <td>7.83</td>\n",
       "      <td>127.95</td>\n",
       "      <td>1.27</td>\n",
       "      <td>129.22</td>\n",
       "      <td>pune</td>\n",
       "    </tr>\n",
       "    <tr>\n",
       "      <th>5</th>\n",
       "      <td>6</td>\n",
       "      <td>2022-09-01</td>\n",
       "      <td>1.02</td>\n",
       "      <td>11.72</td>\n",
       "      <td>73.28</td>\n",
       "      <td>86.01</td>\n",
       "      <td>38.91</td>\n",
       "      <td>8.36</td>\n",
       "      <td>133.28</td>\n",
       "      <td>2.95</td>\n",
       "      <td>136.23</td>\n",
       "      <td>pune</td>\n",
       "    </tr>\n",
       "    <tr>\n",
       "      <th>6</th>\n",
       "      <td>7</td>\n",
       "      <td>2022-10-01</td>\n",
       "      <td>1.00</td>\n",
       "      <td>15.36</td>\n",
       "      <td>63.43</td>\n",
       "      <td>79.79</td>\n",
       "      <td>30.02</td>\n",
       "      <td>9.57</td>\n",
       "      <td>119.39</td>\n",
       "      <td>0.99</td>\n",
       "      <td>120.38</td>\n",
       "      <td>pune</td>\n",
       "    </tr>\n",
       "    <tr>\n",
       "      <th>7</th>\n",
       "      <td>8</td>\n",
       "      <td>2022-11-01</td>\n",
       "      <td>1.08</td>\n",
       "      <td>14.40</td>\n",
       "      <td>75.32</td>\n",
       "      <td>90.80</td>\n",
       "      <td>43.15</td>\n",
       "      <td>8.64</td>\n",
       "      <td>142.60</td>\n",
       "      <td>2.13</td>\n",
       "      <td>144.73</td>\n",
       "      <td>pune</td>\n",
       "    </tr>\n",
       "    <tr>\n",
       "      <th>8</th>\n",
       "      <td>9</td>\n",
       "      <td>2022-12-01</td>\n",
       "      <td>1.06</td>\n",
       "      <td>15.19</td>\n",
       "      <td>75.17</td>\n",
       "      <td>91.42</td>\n",
       "      <td>36.83</td>\n",
       "      <td>9.08</td>\n",
       "      <td>137.33</td>\n",
       "      <td>1.95</td>\n",
       "      <td>139.28</td>\n",
       "      <td>pune</td>\n",
       "    </tr>\n",
       "    <tr>\n",
       "      <th>9</th>\n",
       "      <td>10</td>\n",
       "      <td>2023-01-01</td>\n",
       "      <td>0.99</td>\n",
       "      <td>14.92</td>\n",
       "      <td>78.50</td>\n",
       "      <td>93.45</td>\n",
       "      <td>28.82</td>\n",
       "      <td>7.98</td>\n",
       "      <td>130.25</td>\n",
       "      <td>1.10</td>\n",
       "      <td>131.35</td>\n",
       "      <td>pune</td>\n",
       "    </tr>\n",
       "    <tr>\n",
       "      <th>10</th>\n",
       "      <td>11</td>\n",
       "      <td>2023-02-01</td>\n",
       "      <td>0.97</td>\n",
       "      <td>14.42</td>\n",
       "      <td>73.47</td>\n",
       "      <td>88.86</td>\n",
       "      <td>28.25</td>\n",
       "      <td>7.55</td>\n",
       "      <td>124.66</td>\n",
       "      <td>1.99</td>\n",
       "      <td>126.65</td>\n",
       "      <td>pune</td>\n",
       "    </tr>\n",
       "    <tr>\n",
       "      <th>11</th>\n",
       "      <td>12</td>\n",
       "      <td>2023-03-01</td>\n",
       "      <td>1.03</td>\n",
       "      <td>14.62</td>\n",
       "      <td>77.65</td>\n",
       "      <td>93.30</td>\n",
       "      <td>32.89</td>\n",
       "      <td>8.76</td>\n",
       "      <td>134.96</td>\n",
       "      <td>2.14</td>\n",
       "      <td>137.10</td>\n",
       "      <td>pune</td>\n",
       "    </tr>\n",
       "  </tbody>\n",
       "</table>\n",
       "</div>"
      ],
      "text/plain": [
       "    earning_id earning_month  uts_sub_urban_pass  uts_non_sub_pass  prs_pass  \\\n",
       "0            1    2022-04-01                0.65              1.79     70.61   \n",
       "1            2    2022-05-01                0.84              2.60     72.30   \n",
       "2            3    2022-06-01                0.86              3.14     73.74   \n",
       "3            4    2022-07-01                0.93              8.87     78.50   \n",
       "4            5    2022-08-01                1.00             10.66     74.07   \n",
       "5            6    2022-09-01                1.02             11.72     73.28   \n",
       "6            7    2022-10-01                1.00             15.36     63.43   \n",
       "7            8    2022-11-01                1.08             14.40     75.32   \n",
       "8            9    2022-12-01                1.06             15.19     75.17   \n",
       "9           10    2023-01-01                0.99             14.92     78.50   \n",
       "10          11    2023-02-01                0.97             14.42     73.47   \n",
       "11          12    2023-03-01                1.03             14.62     77.65   \n",
       "\n",
       "    total_pass  freight  other_coaching   total  sundry  gross_total  \\\n",
       "0        73.05    28.34            8.58  109.97    0.76       110.72   \n",
       "1        75.74    25.69            9.63  111.05    0.55       111.61   \n",
       "2        77.74    35.26           11.64  124.64    1.14       125.78   \n",
       "3        88.30    40.54            9.07  137.91    0.71       138.62   \n",
       "4        85.73    34.40            7.83  127.95    1.27       129.22   \n",
       "5        86.01    38.91            8.36  133.28    2.95       136.23   \n",
       "6        79.79    30.02            9.57  119.39    0.99       120.38   \n",
       "7        90.80    43.15            8.64  142.60    2.13       144.73   \n",
       "8        91.42    36.83            9.08  137.33    1.95       139.28   \n",
       "9        93.45    28.82            7.98  130.25    1.10       131.35   \n",
       "10       88.86    28.25            7.55  124.66    1.99       126.65   \n",
       "11       93.30    32.89            8.76  134.96    2.14       137.10   \n",
       "\n",
       "   division_code  \n",
       "0           pune  \n",
       "1           pune  \n",
       "2           pune  \n",
       "3           pune  \n",
       "4           pune  \n",
       "5           pune  \n",
       "6           pune  \n",
       "7           pune  \n",
       "8           pune  \n",
       "9           pune  \n",
       "10          pune  \n",
       "11          pune  "
      ]
     },
     "execution_count": 85,
     "metadata": {},
     "output_type": "execute_result"
    }
   ],
   "source": [
    "previous_financial_year_data"
   ]
  },
  {
   "cell_type": "code",
   "execution_count": null,
   "metadata": {},
   "outputs": [],
   "source": []
  },
  {
   "cell_type": "code",
   "execution_count": 86,
   "metadata": {},
   "outputs": [
    {
     "name": "stdout",
     "output_type": "stream",
     "text": [
      "2024-03-07 23:58:05.807717\n"
     ]
    },
    {
     "data": {
      "application/vnd.plotly.v1+json": {
       "config": {
        "plotlyServerURL": "https://plot.ly"
       },
       "data": [
        {
         "marker": {
          "color": "indianred"
         },
         "name": "2023 - 2024",
         "type": "bar",
         "x": [
          "Jan",
          "Feb",
          "Mar",
          "Apr",
          "May",
          "Jun",
          "Jul",
          "Aug",
          "Sep",
          "Oct",
          "Nov",
          "Dec"
         ],
         "y": [
          129.86,
          133.42,
          137.99,
          164.67,
          160.25,
          149.18,
          152.86,
          143.75,
          159.99,
          145.83
         ]
        },
        {
         "marker": {
          "color": "lightsalmon"
         },
         "name": "2022 - 2023",
         "type": "bar",
         "x": [
          "Jan",
          "Feb",
          "Mar",
          "Apr",
          "May",
          "Jun",
          "Jul",
          "Aug",
          "Sep",
          "Oct",
          "Nov",
          "Dec"
         ],
         "y": [
          110.72,
          111.61,
          125.78,
          138.62,
          129.22,
          136.23,
          120.38,
          144.73,
          139.28,
          131.35,
          126.65,
          137.1
         ]
        }
       ],
       "layout": {
        "barmode": "group",
        "template": {
         "data": {
          "bar": [
           {
            "error_x": {
             "color": "#2a3f5f"
            },
            "error_y": {
             "color": "#2a3f5f"
            },
            "marker": {
             "line": {
              "color": "#E5ECF6",
              "width": 0.5
             },
             "pattern": {
              "fillmode": "overlay",
              "size": 10,
              "solidity": 0.2
             }
            },
            "type": "bar"
           }
          ],
          "barpolar": [
           {
            "marker": {
             "line": {
              "color": "#E5ECF6",
              "width": 0.5
             },
             "pattern": {
              "fillmode": "overlay",
              "size": 10,
              "solidity": 0.2
             }
            },
            "type": "barpolar"
           }
          ],
          "carpet": [
           {
            "aaxis": {
             "endlinecolor": "#2a3f5f",
             "gridcolor": "white",
             "linecolor": "white",
             "minorgridcolor": "white",
             "startlinecolor": "#2a3f5f"
            },
            "baxis": {
             "endlinecolor": "#2a3f5f",
             "gridcolor": "white",
             "linecolor": "white",
             "minorgridcolor": "white",
             "startlinecolor": "#2a3f5f"
            },
            "type": "carpet"
           }
          ],
          "choropleth": [
           {
            "colorbar": {
             "outlinewidth": 0,
             "ticks": ""
            },
            "type": "choropleth"
           }
          ],
          "contour": [
           {
            "colorbar": {
             "outlinewidth": 0,
             "ticks": ""
            },
            "colorscale": [
             [
              0,
              "#0d0887"
             ],
             [
              0.1111111111111111,
              "#46039f"
             ],
             [
              0.2222222222222222,
              "#7201a8"
             ],
             [
              0.3333333333333333,
              "#9c179e"
             ],
             [
              0.4444444444444444,
              "#bd3786"
             ],
             [
              0.5555555555555556,
              "#d8576b"
             ],
             [
              0.6666666666666666,
              "#ed7953"
             ],
             [
              0.7777777777777778,
              "#fb9f3a"
             ],
             [
              0.8888888888888888,
              "#fdca26"
             ],
             [
              1,
              "#f0f921"
             ]
            ],
            "type": "contour"
           }
          ],
          "contourcarpet": [
           {
            "colorbar": {
             "outlinewidth": 0,
             "ticks": ""
            },
            "type": "contourcarpet"
           }
          ],
          "heatmap": [
           {
            "colorbar": {
             "outlinewidth": 0,
             "ticks": ""
            },
            "colorscale": [
             [
              0,
              "#0d0887"
             ],
             [
              0.1111111111111111,
              "#46039f"
             ],
             [
              0.2222222222222222,
              "#7201a8"
             ],
             [
              0.3333333333333333,
              "#9c179e"
             ],
             [
              0.4444444444444444,
              "#bd3786"
             ],
             [
              0.5555555555555556,
              "#d8576b"
             ],
             [
              0.6666666666666666,
              "#ed7953"
             ],
             [
              0.7777777777777778,
              "#fb9f3a"
             ],
             [
              0.8888888888888888,
              "#fdca26"
             ],
             [
              1,
              "#f0f921"
             ]
            ],
            "type": "heatmap"
           }
          ],
          "heatmapgl": [
           {
            "colorbar": {
             "outlinewidth": 0,
             "ticks": ""
            },
            "colorscale": [
             [
              0,
              "#0d0887"
             ],
             [
              0.1111111111111111,
              "#46039f"
             ],
             [
              0.2222222222222222,
              "#7201a8"
             ],
             [
              0.3333333333333333,
              "#9c179e"
             ],
             [
              0.4444444444444444,
              "#bd3786"
             ],
             [
              0.5555555555555556,
              "#d8576b"
             ],
             [
              0.6666666666666666,
              "#ed7953"
             ],
             [
              0.7777777777777778,
              "#fb9f3a"
             ],
             [
              0.8888888888888888,
              "#fdca26"
             ],
             [
              1,
              "#f0f921"
             ]
            ],
            "type": "heatmapgl"
           }
          ],
          "histogram": [
           {
            "marker": {
             "pattern": {
              "fillmode": "overlay",
              "size": 10,
              "solidity": 0.2
             }
            },
            "type": "histogram"
           }
          ],
          "histogram2d": [
           {
            "colorbar": {
             "outlinewidth": 0,
             "ticks": ""
            },
            "colorscale": [
             [
              0,
              "#0d0887"
             ],
             [
              0.1111111111111111,
              "#46039f"
             ],
             [
              0.2222222222222222,
              "#7201a8"
             ],
             [
              0.3333333333333333,
              "#9c179e"
             ],
             [
              0.4444444444444444,
              "#bd3786"
             ],
             [
              0.5555555555555556,
              "#d8576b"
             ],
             [
              0.6666666666666666,
              "#ed7953"
             ],
             [
              0.7777777777777778,
              "#fb9f3a"
             ],
             [
              0.8888888888888888,
              "#fdca26"
             ],
             [
              1,
              "#f0f921"
             ]
            ],
            "type": "histogram2d"
           }
          ],
          "histogram2dcontour": [
           {
            "colorbar": {
             "outlinewidth": 0,
             "ticks": ""
            },
            "colorscale": [
             [
              0,
              "#0d0887"
             ],
             [
              0.1111111111111111,
              "#46039f"
             ],
             [
              0.2222222222222222,
              "#7201a8"
             ],
             [
              0.3333333333333333,
              "#9c179e"
             ],
             [
              0.4444444444444444,
              "#bd3786"
             ],
             [
              0.5555555555555556,
              "#d8576b"
             ],
             [
              0.6666666666666666,
              "#ed7953"
             ],
             [
              0.7777777777777778,
              "#fb9f3a"
             ],
             [
              0.8888888888888888,
              "#fdca26"
             ],
             [
              1,
              "#f0f921"
             ]
            ],
            "type": "histogram2dcontour"
           }
          ],
          "mesh3d": [
           {
            "colorbar": {
             "outlinewidth": 0,
             "ticks": ""
            },
            "type": "mesh3d"
           }
          ],
          "parcoords": [
           {
            "line": {
             "colorbar": {
              "outlinewidth": 0,
              "ticks": ""
             }
            },
            "type": "parcoords"
           }
          ],
          "pie": [
           {
            "automargin": true,
            "type": "pie"
           }
          ],
          "scatter": [
           {
            "fillpattern": {
             "fillmode": "overlay",
             "size": 10,
             "solidity": 0.2
            },
            "type": "scatter"
           }
          ],
          "scatter3d": [
           {
            "line": {
             "colorbar": {
              "outlinewidth": 0,
              "ticks": ""
             }
            },
            "marker": {
             "colorbar": {
              "outlinewidth": 0,
              "ticks": ""
             }
            },
            "type": "scatter3d"
           }
          ],
          "scattercarpet": [
           {
            "marker": {
             "colorbar": {
              "outlinewidth": 0,
              "ticks": ""
             }
            },
            "type": "scattercarpet"
           }
          ],
          "scattergeo": [
           {
            "marker": {
             "colorbar": {
              "outlinewidth": 0,
              "ticks": ""
             }
            },
            "type": "scattergeo"
           }
          ],
          "scattergl": [
           {
            "marker": {
             "colorbar": {
              "outlinewidth": 0,
              "ticks": ""
             }
            },
            "type": "scattergl"
           }
          ],
          "scattermapbox": [
           {
            "marker": {
             "colorbar": {
              "outlinewidth": 0,
              "ticks": ""
             }
            },
            "type": "scattermapbox"
           }
          ],
          "scatterpolar": [
           {
            "marker": {
             "colorbar": {
              "outlinewidth": 0,
              "ticks": ""
             }
            },
            "type": "scatterpolar"
           }
          ],
          "scatterpolargl": [
           {
            "marker": {
             "colorbar": {
              "outlinewidth": 0,
              "ticks": ""
             }
            },
            "type": "scatterpolargl"
           }
          ],
          "scatterternary": [
           {
            "marker": {
             "colorbar": {
              "outlinewidth": 0,
              "ticks": ""
             }
            },
            "type": "scatterternary"
           }
          ],
          "surface": [
           {
            "colorbar": {
             "outlinewidth": 0,
             "ticks": ""
            },
            "colorscale": [
             [
              0,
              "#0d0887"
             ],
             [
              0.1111111111111111,
              "#46039f"
             ],
             [
              0.2222222222222222,
              "#7201a8"
             ],
             [
              0.3333333333333333,
              "#9c179e"
             ],
             [
              0.4444444444444444,
              "#bd3786"
             ],
             [
              0.5555555555555556,
              "#d8576b"
             ],
             [
              0.6666666666666666,
              "#ed7953"
             ],
             [
              0.7777777777777778,
              "#fb9f3a"
             ],
             [
              0.8888888888888888,
              "#fdca26"
             ],
             [
              1,
              "#f0f921"
             ]
            ],
            "type": "surface"
           }
          ],
          "table": [
           {
            "cells": {
             "fill": {
              "color": "#EBF0F8"
             },
             "line": {
              "color": "white"
             }
            },
            "header": {
             "fill": {
              "color": "#C8D4E3"
             },
             "line": {
              "color": "white"
             }
            },
            "type": "table"
           }
          ]
         },
         "layout": {
          "annotationdefaults": {
           "arrowcolor": "#2a3f5f",
           "arrowhead": 0,
           "arrowwidth": 1
          },
          "autotypenumbers": "strict",
          "coloraxis": {
           "colorbar": {
            "outlinewidth": 0,
            "ticks": ""
           }
          },
          "colorscale": {
           "diverging": [
            [
             0,
             "#8e0152"
            ],
            [
             0.1,
             "#c51b7d"
            ],
            [
             0.2,
             "#de77ae"
            ],
            [
             0.3,
             "#f1b6da"
            ],
            [
             0.4,
             "#fde0ef"
            ],
            [
             0.5,
             "#f7f7f7"
            ],
            [
             0.6,
             "#e6f5d0"
            ],
            [
             0.7,
             "#b8e186"
            ],
            [
             0.8,
             "#7fbc41"
            ],
            [
             0.9,
             "#4d9221"
            ],
            [
             1,
             "#276419"
            ]
           ],
           "sequential": [
            [
             0,
             "#0d0887"
            ],
            [
             0.1111111111111111,
             "#46039f"
            ],
            [
             0.2222222222222222,
             "#7201a8"
            ],
            [
             0.3333333333333333,
             "#9c179e"
            ],
            [
             0.4444444444444444,
             "#bd3786"
            ],
            [
             0.5555555555555556,
             "#d8576b"
            ],
            [
             0.6666666666666666,
             "#ed7953"
            ],
            [
             0.7777777777777778,
             "#fb9f3a"
            ],
            [
             0.8888888888888888,
             "#fdca26"
            ],
            [
             1,
             "#f0f921"
            ]
           ],
           "sequentialminus": [
            [
             0,
             "#0d0887"
            ],
            [
             0.1111111111111111,
             "#46039f"
            ],
            [
             0.2222222222222222,
             "#7201a8"
            ],
            [
             0.3333333333333333,
             "#9c179e"
            ],
            [
             0.4444444444444444,
             "#bd3786"
            ],
            [
             0.5555555555555556,
             "#d8576b"
            ],
            [
             0.6666666666666666,
             "#ed7953"
            ],
            [
             0.7777777777777778,
             "#fb9f3a"
            ],
            [
             0.8888888888888888,
             "#fdca26"
            ],
            [
             1,
             "#f0f921"
            ]
           ]
          },
          "colorway": [
           "#636efa",
           "#EF553B",
           "#00cc96",
           "#ab63fa",
           "#FFA15A",
           "#19d3f3",
           "#FF6692",
           "#B6E880",
           "#FF97FF",
           "#FECB52"
          ],
          "font": {
           "color": "#2a3f5f"
          },
          "geo": {
           "bgcolor": "white",
           "lakecolor": "white",
           "landcolor": "#E5ECF6",
           "showlakes": true,
           "showland": true,
           "subunitcolor": "white"
          },
          "hoverlabel": {
           "align": "left"
          },
          "hovermode": "closest",
          "mapbox": {
           "style": "light"
          },
          "paper_bgcolor": "white",
          "plot_bgcolor": "#E5ECF6",
          "polar": {
           "angularaxis": {
            "gridcolor": "white",
            "linecolor": "white",
            "ticks": ""
           },
           "bgcolor": "#E5ECF6",
           "radialaxis": {
            "gridcolor": "white",
            "linecolor": "white",
            "ticks": ""
           }
          },
          "scene": {
           "xaxis": {
            "backgroundcolor": "#E5ECF6",
            "gridcolor": "white",
            "gridwidth": 2,
            "linecolor": "white",
            "showbackground": true,
            "ticks": "",
            "zerolinecolor": "white"
           },
           "yaxis": {
            "backgroundcolor": "#E5ECF6",
            "gridcolor": "white",
            "gridwidth": 2,
            "linecolor": "white",
            "showbackground": true,
            "ticks": "",
            "zerolinecolor": "white"
           },
           "zaxis": {
            "backgroundcolor": "#E5ECF6",
            "gridcolor": "white",
            "gridwidth": 2,
            "linecolor": "white",
            "showbackground": true,
            "ticks": "",
            "zerolinecolor": "white"
           }
          },
          "shapedefaults": {
           "line": {
            "color": "#2a3f5f"
           }
          },
          "ternary": {
           "aaxis": {
            "gridcolor": "white",
            "linecolor": "white",
            "ticks": ""
           },
           "baxis": {
            "gridcolor": "white",
            "linecolor": "white",
            "ticks": ""
           },
           "bgcolor": "#E5ECF6",
           "caxis": {
            "gridcolor": "white",
            "linecolor": "white",
            "ticks": ""
           }
          },
          "title": {
           "x": 0.05
          },
          "xaxis": {
           "automargin": true,
           "gridcolor": "white",
           "linecolor": "white",
           "ticks": "",
           "title": {
            "standoff": 15
           },
           "zerolinecolor": "white",
           "zerolinewidth": 2
          },
          "yaxis": {
           "automargin": true,
           "gridcolor": "white",
           "linecolor": "white",
           "ticks": "",
           "title": {
            "standoff": 15
           },
           "zerolinecolor": "white",
           "zerolinewidth": 2
          }
         }
        },
        "title": {
         "text": "Revenue Comparison"
        },
        "xaxis": {
         "tickangle": -45,
         "title": {
          "text": "Month"
         }
        },
        "yaxis": {
         "title": {
          "text": "Total Revenue"
         }
        }
       }
      }
     },
     "metadata": {},
     "output_type": "display_data"
    }
   ],
   "source": [
    "\n",
    "import datetime\n",
    "import pandas as pd\n",
    "import plotly.graph_objects as go\n",
    "\n",
    "def get_current_financial_year(earnings_df):\n",
    "    \n",
    "    current_date = datetime.datetime.now()\n",
    "    print(current_date)\n",
    "    current_year = current_date.year\n",
    "    current_month = current_date.month\n",
    "\n",
    "    if current_month < 4:  # Financial year starts from April\n",
    "        start_year = current_year - 1\n",
    "        end_year = current_year\n",
    "    else:\n",
    "        start_year = current_year\n",
    "        end_year = current_year + 1\n",
    "\n",
    "    financial_year_start = pd.Timestamp(year=start_year, month=4, day=1)\n",
    "    \n",
    "    financial_year_end = pd.Timestamp(year=end_year, month=3, day=1)\n",
    "    financial_year_data = earnings_df[(earnings_df['earning_month'] >= financial_year_start) &\n",
    "                                      (earnings_df['earning_month'] <= financial_year_end)]\n",
    "    previous_financial_year_start = pd.Timestamp(year=start_year-1, month=4, day=1)\n",
    "    previous_financial_year_end = pd.Timestamp(year=end_year-1, month=3, day=31)\n",
    "    previous_year_data = earnings_df[(earnings_df['earning_month'] >= previous_financial_year_start) &\n",
    "                                     (earnings_df['earning_month'] <= previous_financial_year_end)]\n",
    "    \n",
    "    return financial_year_data, previous_year_data, financial_year_start, financial_year_end\n",
    "\n",
    "def plot_revenue_comparison(current_financial_year_data, previous_financial_year_data, financial_year_start, financial_year_end):\n",
    "    # Extract revenue data for current and previous financial years\n",
    "    combined_data = pd.concat([current_financial_year_data.assign(year='Current Financial Year'), \n",
    "                               previous_financial_year_data.assign(year='Previous Financial Year')])\n",
    "    current_year_revenue = combined_data.loc[combined_data['year'] == 'Current Financial Year', 'gross_total']\n",
    "    previous_year_revenue = combined_data.loc[combined_data['year'] == 'Previous Financial Year', 'gross_total']\n",
    "\n",
    "    # List of months\n",
    "    months = ['Jan', 'Feb', 'Mar', 'Apr', 'May', 'Jun',\n",
    "              'Jul', 'Aug', 'Sep', 'Oct', 'Nov', 'Dec']\n",
    "\n",
    "    # Create side-by-side bar charts\n",
    "    fig = go.Figure()\n",
    "    fig.add_trace(go.Bar(\n",
    "        x=months,\n",
    "        y=current_year_revenue,\n",
    "        name=f'{financial_year_start.year} - {financial_year_start.year + 1}',\n",
    "        marker_color='indianred'\n",
    "    ))\n",
    "    fig.add_trace(go.Bar(\n",
    "        x=months,\n",
    "        y=previous_year_revenue,\n",
    "        name=f'{financial_year_start.year - 1} - {financial_year_start.year}',\n",
    "        marker_color='lightsalmon'\n",
    "    ))\n",
    "\n",
    "    # Modify the tickangle of the xaxis for better readability\n",
    "    fig.update_layout(barmode='group', xaxis_tickangle=-45)\n",
    "\n",
    "    # Update figure layout and show the plot\n",
    "    fig.update_layout(title='Revenue Comparison',\n",
    "                      xaxis_title='Month',\n",
    "                      yaxis_title='Total Revenue')\n",
    "    fig.show()\n",
    "\n",
    "# Example usage\n",
    "current_financial_year_data, previous_financial_year_data, financial_year_start, financial_year_end = get_current_financial_year(earnings_df)\n",
    "plot_revenue_comparison(current_financial_year_data, previous_financial_year_data, financial_year_start, financial_year_end)\n"
   ]
  },
  {
   "cell_type": "code",
   "execution_count": 87,
   "metadata": {},
   "outputs": [
    {
     "name": "stderr",
     "output_type": "stream",
     "text": [
      "C:\\Users\\nitin\\AppData\\Local\\Temp\\ipykernel_14648\\1061047481.py:32: FutureWarning:\n",
      "\n",
      "The default value of numeric_only in DataFrameGroupBy.sum is deprecated. In a future version, numeric_only will default to False. Either specify numeric_only or select only columns which should be valid for the function.\n",
      "\n"
     ]
    },
    {
     "data": {
      "application/vnd.plotly.v1+json": {
       "config": {
        "plotlyServerURL": "https://plot.ly"
       },
       "data": [
        {
         "name": "Total Passenger Revenue",
         "type": "bar",
         "x": [
          "Apr",
          "May",
          "Jun",
          "Jul",
          "Aug",
          "Sep",
          "Oct",
          "Nov",
          "Dec",
          "Jan",
          "Feb",
          "Mar"
         ],
         "y": [
          73.05,
          75.74,
          77.74,
          88.3,
          85.73,
          86.01,
          79.79,
          90.8,
          91.42,
          93.45,
          88.86,
          93.3,
          88.08,
          94.12,
          89.98,
          118.58,
          104.87,
          96.08,
          99.53,
          99.76,
          108.01,
          106.67
         ]
        },
        {
         "name": "Freight",
         "type": "bar",
         "x": [
          "Apr",
          "May",
          "Jun",
          "Jul",
          "Aug",
          "Sep",
          "Oct",
          "Nov",
          "Dec",
          "Jan",
          "Feb",
          "Mar"
         ],
         "y": [
          28.34,
          25.69,
          35.26,
          40.54,
          34.4,
          38.91,
          30.02,
          43.15,
          36.83,
          28.82,
          28.25,
          32.89,
          30.74,
          28.04,
          36.14,
          34.99,
          43.98,
          40.17,
          42.38,
          31.11,
          40.69,
          28.05
         ]
        },
        {
         "name": "Other Coaching",
         "type": "bar",
         "x": [
          "Apr",
          "May",
          "Jun",
          "Jul",
          "Aug",
          "Sep",
          "Oct",
          "Nov",
          "Dec",
          "Jan",
          "Feb",
          "Mar"
         ],
         "y": [
          8.58,
          9.63,
          11.64,
          9.07,
          7.83,
          8.36,
          9.57,
          8.64,
          9.08,
          7.98,
          7.55,
          8.76,
          9.81,
          9.95,
          10.1,
          9.23,
          9.54,
          11.35,
          9.88,
          11.23,
          9.3,
          9.77
         ]
        },
        {
         "name": "Sundry",
         "type": "bar",
         "x": [
          "Apr",
          "May",
          "Jun",
          "Jul",
          "Aug",
          "Sep",
          "Oct",
          "Nov",
          "Dec",
          "Jan",
          "Feb",
          "Mar"
         ],
         "y": [
          0.76,
          0.55,
          1.14,
          0.71,
          1.27,
          2.95,
          0.99,
          2.13,
          1.95,
          1.1,
          1.99,
          2.14,
          1.23,
          1.31,
          1.78,
          1.86,
          1.86,
          1.58,
          1.07,
          1.65,
          1.99,
          1.33
         ]
        }
       ],
       "layout": {
        "barmode": "stack",
        "template": {
         "data": {
          "bar": [
           {
            "error_x": {
             "color": "#2a3f5f"
            },
            "error_y": {
             "color": "#2a3f5f"
            },
            "marker": {
             "line": {
              "color": "#E5ECF6",
              "width": 0.5
             },
             "pattern": {
              "fillmode": "overlay",
              "size": 10,
              "solidity": 0.2
             }
            },
            "type": "bar"
           }
          ],
          "barpolar": [
           {
            "marker": {
             "line": {
              "color": "#E5ECF6",
              "width": 0.5
             },
             "pattern": {
              "fillmode": "overlay",
              "size": 10,
              "solidity": 0.2
             }
            },
            "type": "barpolar"
           }
          ],
          "carpet": [
           {
            "aaxis": {
             "endlinecolor": "#2a3f5f",
             "gridcolor": "white",
             "linecolor": "white",
             "minorgridcolor": "white",
             "startlinecolor": "#2a3f5f"
            },
            "baxis": {
             "endlinecolor": "#2a3f5f",
             "gridcolor": "white",
             "linecolor": "white",
             "minorgridcolor": "white",
             "startlinecolor": "#2a3f5f"
            },
            "type": "carpet"
           }
          ],
          "choropleth": [
           {
            "colorbar": {
             "outlinewidth": 0,
             "ticks": ""
            },
            "type": "choropleth"
           }
          ],
          "contour": [
           {
            "colorbar": {
             "outlinewidth": 0,
             "ticks": ""
            },
            "colorscale": [
             [
              0,
              "#0d0887"
             ],
             [
              0.1111111111111111,
              "#46039f"
             ],
             [
              0.2222222222222222,
              "#7201a8"
             ],
             [
              0.3333333333333333,
              "#9c179e"
             ],
             [
              0.4444444444444444,
              "#bd3786"
             ],
             [
              0.5555555555555556,
              "#d8576b"
             ],
             [
              0.6666666666666666,
              "#ed7953"
             ],
             [
              0.7777777777777778,
              "#fb9f3a"
             ],
             [
              0.8888888888888888,
              "#fdca26"
             ],
             [
              1,
              "#f0f921"
             ]
            ],
            "type": "contour"
           }
          ],
          "contourcarpet": [
           {
            "colorbar": {
             "outlinewidth": 0,
             "ticks": ""
            },
            "type": "contourcarpet"
           }
          ],
          "heatmap": [
           {
            "colorbar": {
             "outlinewidth": 0,
             "ticks": ""
            },
            "colorscale": [
             [
              0,
              "#0d0887"
             ],
             [
              0.1111111111111111,
              "#46039f"
             ],
             [
              0.2222222222222222,
              "#7201a8"
             ],
             [
              0.3333333333333333,
              "#9c179e"
             ],
             [
              0.4444444444444444,
              "#bd3786"
             ],
             [
              0.5555555555555556,
              "#d8576b"
             ],
             [
              0.6666666666666666,
              "#ed7953"
             ],
             [
              0.7777777777777778,
              "#fb9f3a"
             ],
             [
              0.8888888888888888,
              "#fdca26"
             ],
             [
              1,
              "#f0f921"
             ]
            ],
            "type": "heatmap"
           }
          ],
          "heatmapgl": [
           {
            "colorbar": {
             "outlinewidth": 0,
             "ticks": ""
            },
            "colorscale": [
             [
              0,
              "#0d0887"
             ],
             [
              0.1111111111111111,
              "#46039f"
             ],
             [
              0.2222222222222222,
              "#7201a8"
             ],
             [
              0.3333333333333333,
              "#9c179e"
             ],
             [
              0.4444444444444444,
              "#bd3786"
             ],
             [
              0.5555555555555556,
              "#d8576b"
             ],
             [
              0.6666666666666666,
              "#ed7953"
             ],
             [
              0.7777777777777778,
              "#fb9f3a"
             ],
             [
              0.8888888888888888,
              "#fdca26"
             ],
             [
              1,
              "#f0f921"
             ]
            ],
            "type": "heatmapgl"
           }
          ],
          "histogram": [
           {
            "marker": {
             "pattern": {
              "fillmode": "overlay",
              "size": 10,
              "solidity": 0.2
             }
            },
            "type": "histogram"
           }
          ],
          "histogram2d": [
           {
            "colorbar": {
             "outlinewidth": 0,
             "ticks": ""
            },
            "colorscale": [
             [
              0,
              "#0d0887"
             ],
             [
              0.1111111111111111,
              "#46039f"
             ],
             [
              0.2222222222222222,
              "#7201a8"
             ],
             [
              0.3333333333333333,
              "#9c179e"
             ],
             [
              0.4444444444444444,
              "#bd3786"
             ],
             [
              0.5555555555555556,
              "#d8576b"
             ],
             [
              0.6666666666666666,
              "#ed7953"
             ],
             [
              0.7777777777777778,
              "#fb9f3a"
             ],
             [
              0.8888888888888888,
              "#fdca26"
             ],
             [
              1,
              "#f0f921"
             ]
            ],
            "type": "histogram2d"
           }
          ],
          "histogram2dcontour": [
           {
            "colorbar": {
             "outlinewidth": 0,
             "ticks": ""
            },
            "colorscale": [
             [
              0,
              "#0d0887"
             ],
             [
              0.1111111111111111,
              "#46039f"
             ],
             [
              0.2222222222222222,
              "#7201a8"
             ],
             [
              0.3333333333333333,
              "#9c179e"
             ],
             [
              0.4444444444444444,
              "#bd3786"
             ],
             [
              0.5555555555555556,
              "#d8576b"
             ],
             [
              0.6666666666666666,
              "#ed7953"
             ],
             [
              0.7777777777777778,
              "#fb9f3a"
             ],
             [
              0.8888888888888888,
              "#fdca26"
             ],
             [
              1,
              "#f0f921"
             ]
            ],
            "type": "histogram2dcontour"
           }
          ],
          "mesh3d": [
           {
            "colorbar": {
             "outlinewidth": 0,
             "ticks": ""
            },
            "type": "mesh3d"
           }
          ],
          "parcoords": [
           {
            "line": {
             "colorbar": {
              "outlinewidth": 0,
              "ticks": ""
             }
            },
            "type": "parcoords"
           }
          ],
          "pie": [
           {
            "automargin": true,
            "type": "pie"
           }
          ],
          "scatter": [
           {
            "fillpattern": {
             "fillmode": "overlay",
             "size": 10,
             "solidity": 0.2
            },
            "type": "scatter"
           }
          ],
          "scatter3d": [
           {
            "line": {
             "colorbar": {
              "outlinewidth": 0,
              "ticks": ""
             }
            },
            "marker": {
             "colorbar": {
              "outlinewidth": 0,
              "ticks": ""
             }
            },
            "type": "scatter3d"
           }
          ],
          "scattercarpet": [
           {
            "marker": {
             "colorbar": {
              "outlinewidth": 0,
              "ticks": ""
             }
            },
            "type": "scattercarpet"
           }
          ],
          "scattergeo": [
           {
            "marker": {
             "colorbar": {
              "outlinewidth": 0,
              "ticks": ""
             }
            },
            "type": "scattergeo"
           }
          ],
          "scattergl": [
           {
            "marker": {
             "colorbar": {
              "outlinewidth": 0,
              "ticks": ""
             }
            },
            "type": "scattergl"
           }
          ],
          "scattermapbox": [
           {
            "marker": {
             "colorbar": {
              "outlinewidth": 0,
              "ticks": ""
             }
            },
            "type": "scattermapbox"
           }
          ],
          "scatterpolar": [
           {
            "marker": {
             "colorbar": {
              "outlinewidth": 0,
              "ticks": ""
             }
            },
            "type": "scatterpolar"
           }
          ],
          "scatterpolargl": [
           {
            "marker": {
             "colorbar": {
              "outlinewidth": 0,
              "ticks": ""
             }
            },
            "type": "scatterpolargl"
           }
          ],
          "scatterternary": [
           {
            "marker": {
             "colorbar": {
              "outlinewidth": 0,
              "ticks": ""
             }
            },
            "type": "scatterternary"
           }
          ],
          "surface": [
           {
            "colorbar": {
             "outlinewidth": 0,
             "ticks": ""
            },
            "colorscale": [
             [
              0,
              "#0d0887"
             ],
             [
              0.1111111111111111,
              "#46039f"
             ],
             [
              0.2222222222222222,
              "#7201a8"
             ],
             [
              0.3333333333333333,
              "#9c179e"
             ],
             [
              0.4444444444444444,
              "#bd3786"
             ],
             [
              0.5555555555555556,
              "#d8576b"
             ],
             [
              0.6666666666666666,
              "#ed7953"
             ],
             [
              0.7777777777777778,
              "#fb9f3a"
             ],
             [
              0.8888888888888888,
              "#fdca26"
             ],
             [
              1,
              "#f0f921"
             ]
            ],
            "type": "surface"
           }
          ],
          "table": [
           {
            "cells": {
             "fill": {
              "color": "#EBF0F8"
             },
             "line": {
              "color": "white"
             }
            },
            "header": {
             "fill": {
              "color": "#C8D4E3"
             },
             "line": {
              "color": "white"
             }
            },
            "type": "table"
           }
          ]
         },
         "layout": {
          "annotationdefaults": {
           "arrowcolor": "#2a3f5f",
           "arrowhead": 0,
           "arrowwidth": 1
          },
          "autotypenumbers": "strict",
          "coloraxis": {
           "colorbar": {
            "outlinewidth": 0,
            "ticks": ""
           }
          },
          "colorscale": {
           "diverging": [
            [
             0,
             "#8e0152"
            ],
            [
             0.1,
             "#c51b7d"
            ],
            [
             0.2,
             "#de77ae"
            ],
            [
             0.3,
             "#f1b6da"
            ],
            [
             0.4,
             "#fde0ef"
            ],
            [
             0.5,
             "#f7f7f7"
            ],
            [
             0.6,
             "#e6f5d0"
            ],
            [
             0.7,
             "#b8e186"
            ],
            [
             0.8,
             "#7fbc41"
            ],
            [
             0.9,
             "#4d9221"
            ],
            [
             1,
             "#276419"
            ]
           ],
           "sequential": [
            [
             0,
             "#0d0887"
            ],
            [
             0.1111111111111111,
             "#46039f"
            ],
            [
             0.2222222222222222,
             "#7201a8"
            ],
            [
             0.3333333333333333,
             "#9c179e"
            ],
            [
             0.4444444444444444,
             "#bd3786"
            ],
            [
             0.5555555555555556,
             "#d8576b"
            ],
            [
             0.6666666666666666,
             "#ed7953"
            ],
            [
             0.7777777777777778,
             "#fb9f3a"
            ],
            [
             0.8888888888888888,
             "#fdca26"
            ],
            [
             1,
             "#f0f921"
            ]
           ],
           "sequentialminus": [
            [
             0,
             "#0d0887"
            ],
            [
             0.1111111111111111,
             "#46039f"
            ],
            [
             0.2222222222222222,
             "#7201a8"
            ],
            [
             0.3333333333333333,
             "#9c179e"
            ],
            [
             0.4444444444444444,
             "#bd3786"
            ],
            [
             0.5555555555555556,
             "#d8576b"
            ],
            [
             0.6666666666666666,
             "#ed7953"
            ],
            [
             0.7777777777777778,
             "#fb9f3a"
            ],
            [
             0.8888888888888888,
             "#fdca26"
            ],
            [
             1,
             "#f0f921"
            ]
           ]
          },
          "colorway": [
           "#636efa",
           "#EF553B",
           "#00cc96",
           "#ab63fa",
           "#FFA15A",
           "#19d3f3",
           "#FF6692",
           "#B6E880",
           "#FF97FF",
           "#FECB52"
          ],
          "font": {
           "color": "#2a3f5f"
          },
          "geo": {
           "bgcolor": "white",
           "lakecolor": "white",
           "landcolor": "#E5ECF6",
           "showlakes": true,
           "showland": true,
           "subunitcolor": "white"
          },
          "hoverlabel": {
           "align": "left"
          },
          "hovermode": "closest",
          "mapbox": {
           "style": "light"
          },
          "paper_bgcolor": "white",
          "plot_bgcolor": "#E5ECF6",
          "polar": {
           "angularaxis": {
            "gridcolor": "white",
            "linecolor": "white",
            "ticks": ""
           },
           "bgcolor": "#E5ECF6",
           "radialaxis": {
            "gridcolor": "white",
            "linecolor": "white",
            "ticks": ""
           }
          },
          "scene": {
           "xaxis": {
            "backgroundcolor": "#E5ECF6",
            "gridcolor": "white",
            "gridwidth": 2,
            "linecolor": "white",
            "showbackground": true,
            "ticks": "",
            "zerolinecolor": "white"
           },
           "yaxis": {
            "backgroundcolor": "#E5ECF6",
            "gridcolor": "white",
            "gridwidth": 2,
            "linecolor": "white",
            "showbackground": true,
            "ticks": "",
            "zerolinecolor": "white"
           },
           "zaxis": {
            "backgroundcolor": "#E5ECF6",
            "gridcolor": "white",
            "gridwidth": 2,
            "linecolor": "white",
            "showbackground": true,
            "ticks": "",
            "zerolinecolor": "white"
           }
          },
          "shapedefaults": {
           "line": {
            "color": "#2a3f5f"
           }
          },
          "ternary": {
           "aaxis": {
            "gridcolor": "white",
            "linecolor": "white",
            "ticks": ""
           },
           "baxis": {
            "gridcolor": "white",
            "linecolor": "white",
            "ticks": ""
           },
           "bgcolor": "#E5ECF6",
           "caxis": {
            "gridcolor": "white",
            "linecolor": "white",
            "ticks": ""
           }
          },
          "title": {
           "x": 0.05
          },
          "xaxis": {
           "automargin": true,
           "gridcolor": "white",
           "linecolor": "white",
           "ticks": "",
           "title": {
            "standoff": 15
           },
           "zerolinecolor": "white",
           "zerolinewidth": 2
          },
          "yaxis": {
           "automargin": true,
           "gridcolor": "white",
           "linecolor": "white",
           "ticks": "",
           "title": {
            "standoff": 15
           },
           "zerolinecolor": "white",
           "zerolinewidth": 2
          }
         }
        },
        "title": {
         "text": "Revenue Breakdown by Category"
        },
        "xaxis": {
         "title": {
          "text": "Month"
         }
        },
        "yaxis": {
         "title": {
          "text": "Total Revenue"
         }
        }
       }
      }
     },
     "metadata": {},
     "output_type": "display_data"
    }
   ],
   "source": [
    "import plotly.graph_objects as go\n",
    "import os\n",
    "\n",
    "def plot_stacked_bar_chart(earnings_df):\n",
    "    current_date = datetime.datetime.now()\n",
    "    current_year = current_date.year\n",
    "    current_month = current_date.month\n",
    "\n",
    "    if current_month < 4:  # Financial year starts from April\n",
    "        start_year = current_year - 1\n",
    "        end_year = current_year\n",
    "    else:\n",
    "        start_year = current_year\n",
    "        end_year = current_year + 1\n",
    "\n",
    "    financial_year_start = pd.Timestamp(year=start_year, month=4, day=1)\n",
    "    financial_year_end = pd.Timestamp(year=end_year, month=3, day=1)\n",
    "    financial_year_data = earnings_df[(earnings_df['earning_month'] >= financial_year_start) &\n",
    "                                      (earnings_df['earning_month'] <= financial_year_end)]\n",
    "    previous_financial_year_start = pd.Timestamp(\n",
    "        year=start_year-1, month=4, day=1)\n",
    "    previous_financial_year_end = pd.Timestamp(\n",
    "        year=end_year-1, month=3, day=31)\n",
    "    previous_year_data = earnings_df[(earnings_df['earning_month'] >= previous_financial_year_start) &\n",
    "                                     (earnings_df['earning_month'] <= previous_financial_year_end)]\n",
    "\n",
    "    # Extract revenue data for current and previous financial years\n",
    "    combined_data = pd.concat([financial_year_data.assign(year='Current Financial Year'),\n",
    "                               previous_year_data.assign(year='Previous Financial Year')])\n",
    "    \n",
    "    # Group by month and sum the revenue columns\n",
    "    grouped_data = combined_data.groupby('earning_month').sum()\n",
    "    \n",
    "    # Extracting required columns\n",
    "    total_pass = grouped_data['total_pass']\n",
    "    freight = grouped_data['freight']\n",
    "    other_coaching = grouped_data['other_coaching']\n",
    "    sundry = grouped_data['sundry']\n",
    "    \n",
    "    # List of months\n",
    "    months = ['Apr', 'May', 'Jun', 'Jul', 'Aug', 'Sep', 'Oct', 'Nov', 'Dec', 'Jan', 'Feb', 'Mar']\n",
    "    \n",
    "    # Create stacked bar chart\n",
    "    fig = go.Figure()\n",
    "    fig.add_trace(go.Bar(\n",
    "        x=months,\n",
    "        y=total_pass,\n",
    "        name='Total Passenger Revenue'\n",
    "    ))\n",
    "    fig.add_trace(go.Bar(\n",
    "        x=months,\n",
    "        y=freight,\n",
    "        name='Freight'\n",
    "    ))\n",
    "    fig.add_trace(go.Bar(\n",
    "        x=months,\n",
    "        y=other_coaching,\n",
    "        name='Other Coaching'\n",
    "    ))\n",
    "    fig.add_trace(go.Bar(\n",
    "        x=months,\n",
    "        y=sundry,\n",
    "        name='Sundry'\n",
    "    ))\n",
    "    \n",
    "    # Update figure layout\n",
    "    fig.update_layout(\n",
    "        barmode='stack',  # Stacked bar chart\n",
    "        title='Revenue Breakdown by Category',\n",
    "        xaxis_title='Month',\n",
    "        yaxis_title='Total Revenue'\n",
    "    )\n",
    "\n",
    "    return fig\n",
    "\n",
    "fig = plot_stacked_bar_chart(earnings_df=earnings_df)\n",
    "fig.show()\n"
   ]
  },
  {
   "cell_type": "code",
   "execution_count": 88,
   "metadata": {},
   "outputs": [
    {
     "name": "stderr",
     "output_type": "stream",
     "text": [
      "C:\\Users\\nitin\\AppData\\Local\\Temp\\ipykernel_14648\\1818857701.py:7: FutureWarning:\n",
      "\n",
      "The default value of numeric_only in DataFrameGroupBy.sum is deprecated. In a future version, numeric_only will default to False. Either specify numeric_only or select only columns which should be valid for the function.\n",
      "\n"
     ]
    },
    {
     "data": {
      "application/vnd.plotly.v1+json": {
       "config": {
        "plotlyServerURL": "https://plot.ly"
       },
       "data": [
        {
         "name": "Total Passenger Revenue",
         "type": "bar",
         "x": [
          "Apr",
          "May",
          "Jun",
          "Jul",
          "Aug",
          "Sep",
          "Oct",
          "Nov",
          "Dec",
          "Jan",
          "Feb",
          "Mar"
         ],
         "y": [
          73.05,
          75.74,
          77.74,
          88.3,
          85.73,
          86.01,
          79.79,
          90.8,
          91.42,
          93.45,
          88.86,
          93.3,
          88.08,
          94.12,
          89.98,
          118.58,
          104.87,
          96.08,
          99.53,
          99.76,
          108.01,
          106.67
         ]
        },
        {
         "name": "Freight",
         "type": "bar",
         "x": [
          "Apr",
          "May",
          "Jun",
          "Jul",
          "Aug",
          "Sep",
          "Oct",
          "Nov",
          "Dec",
          "Jan",
          "Feb",
          "Mar"
         ],
         "y": [
          28.34,
          25.69,
          35.26,
          40.54,
          34.4,
          38.91,
          30.02,
          43.15,
          36.83,
          28.82,
          28.25,
          32.89,
          30.74,
          28.04,
          36.14,
          34.99,
          43.98,
          40.17,
          42.38,
          31.11,
          40.69,
          28.05
         ]
        },
        {
         "name": "Other Coaching",
         "type": "bar",
         "x": [
          "Apr",
          "May",
          "Jun",
          "Jul",
          "Aug",
          "Sep",
          "Oct",
          "Nov",
          "Dec",
          "Jan",
          "Feb",
          "Mar"
         ],
         "y": [
          8.58,
          9.63,
          11.64,
          9.07,
          7.83,
          8.36,
          9.57,
          8.64,
          9.08,
          7.98,
          7.55,
          8.76,
          9.81,
          9.95,
          10.1,
          9.23,
          9.54,
          11.35,
          9.88,
          11.23,
          9.3,
          9.77
         ]
        },
        {
         "name": "Sundry",
         "type": "bar",
         "x": [
          "Apr",
          "May",
          "Jun",
          "Jul",
          "Aug",
          "Sep",
          "Oct",
          "Nov",
          "Dec",
          "Jan",
          "Feb",
          "Mar"
         ],
         "y": [
          0.76,
          0.55,
          1.14,
          0.71,
          1.27,
          2.95,
          0.99,
          2.13,
          1.95,
          1.1,
          1.99,
          2.14,
          1.23,
          1.31,
          1.78,
          1.86,
          1.86,
          1.58,
          1.07,
          1.65,
          1.99,
          1.33
         ]
        }
       ],
       "layout": {
        "barmode": "stack",
        "template": {
         "data": {
          "bar": [
           {
            "error_x": {
             "color": "#2a3f5f"
            },
            "error_y": {
             "color": "#2a3f5f"
            },
            "marker": {
             "line": {
              "color": "#E5ECF6",
              "width": 0.5
             },
             "pattern": {
              "fillmode": "overlay",
              "size": 10,
              "solidity": 0.2
             }
            },
            "type": "bar"
           }
          ],
          "barpolar": [
           {
            "marker": {
             "line": {
              "color": "#E5ECF6",
              "width": 0.5
             },
             "pattern": {
              "fillmode": "overlay",
              "size": 10,
              "solidity": 0.2
             }
            },
            "type": "barpolar"
           }
          ],
          "carpet": [
           {
            "aaxis": {
             "endlinecolor": "#2a3f5f",
             "gridcolor": "white",
             "linecolor": "white",
             "minorgridcolor": "white",
             "startlinecolor": "#2a3f5f"
            },
            "baxis": {
             "endlinecolor": "#2a3f5f",
             "gridcolor": "white",
             "linecolor": "white",
             "minorgridcolor": "white",
             "startlinecolor": "#2a3f5f"
            },
            "type": "carpet"
           }
          ],
          "choropleth": [
           {
            "colorbar": {
             "outlinewidth": 0,
             "ticks": ""
            },
            "type": "choropleth"
           }
          ],
          "contour": [
           {
            "colorbar": {
             "outlinewidth": 0,
             "ticks": ""
            },
            "colorscale": [
             [
              0,
              "#0d0887"
             ],
             [
              0.1111111111111111,
              "#46039f"
             ],
             [
              0.2222222222222222,
              "#7201a8"
             ],
             [
              0.3333333333333333,
              "#9c179e"
             ],
             [
              0.4444444444444444,
              "#bd3786"
             ],
             [
              0.5555555555555556,
              "#d8576b"
             ],
             [
              0.6666666666666666,
              "#ed7953"
             ],
             [
              0.7777777777777778,
              "#fb9f3a"
             ],
             [
              0.8888888888888888,
              "#fdca26"
             ],
             [
              1,
              "#f0f921"
             ]
            ],
            "type": "contour"
           }
          ],
          "contourcarpet": [
           {
            "colorbar": {
             "outlinewidth": 0,
             "ticks": ""
            },
            "type": "contourcarpet"
           }
          ],
          "heatmap": [
           {
            "colorbar": {
             "outlinewidth": 0,
             "ticks": ""
            },
            "colorscale": [
             [
              0,
              "#0d0887"
             ],
             [
              0.1111111111111111,
              "#46039f"
             ],
             [
              0.2222222222222222,
              "#7201a8"
             ],
             [
              0.3333333333333333,
              "#9c179e"
             ],
             [
              0.4444444444444444,
              "#bd3786"
             ],
             [
              0.5555555555555556,
              "#d8576b"
             ],
             [
              0.6666666666666666,
              "#ed7953"
             ],
             [
              0.7777777777777778,
              "#fb9f3a"
             ],
             [
              0.8888888888888888,
              "#fdca26"
             ],
             [
              1,
              "#f0f921"
             ]
            ],
            "type": "heatmap"
           }
          ],
          "heatmapgl": [
           {
            "colorbar": {
             "outlinewidth": 0,
             "ticks": ""
            },
            "colorscale": [
             [
              0,
              "#0d0887"
             ],
             [
              0.1111111111111111,
              "#46039f"
             ],
             [
              0.2222222222222222,
              "#7201a8"
             ],
             [
              0.3333333333333333,
              "#9c179e"
             ],
             [
              0.4444444444444444,
              "#bd3786"
             ],
             [
              0.5555555555555556,
              "#d8576b"
             ],
             [
              0.6666666666666666,
              "#ed7953"
             ],
             [
              0.7777777777777778,
              "#fb9f3a"
             ],
             [
              0.8888888888888888,
              "#fdca26"
             ],
             [
              1,
              "#f0f921"
             ]
            ],
            "type": "heatmapgl"
           }
          ],
          "histogram": [
           {
            "marker": {
             "pattern": {
              "fillmode": "overlay",
              "size": 10,
              "solidity": 0.2
             }
            },
            "type": "histogram"
           }
          ],
          "histogram2d": [
           {
            "colorbar": {
             "outlinewidth": 0,
             "ticks": ""
            },
            "colorscale": [
             [
              0,
              "#0d0887"
             ],
             [
              0.1111111111111111,
              "#46039f"
             ],
             [
              0.2222222222222222,
              "#7201a8"
             ],
             [
              0.3333333333333333,
              "#9c179e"
             ],
             [
              0.4444444444444444,
              "#bd3786"
             ],
             [
              0.5555555555555556,
              "#d8576b"
             ],
             [
              0.6666666666666666,
              "#ed7953"
             ],
             [
              0.7777777777777778,
              "#fb9f3a"
             ],
             [
              0.8888888888888888,
              "#fdca26"
             ],
             [
              1,
              "#f0f921"
             ]
            ],
            "type": "histogram2d"
           }
          ],
          "histogram2dcontour": [
           {
            "colorbar": {
             "outlinewidth": 0,
             "ticks": ""
            },
            "colorscale": [
             [
              0,
              "#0d0887"
             ],
             [
              0.1111111111111111,
              "#46039f"
             ],
             [
              0.2222222222222222,
              "#7201a8"
             ],
             [
              0.3333333333333333,
              "#9c179e"
             ],
             [
              0.4444444444444444,
              "#bd3786"
             ],
             [
              0.5555555555555556,
              "#d8576b"
             ],
             [
              0.6666666666666666,
              "#ed7953"
             ],
             [
              0.7777777777777778,
              "#fb9f3a"
             ],
             [
              0.8888888888888888,
              "#fdca26"
             ],
             [
              1,
              "#f0f921"
             ]
            ],
            "type": "histogram2dcontour"
           }
          ],
          "mesh3d": [
           {
            "colorbar": {
             "outlinewidth": 0,
             "ticks": ""
            },
            "type": "mesh3d"
           }
          ],
          "parcoords": [
           {
            "line": {
             "colorbar": {
              "outlinewidth": 0,
              "ticks": ""
             }
            },
            "type": "parcoords"
           }
          ],
          "pie": [
           {
            "automargin": true,
            "type": "pie"
           }
          ],
          "scatter": [
           {
            "fillpattern": {
             "fillmode": "overlay",
             "size": 10,
             "solidity": 0.2
            },
            "type": "scatter"
           }
          ],
          "scatter3d": [
           {
            "line": {
             "colorbar": {
              "outlinewidth": 0,
              "ticks": ""
             }
            },
            "marker": {
             "colorbar": {
              "outlinewidth": 0,
              "ticks": ""
             }
            },
            "type": "scatter3d"
           }
          ],
          "scattercarpet": [
           {
            "marker": {
             "colorbar": {
              "outlinewidth": 0,
              "ticks": ""
             }
            },
            "type": "scattercarpet"
           }
          ],
          "scattergeo": [
           {
            "marker": {
             "colorbar": {
              "outlinewidth": 0,
              "ticks": ""
             }
            },
            "type": "scattergeo"
           }
          ],
          "scattergl": [
           {
            "marker": {
             "colorbar": {
              "outlinewidth": 0,
              "ticks": ""
             }
            },
            "type": "scattergl"
           }
          ],
          "scattermapbox": [
           {
            "marker": {
             "colorbar": {
              "outlinewidth": 0,
              "ticks": ""
             }
            },
            "type": "scattermapbox"
           }
          ],
          "scatterpolar": [
           {
            "marker": {
             "colorbar": {
              "outlinewidth": 0,
              "ticks": ""
             }
            },
            "type": "scatterpolar"
           }
          ],
          "scatterpolargl": [
           {
            "marker": {
             "colorbar": {
              "outlinewidth": 0,
              "ticks": ""
             }
            },
            "type": "scatterpolargl"
           }
          ],
          "scatterternary": [
           {
            "marker": {
             "colorbar": {
              "outlinewidth": 0,
              "ticks": ""
             }
            },
            "type": "scatterternary"
           }
          ],
          "surface": [
           {
            "colorbar": {
             "outlinewidth": 0,
             "ticks": ""
            },
            "colorscale": [
             [
              0,
              "#0d0887"
             ],
             [
              0.1111111111111111,
              "#46039f"
             ],
             [
              0.2222222222222222,
              "#7201a8"
             ],
             [
              0.3333333333333333,
              "#9c179e"
             ],
             [
              0.4444444444444444,
              "#bd3786"
             ],
             [
              0.5555555555555556,
              "#d8576b"
             ],
             [
              0.6666666666666666,
              "#ed7953"
             ],
             [
              0.7777777777777778,
              "#fb9f3a"
             ],
             [
              0.8888888888888888,
              "#fdca26"
             ],
             [
              1,
              "#f0f921"
             ]
            ],
            "type": "surface"
           }
          ],
          "table": [
           {
            "cells": {
             "fill": {
              "color": "#EBF0F8"
             },
             "line": {
              "color": "white"
             }
            },
            "header": {
             "fill": {
              "color": "#C8D4E3"
             },
             "line": {
              "color": "white"
             }
            },
            "type": "table"
           }
          ]
         },
         "layout": {
          "annotationdefaults": {
           "arrowcolor": "#2a3f5f",
           "arrowhead": 0,
           "arrowwidth": 1
          },
          "autotypenumbers": "strict",
          "coloraxis": {
           "colorbar": {
            "outlinewidth": 0,
            "ticks": ""
           }
          },
          "colorscale": {
           "diverging": [
            [
             0,
             "#8e0152"
            ],
            [
             0.1,
             "#c51b7d"
            ],
            [
             0.2,
             "#de77ae"
            ],
            [
             0.3,
             "#f1b6da"
            ],
            [
             0.4,
             "#fde0ef"
            ],
            [
             0.5,
             "#f7f7f7"
            ],
            [
             0.6,
             "#e6f5d0"
            ],
            [
             0.7,
             "#b8e186"
            ],
            [
             0.8,
             "#7fbc41"
            ],
            [
             0.9,
             "#4d9221"
            ],
            [
             1,
             "#276419"
            ]
           ],
           "sequential": [
            [
             0,
             "#0d0887"
            ],
            [
             0.1111111111111111,
             "#46039f"
            ],
            [
             0.2222222222222222,
             "#7201a8"
            ],
            [
             0.3333333333333333,
             "#9c179e"
            ],
            [
             0.4444444444444444,
             "#bd3786"
            ],
            [
             0.5555555555555556,
             "#d8576b"
            ],
            [
             0.6666666666666666,
             "#ed7953"
            ],
            [
             0.7777777777777778,
             "#fb9f3a"
            ],
            [
             0.8888888888888888,
             "#fdca26"
            ],
            [
             1,
             "#f0f921"
            ]
           ],
           "sequentialminus": [
            [
             0,
             "#0d0887"
            ],
            [
             0.1111111111111111,
             "#46039f"
            ],
            [
             0.2222222222222222,
             "#7201a8"
            ],
            [
             0.3333333333333333,
             "#9c179e"
            ],
            [
             0.4444444444444444,
             "#bd3786"
            ],
            [
             0.5555555555555556,
             "#d8576b"
            ],
            [
             0.6666666666666666,
             "#ed7953"
            ],
            [
             0.7777777777777778,
             "#fb9f3a"
            ],
            [
             0.8888888888888888,
             "#fdca26"
            ],
            [
             1,
             "#f0f921"
            ]
           ]
          },
          "colorway": [
           "#636efa",
           "#EF553B",
           "#00cc96",
           "#ab63fa",
           "#FFA15A",
           "#19d3f3",
           "#FF6692",
           "#B6E880",
           "#FF97FF",
           "#FECB52"
          ],
          "font": {
           "color": "#2a3f5f"
          },
          "geo": {
           "bgcolor": "white",
           "lakecolor": "white",
           "landcolor": "#E5ECF6",
           "showlakes": true,
           "showland": true,
           "subunitcolor": "white"
          },
          "hoverlabel": {
           "align": "left"
          },
          "hovermode": "closest",
          "mapbox": {
           "style": "light"
          },
          "paper_bgcolor": "white",
          "plot_bgcolor": "#E5ECF6",
          "polar": {
           "angularaxis": {
            "gridcolor": "white",
            "linecolor": "white",
            "ticks": ""
           },
           "bgcolor": "#E5ECF6",
           "radialaxis": {
            "gridcolor": "white",
            "linecolor": "white",
            "ticks": ""
           }
          },
          "scene": {
           "xaxis": {
            "backgroundcolor": "#E5ECF6",
            "gridcolor": "white",
            "gridwidth": 2,
            "linecolor": "white",
            "showbackground": true,
            "ticks": "",
            "zerolinecolor": "white"
           },
           "yaxis": {
            "backgroundcolor": "#E5ECF6",
            "gridcolor": "white",
            "gridwidth": 2,
            "linecolor": "white",
            "showbackground": true,
            "ticks": "",
            "zerolinecolor": "white"
           },
           "zaxis": {
            "backgroundcolor": "#E5ECF6",
            "gridcolor": "white",
            "gridwidth": 2,
            "linecolor": "white",
            "showbackground": true,
            "ticks": "",
            "zerolinecolor": "white"
           }
          },
          "shapedefaults": {
           "line": {
            "color": "#2a3f5f"
           }
          },
          "ternary": {
           "aaxis": {
            "gridcolor": "white",
            "linecolor": "white",
            "ticks": ""
           },
           "baxis": {
            "gridcolor": "white",
            "linecolor": "white",
            "ticks": ""
           },
           "bgcolor": "#E5ECF6",
           "caxis": {
            "gridcolor": "white",
            "linecolor": "white",
            "ticks": ""
           }
          },
          "title": {
           "x": 0.05
          },
          "xaxis": {
           "automargin": true,
           "gridcolor": "white",
           "linecolor": "white",
           "ticks": "",
           "title": {
            "standoff": 15
           },
           "zerolinecolor": "white",
           "zerolinewidth": 2
          },
          "yaxis": {
           "automargin": true,
           "gridcolor": "white",
           "linecolor": "white",
           "ticks": "",
           "title": {
            "standoff": 15
           },
           "zerolinecolor": "white",
           "zerolinewidth": 2
          }
         }
        },
        "title": {
         "text": "Revenue Breakdown by Category"
        },
        "xaxis": {
         "title": {
          "text": "Month"
         }
        },
        "yaxis": {
         "title": {
          "text": "Total Revenue"
         }
        }
       }
      }
     },
     "metadata": {},
     "output_type": "display_data"
    }
   ],
   "source": [
    "import plotly.graph_objects as go\n",
    "import datetime\n",
    "import pandas as pd\n",
    "\n",
    "def plot_stacked_bar_chart(earnings_df):\n",
    "    # Group by month and sum the revenue columns\n",
    "    grouped_data = earnings_df.groupby('earning_month').sum()\n",
    "    \n",
    "    # List of months\n",
    "    months = ['Apr', 'May', 'Jun', 'Jul', 'Aug', 'Sep', 'Oct', 'Nov', 'Dec', 'Jan', 'Feb', 'Mar']\n",
    "    \n",
    "    # Extracting required columns\n",
    "    total_pass = grouped_data['total_pass']\n",
    "    freight = grouped_data['freight']\n",
    "    other_coaching = grouped_data['other_coaching']\n",
    "    sundry = grouped_data['sundry']\n",
    "    # Add other columns as needed\n",
    "    \n",
    "    # Create stacked bar chart\n",
    "    fig = go.Figure()\n",
    "    fig.add_trace(go.Bar(\n",
    "        x=months,\n",
    "        y=total_pass,\n",
    "        name='Total Passenger Revenue'\n",
    "    ))\n",
    "    fig.add_trace(go.Bar(\n",
    "        x=months,\n",
    "        y=freight,\n",
    "        name='Freight'\n",
    "    ))\n",
    "    fig.add_trace(go.Bar(\n",
    "        x=months,\n",
    "        y=other_coaching,\n",
    "        name='Other Coaching'\n",
    "    ))\n",
    "    fig.add_trace(go.Bar(\n",
    "        x=months,\n",
    "        y=sundry,\n",
    "        name='Sundry'\n",
    "    ))\n",
    "    # Add other traces for additional columns\n",
    "    \n",
    "    # Update figure layout\n",
    "    fig.update_layout(\n",
    "        barmode='stack',  # Stacked bar chart\n",
    "        title='Revenue Breakdown by Category',\n",
    "        xaxis_title='Month',\n",
    "        yaxis_title='Total Revenue'\n",
    "    )\n",
    "\n",
    "    return fig\n",
    "\n",
    "# Example usage: Assuming earnings_df is your DataFrame containing the necessary data\n",
    "fig = plot_stacked_bar_chart(earnings_df)\n",
    "fig.show()\n"
   ]
  },
  {
   "cell_type": "code",
   "execution_count": 89,
   "metadata": {},
   "outputs": [
    {
     "name": "stderr",
     "output_type": "stream",
     "text": [
      "C:\\Users\\nitin\\AppData\\Local\\Temp\\ipykernel_14648\\1818857701.py:7: FutureWarning:\n",
      "\n",
      "The default value of numeric_only in DataFrameGroupBy.sum is deprecated. In a future version, numeric_only will default to False. Either specify numeric_only or select only columns which should be valid for the function.\n",
      "\n"
     ]
    },
    {
     "data": {
      "application/vnd.plotly.v1+json": {
       "config": {
        "plotlyServerURL": "https://plot.ly"
       },
       "data": [
        {
         "name": "Total Passenger Revenue",
         "type": "bar",
         "x": [
          "Apr",
          "May",
          "Jun",
          "Jul",
          "Aug",
          "Sep",
          "Oct",
          "Nov",
          "Dec",
          "Jan",
          "Feb",
          "Mar"
         ],
         "y": [
          73.05,
          75.74,
          77.74,
          88.3,
          85.73,
          86.01,
          79.79,
          90.8,
          91.42,
          93.45,
          88.86,
          93.3,
          88.08,
          94.12,
          89.98,
          118.58,
          104.87,
          96.08,
          99.53,
          99.76,
          108.01,
          106.67
         ]
        },
        {
         "name": "Freight",
         "type": "bar",
         "x": [
          "Apr",
          "May",
          "Jun",
          "Jul",
          "Aug",
          "Sep",
          "Oct",
          "Nov",
          "Dec",
          "Jan",
          "Feb",
          "Mar"
         ],
         "y": [
          28.34,
          25.69,
          35.26,
          40.54,
          34.4,
          38.91,
          30.02,
          43.15,
          36.83,
          28.82,
          28.25,
          32.89,
          30.74,
          28.04,
          36.14,
          34.99,
          43.98,
          40.17,
          42.38,
          31.11,
          40.69,
          28.05
         ]
        },
        {
         "name": "Other Coaching",
         "type": "bar",
         "x": [
          "Apr",
          "May",
          "Jun",
          "Jul",
          "Aug",
          "Sep",
          "Oct",
          "Nov",
          "Dec",
          "Jan",
          "Feb",
          "Mar"
         ],
         "y": [
          8.58,
          9.63,
          11.64,
          9.07,
          7.83,
          8.36,
          9.57,
          8.64,
          9.08,
          7.98,
          7.55,
          8.76,
          9.81,
          9.95,
          10.1,
          9.23,
          9.54,
          11.35,
          9.88,
          11.23,
          9.3,
          9.77
         ]
        },
        {
         "name": "Sundry",
         "type": "bar",
         "x": [
          "Apr",
          "May",
          "Jun",
          "Jul",
          "Aug",
          "Sep",
          "Oct",
          "Nov",
          "Dec",
          "Jan",
          "Feb",
          "Mar"
         ],
         "y": [
          0.76,
          0.55,
          1.14,
          0.71,
          1.27,
          2.95,
          0.99,
          2.13,
          1.95,
          1.1,
          1.99,
          2.14,
          1.23,
          1.31,
          1.78,
          1.86,
          1.86,
          1.58,
          1.07,
          1.65,
          1.99,
          1.33
         ]
        }
       ],
       "layout": {
        "barmode": "stack",
        "template": {
         "data": {
          "bar": [
           {
            "error_x": {
             "color": "#2a3f5f"
            },
            "error_y": {
             "color": "#2a3f5f"
            },
            "marker": {
             "line": {
              "color": "#E5ECF6",
              "width": 0.5
             },
             "pattern": {
              "fillmode": "overlay",
              "size": 10,
              "solidity": 0.2
             }
            },
            "type": "bar"
           }
          ],
          "barpolar": [
           {
            "marker": {
             "line": {
              "color": "#E5ECF6",
              "width": 0.5
             },
             "pattern": {
              "fillmode": "overlay",
              "size": 10,
              "solidity": 0.2
             }
            },
            "type": "barpolar"
           }
          ],
          "carpet": [
           {
            "aaxis": {
             "endlinecolor": "#2a3f5f",
             "gridcolor": "white",
             "linecolor": "white",
             "minorgridcolor": "white",
             "startlinecolor": "#2a3f5f"
            },
            "baxis": {
             "endlinecolor": "#2a3f5f",
             "gridcolor": "white",
             "linecolor": "white",
             "minorgridcolor": "white",
             "startlinecolor": "#2a3f5f"
            },
            "type": "carpet"
           }
          ],
          "choropleth": [
           {
            "colorbar": {
             "outlinewidth": 0,
             "ticks": ""
            },
            "type": "choropleth"
           }
          ],
          "contour": [
           {
            "colorbar": {
             "outlinewidth": 0,
             "ticks": ""
            },
            "colorscale": [
             [
              0,
              "#0d0887"
             ],
             [
              0.1111111111111111,
              "#46039f"
             ],
             [
              0.2222222222222222,
              "#7201a8"
             ],
             [
              0.3333333333333333,
              "#9c179e"
             ],
             [
              0.4444444444444444,
              "#bd3786"
             ],
             [
              0.5555555555555556,
              "#d8576b"
             ],
             [
              0.6666666666666666,
              "#ed7953"
             ],
             [
              0.7777777777777778,
              "#fb9f3a"
             ],
             [
              0.8888888888888888,
              "#fdca26"
             ],
             [
              1,
              "#f0f921"
             ]
            ],
            "type": "contour"
           }
          ],
          "contourcarpet": [
           {
            "colorbar": {
             "outlinewidth": 0,
             "ticks": ""
            },
            "type": "contourcarpet"
           }
          ],
          "heatmap": [
           {
            "colorbar": {
             "outlinewidth": 0,
             "ticks": ""
            },
            "colorscale": [
             [
              0,
              "#0d0887"
             ],
             [
              0.1111111111111111,
              "#46039f"
             ],
             [
              0.2222222222222222,
              "#7201a8"
             ],
             [
              0.3333333333333333,
              "#9c179e"
             ],
             [
              0.4444444444444444,
              "#bd3786"
             ],
             [
              0.5555555555555556,
              "#d8576b"
             ],
             [
              0.6666666666666666,
              "#ed7953"
             ],
             [
              0.7777777777777778,
              "#fb9f3a"
             ],
             [
              0.8888888888888888,
              "#fdca26"
             ],
             [
              1,
              "#f0f921"
             ]
            ],
            "type": "heatmap"
           }
          ],
          "heatmapgl": [
           {
            "colorbar": {
             "outlinewidth": 0,
             "ticks": ""
            },
            "colorscale": [
             [
              0,
              "#0d0887"
             ],
             [
              0.1111111111111111,
              "#46039f"
             ],
             [
              0.2222222222222222,
              "#7201a8"
             ],
             [
              0.3333333333333333,
              "#9c179e"
             ],
             [
              0.4444444444444444,
              "#bd3786"
             ],
             [
              0.5555555555555556,
              "#d8576b"
             ],
             [
              0.6666666666666666,
              "#ed7953"
             ],
             [
              0.7777777777777778,
              "#fb9f3a"
             ],
             [
              0.8888888888888888,
              "#fdca26"
             ],
             [
              1,
              "#f0f921"
             ]
            ],
            "type": "heatmapgl"
           }
          ],
          "histogram": [
           {
            "marker": {
             "pattern": {
              "fillmode": "overlay",
              "size": 10,
              "solidity": 0.2
             }
            },
            "type": "histogram"
           }
          ],
          "histogram2d": [
           {
            "colorbar": {
             "outlinewidth": 0,
             "ticks": ""
            },
            "colorscale": [
             [
              0,
              "#0d0887"
             ],
             [
              0.1111111111111111,
              "#46039f"
             ],
             [
              0.2222222222222222,
              "#7201a8"
             ],
             [
              0.3333333333333333,
              "#9c179e"
             ],
             [
              0.4444444444444444,
              "#bd3786"
             ],
             [
              0.5555555555555556,
              "#d8576b"
             ],
             [
              0.6666666666666666,
              "#ed7953"
             ],
             [
              0.7777777777777778,
              "#fb9f3a"
             ],
             [
              0.8888888888888888,
              "#fdca26"
             ],
             [
              1,
              "#f0f921"
             ]
            ],
            "type": "histogram2d"
           }
          ],
          "histogram2dcontour": [
           {
            "colorbar": {
             "outlinewidth": 0,
             "ticks": ""
            },
            "colorscale": [
             [
              0,
              "#0d0887"
             ],
             [
              0.1111111111111111,
              "#46039f"
             ],
             [
              0.2222222222222222,
              "#7201a8"
             ],
             [
              0.3333333333333333,
              "#9c179e"
             ],
             [
              0.4444444444444444,
              "#bd3786"
             ],
             [
              0.5555555555555556,
              "#d8576b"
             ],
             [
              0.6666666666666666,
              "#ed7953"
             ],
             [
              0.7777777777777778,
              "#fb9f3a"
             ],
             [
              0.8888888888888888,
              "#fdca26"
             ],
             [
              1,
              "#f0f921"
             ]
            ],
            "type": "histogram2dcontour"
           }
          ],
          "mesh3d": [
           {
            "colorbar": {
             "outlinewidth": 0,
             "ticks": ""
            },
            "type": "mesh3d"
           }
          ],
          "parcoords": [
           {
            "line": {
             "colorbar": {
              "outlinewidth": 0,
              "ticks": ""
             }
            },
            "type": "parcoords"
           }
          ],
          "pie": [
           {
            "automargin": true,
            "type": "pie"
           }
          ],
          "scatter": [
           {
            "fillpattern": {
             "fillmode": "overlay",
             "size": 10,
             "solidity": 0.2
            },
            "type": "scatter"
           }
          ],
          "scatter3d": [
           {
            "line": {
             "colorbar": {
              "outlinewidth": 0,
              "ticks": ""
             }
            },
            "marker": {
             "colorbar": {
              "outlinewidth": 0,
              "ticks": ""
             }
            },
            "type": "scatter3d"
           }
          ],
          "scattercarpet": [
           {
            "marker": {
             "colorbar": {
              "outlinewidth": 0,
              "ticks": ""
             }
            },
            "type": "scattercarpet"
           }
          ],
          "scattergeo": [
           {
            "marker": {
             "colorbar": {
              "outlinewidth": 0,
              "ticks": ""
             }
            },
            "type": "scattergeo"
           }
          ],
          "scattergl": [
           {
            "marker": {
             "colorbar": {
              "outlinewidth": 0,
              "ticks": ""
             }
            },
            "type": "scattergl"
           }
          ],
          "scattermapbox": [
           {
            "marker": {
             "colorbar": {
              "outlinewidth": 0,
              "ticks": ""
             }
            },
            "type": "scattermapbox"
           }
          ],
          "scatterpolar": [
           {
            "marker": {
             "colorbar": {
              "outlinewidth": 0,
              "ticks": ""
             }
            },
            "type": "scatterpolar"
           }
          ],
          "scatterpolargl": [
           {
            "marker": {
             "colorbar": {
              "outlinewidth": 0,
              "ticks": ""
             }
            },
            "type": "scatterpolargl"
           }
          ],
          "scatterternary": [
           {
            "marker": {
             "colorbar": {
              "outlinewidth": 0,
              "ticks": ""
             }
            },
            "type": "scatterternary"
           }
          ],
          "surface": [
           {
            "colorbar": {
             "outlinewidth": 0,
             "ticks": ""
            },
            "colorscale": [
             [
              0,
              "#0d0887"
             ],
             [
              0.1111111111111111,
              "#46039f"
             ],
             [
              0.2222222222222222,
              "#7201a8"
             ],
             [
              0.3333333333333333,
              "#9c179e"
             ],
             [
              0.4444444444444444,
              "#bd3786"
             ],
             [
              0.5555555555555556,
              "#d8576b"
             ],
             [
              0.6666666666666666,
              "#ed7953"
             ],
             [
              0.7777777777777778,
              "#fb9f3a"
             ],
             [
              0.8888888888888888,
              "#fdca26"
             ],
             [
              1,
              "#f0f921"
             ]
            ],
            "type": "surface"
           }
          ],
          "table": [
           {
            "cells": {
             "fill": {
              "color": "#EBF0F8"
             },
             "line": {
              "color": "white"
             }
            },
            "header": {
             "fill": {
              "color": "#C8D4E3"
             },
             "line": {
              "color": "white"
             }
            },
            "type": "table"
           }
          ]
         },
         "layout": {
          "annotationdefaults": {
           "arrowcolor": "#2a3f5f",
           "arrowhead": 0,
           "arrowwidth": 1
          },
          "autotypenumbers": "strict",
          "coloraxis": {
           "colorbar": {
            "outlinewidth": 0,
            "ticks": ""
           }
          },
          "colorscale": {
           "diverging": [
            [
             0,
             "#8e0152"
            ],
            [
             0.1,
             "#c51b7d"
            ],
            [
             0.2,
             "#de77ae"
            ],
            [
             0.3,
             "#f1b6da"
            ],
            [
             0.4,
             "#fde0ef"
            ],
            [
             0.5,
             "#f7f7f7"
            ],
            [
             0.6,
             "#e6f5d0"
            ],
            [
             0.7,
             "#b8e186"
            ],
            [
             0.8,
             "#7fbc41"
            ],
            [
             0.9,
             "#4d9221"
            ],
            [
             1,
             "#276419"
            ]
           ],
           "sequential": [
            [
             0,
             "#0d0887"
            ],
            [
             0.1111111111111111,
             "#46039f"
            ],
            [
             0.2222222222222222,
             "#7201a8"
            ],
            [
             0.3333333333333333,
             "#9c179e"
            ],
            [
             0.4444444444444444,
             "#bd3786"
            ],
            [
             0.5555555555555556,
             "#d8576b"
            ],
            [
             0.6666666666666666,
             "#ed7953"
            ],
            [
             0.7777777777777778,
             "#fb9f3a"
            ],
            [
             0.8888888888888888,
             "#fdca26"
            ],
            [
             1,
             "#f0f921"
            ]
           ],
           "sequentialminus": [
            [
             0,
             "#0d0887"
            ],
            [
             0.1111111111111111,
             "#46039f"
            ],
            [
             0.2222222222222222,
             "#7201a8"
            ],
            [
             0.3333333333333333,
             "#9c179e"
            ],
            [
             0.4444444444444444,
             "#bd3786"
            ],
            [
             0.5555555555555556,
             "#d8576b"
            ],
            [
             0.6666666666666666,
             "#ed7953"
            ],
            [
             0.7777777777777778,
             "#fb9f3a"
            ],
            [
             0.8888888888888888,
             "#fdca26"
            ],
            [
             1,
             "#f0f921"
            ]
           ]
          },
          "colorway": [
           "#636efa",
           "#EF553B",
           "#00cc96",
           "#ab63fa",
           "#FFA15A",
           "#19d3f3",
           "#FF6692",
           "#B6E880",
           "#FF97FF",
           "#FECB52"
          ],
          "font": {
           "color": "#2a3f5f"
          },
          "geo": {
           "bgcolor": "white",
           "lakecolor": "white",
           "landcolor": "#E5ECF6",
           "showlakes": true,
           "showland": true,
           "subunitcolor": "white"
          },
          "hoverlabel": {
           "align": "left"
          },
          "hovermode": "closest",
          "mapbox": {
           "style": "light"
          },
          "paper_bgcolor": "white",
          "plot_bgcolor": "#E5ECF6",
          "polar": {
           "angularaxis": {
            "gridcolor": "white",
            "linecolor": "white",
            "ticks": ""
           },
           "bgcolor": "#E5ECF6",
           "radialaxis": {
            "gridcolor": "white",
            "linecolor": "white",
            "ticks": ""
           }
          },
          "scene": {
           "xaxis": {
            "backgroundcolor": "#E5ECF6",
            "gridcolor": "white",
            "gridwidth": 2,
            "linecolor": "white",
            "showbackground": true,
            "ticks": "",
            "zerolinecolor": "white"
           },
           "yaxis": {
            "backgroundcolor": "#E5ECF6",
            "gridcolor": "white",
            "gridwidth": 2,
            "linecolor": "white",
            "showbackground": true,
            "ticks": "",
            "zerolinecolor": "white"
           },
           "zaxis": {
            "backgroundcolor": "#E5ECF6",
            "gridcolor": "white",
            "gridwidth": 2,
            "linecolor": "white",
            "showbackground": true,
            "ticks": "",
            "zerolinecolor": "white"
           }
          },
          "shapedefaults": {
           "line": {
            "color": "#2a3f5f"
           }
          },
          "ternary": {
           "aaxis": {
            "gridcolor": "white",
            "linecolor": "white",
            "ticks": ""
           },
           "baxis": {
            "gridcolor": "white",
            "linecolor": "white",
            "ticks": ""
           },
           "bgcolor": "#E5ECF6",
           "caxis": {
            "gridcolor": "white",
            "linecolor": "white",
            "ticks": ""
           }
          },
          "title": {
           "x": 0.05
          },
          "xaxis": {
           "automargin": true,
           "gridcolor": "white",
           "linecolor": "white",
           "ticks": "",
           "title": {
            "standoff": 15
           },
           "zerolinecolor": "white",
           "zerolinewidth": 2
          },
          "yaxis": {
           "automargin": true,
           "gridcolor": "white",
           "linecolor": "white",
           "ticks": "",
           "title": {
            "standoff": 15
           },
           "zerolinecolor": "white",
           "zerolinewidth": 2
          }
         }
        },
        "title": {
         "text": "Revenue Breakdown by Category"
        },
        "xaxis": {
         "title": {
          "text": "Month"
         }
        },
        "yaxis": {
         "title": {
          "text": "Total Revenue"
         }
        }
       }
      }
     },
     "metadata": {},
     "output_type": "display_data"
    }
   ],
   "source": [
    "import plotly.graph_objects as go\n",
    "import datetime\n",
    "import pandas as pd\n",
    "\n",
    "def plot_stacked_bar_chart(earnings_df):\n",
    "    # Group by month and sum the revenue columns\n",
    "    grouped_data = earnings_df.groupby('earning_month').sum()\n",
    "    \n",
    "    # List of months\n",
    "    months = ['Apr', 'May', 'Jun', 'Jul', 'Aug', 'Sep', 'Oct', 'Nov', 'Dec', 'Jan', 'Feb', 'Mar']\n",
    "    \n",
    "    # Extracting required columns\n",
    "    total_pass = grouped_data['total_pass']\n",
    "    freight = grouped_data['freight']\n",
    "    other_coaching = grouped_data['other_coaching']\n",
    "    sundry = grouped_data['sundry']\n",
    "    # Add other columns as needed\n",
    "    \n",
    "    # Create stacked bar chart\n",
    "    fig = go.Figure()\n",
    "    fig.add_trace(go.Bar(\n",
    "        x=months,\n",
    "        y=total_pass,\n",
    "        name='Total Passenger Revenue'\n",
    "    ))\n",
    "    fig.add_trace(go.Bar(\n",
    "        x=months,\n",
    "        y=freight,\n",
    "        name='Freight'\n",
    "    ))\n",
    "    fig.add_trace(go.Bar(\n",
    "        x=months,\n",
    "        y=other_coaching,\n",
    "        name='Other Coaching'\n",
    "    ))\n",
    "    fig.add_trace(go.Bar(\n",
    "        x=months,\n",
    "        y=sundry,\n",
    "        name='Sundry'\n",
    "    ))\n",
    "    # Add other traces for additional columns\n",
    "    \n",
    "    # Update figure layout\n",
    "    fig.update_layout(\n",
    "        barmode='stack',  # Stacked bar chart\n",
    "        title='Revenue Breakdown by Category',\n",
    "        xaxis_title='Month',\n",
    "        yaxis_title='Total Revenue'\n",
    "    )\n",
    "\n",
    "    return fig\n",
    "\n",
    "# Example usage: Assuming earnings_df is your DataFrame containing the necessary data\n",
    "fig = plot_stacked_bar_chart(earnings_df)\n",
    "fig.show()\n"
   ]
  },
  {
   "cell_type": "code",
   "execution_count": 93,
   "metadata": {},
   "outputs": [
    {
     "name": "stderr",
     "output_type": "stream",
     "text": [
      "C:\\Users\\nitin\\AppData\\Local\\Temp\\ipykernel_14648\\744751057.py:7: FutureWarning:\n",
      "\n",
      "The default value of numeric_only in DataFrameGroupBy.sum is deprecated. In a future version, numeric_only will default to False. Either specify numeric_only or select only columns which should be valid for the function.\n",
      "\n"
     ]
    },
    {
     "data": {
      "application/vnd.plotly.v1+json": {
       "config": {
        "plotlyServerURL": "https://plot.ly"
       },
       "data": [
        {
         "mode": "lines+markers",
         "name": "Total Passenger Revenue",
         "type": "scatter",
         "x": [
          "Apr",
          "May",
          "Jun",
          "Jul",
          "Aug",
          "Sep",
          "Oct",
          "Nov",
          "Dec",
          "Jan",
          "Feb",
          "Mar"
         ],
         "y": [
          73.05,
          75.74,
          77.74,
          88.3,
          85.73,
          86.01,
          79.79,
          90.8,
          91.42,
          93.45,
          88.86,
          93.3,
          88.08,
          94.12,
          89.98,
          118.58,
          104.87,
          96.08,
          99.53,
          99.76,
          108.01,
          106.67
         ]
        },
        {
         "mode": "lines+markers",
         "name": "Freight",
         "type": "scatter",
         "x": [
          "Apr",
          "May",
          "Jun",
          "Jul",
          "Aug",
          "Sep",
          "Oct",
          "Nov",
          "Dec",
          "Jan",
          "Feb",
          "Mar"
         ],
         "y": [
          28.34,
          25.69,
          35.26,
          40.54,
          34.4,
          38.91,
          30.02,
          43.15,
          36.83,
          28.82,
          28.25,
          32.89,
          30.74,
          28.04,
          36.14,
          34.99,
          43.98,
          40.17,
          42.38,
          31.11,
          40.69,
          28.05
         ]
        },
        {
         "mode": "lines+markers",
         "name": "Other Coaching",
         "type": "scatter",
         "x": [
          "Apr",
          "May",
          "Jun",
          "Jul",
          "Aug",
          "Sep",
          "Oct",
          "Nov",
          "Dec",
          "Jan",
          "Feb",
          "Mar"
         ],
         "y": [
          8.58,
          9.63,
          11.64,
          9.07,
          7.83,
          8.36,
          9.57,
          8.64,
          9.08,
          7.98,
          7.55,
          8.76,
          9.81,
          9.95,
          10.1,
          9.23,
          9.54,
          11.35,
          9.88,
          11.23,
          9.3,
          9.77
         ]
        },
        {
         "mode": "lines+markers",
         "name": "Sundry",
         "type": "scatter",
         "x": [
          "Apr",
          "May",
          "Jun",
          "Jul",
          "Aug",
          "Sep",
          "Oct",
          "Nov",
          "Dec",
          "Jan",
          "Feb",
          "Mar"
         ],
         "y": [
          0.76,
          0.55,
          1.14,
          0.71,
          1.27,
          2.95,
          0.99,
          2.13,
          1.95,
          1.1,
          1.99,
          2.14,
          1.23,
          1.31,
          1.78,
          1.86,
          1.86,
          1.58,
          1.07,
          1.65,
          1.99,
          1.33
         ]
        }
       ],
       "layout": {
        "template": {
         "data": {
          "bar": [
           {
            "error_x": {
             "color": "#2a3f5f"
            },
            "error_y": {
             "color": "#2a3f5f"
            },
            "marker": {
             "line": {
              "color": "#E5ECF6",
              "width": 0.5
             },
             "pattern": {
              "fillmode": "overlay",
              "size": 10,
              "solidity": 0.2
             }
            },
            "type": "bar"
           }
          ],
          "barpolar": [
           {
            "marker": {
             "line": {
              "color": "#E5ECF6",
              "width": 0.5
             },
             "pattern": {
              "fillmode": "overlay",
              "size": 10,
              "solidity": 0.2
             }
            },
            "type": "barpolar"
           }
          ],
          "carpet": [
           {
            "aaxis": {
             "endlinecolor": "#2a3f5f",
             "gridcolor": "white",
             "linecolor": "white",
             "minorgridcolor": "white",
             "startlinecolor": "#2a3f5f"
            },
            "baxis": {
             "endlinecolor": "#2a3f5f",
             "gridcolor": "white",
             "linecolor": "white",
             "minorgridcolor": "white",
             "startlinecolor": "#2a3f5f"
            },
            "type": "carpet"
           }
          ],
          "choropleth": [
           {
            "colorbar": {
             "outlinewidth": 0,
             "ticks": ""
            },
            "type": "choropleth"
           }
          ],
          "contour": [
           {
            "colorbar": {
             "outlinewidth": 0,
             "ticks": ""
            },
            "colorscale": [
             [
              0,
              "#0d0887"
             ],
             [
              0.1111111111111111,
              "#46039f"
             ],
             [
              0.2222222222222222,
              "#7201a8"
             ],
             [
              0.3333333333333333,
              "#9c179e"
             ],
             [
              0.4444444444444444,
              "#bd3786"
             ],
             [
              0.5555555555555556,
              "#d8576b"
             ],
             [
              0.6666666666666666,
              "#ed7953"
             ],
             [
              0.7777777777777778,
              "#fb9f3a"
             ],
             [
              0.8888888888888888,
              "#fdca26"
             ],
             [
              1,
              "#f0f921"
             ]
            ],
            "type": "contour"
           }
          ],
          "contourcarpet": [
           {
            "colorbar": {
             "outlinewidth": 0,
             "ticks": ""
            },
            "type": "contourcarpet"
           }
          ],
          "heatmap": [
           {
            "colorbar": {
             "outlinewidth": 0,
             "ticks": ""
            },
            "colorscale": [
             [
              0,
              "#0d0887"
             ],
             [
              0.1111111111111111,
              "#46039f"
             ],
             [
              0.2222222222222222,
              "#7201a8"
             ],
             [
              0.3333333333333333,
              "#9c179e"
             ],
             [
              0.4444444444444444,
              "#bd3786"
             ],
             [
              0.5555555555555556,
              "#d8576b"
             ],
             [
              0.6666666666666666,
              "#ed7953"
             ],
             [
              0.7777777777777778,
              "#fb9f3a"
             ],
             [
              0.8888888888888888,
              "#fdca26"
             ],
             [
              1,
              "#f0f921"
             ]
            ],
            "type": "heatmap"
           }
          ],
          "heatmapgl": [
           {
            "colorbar": {
             "outlinewidth": 0,
             "ticks": ""
            },
            "colorscale": [
             [
              0,
              "#0d0887"
             ],
             [
              0.1111111111111111,
              "#46039f"
             ],
             [
              0.2222222222222222,
              "#7201a8"
             ],
             [
              0.3333333333333333,
              "#9c179e"
             ],
             [
              0.4444444444444444,
              "#bd3786"
             ],
             [
              0.5555555555555556,
              "#d8576b"
             ],
             [
              0.6666666666666666,
              "#ed7953"
             ],
             [
              0.7777777777777778,
              "#fb9f3a"
             ],
             [
              0.8888888888888888,
              "#fdca26"
             ],
             [
              1,
              "#f0f921"
             ]
            ],
            "type": "heatmapgl"
           }
          ],
          "histogram": [
           {
            "marker": {
             "pattern": {
              "fillmode": "overlay",
              "size": 10,
              "solidity": 0.2
             }
            },
            "type": "histogram"
           }
          ],
          "histogram2d": [
           {
            "colorbar": {
             "outlinewidth": 0,
             "ticks": ""
            },
            "colorscale": [
             [
              0,
              "#0d0887"
             ],
             [
              0.1111111111111111,
              "#46039f"
             ],
             [
              0.2222222222222222,
              "#7201a8"
             ],
             [
              0.3333333333333333,
              "#9c179e"
             ],
             [
              0.4444444444444444,
              "#bd3786"
             ],
             [
              0.5555555555555556,
              "#d8576b"
             ],
             [
              0.6666666666666666,
              "#ed7953"
             ],
             [
              0.7777777777777778,
              "#fb9f3a"
             ],
             [
              0.8888888888888888,
              "#fdca26"
             ],
             [
              1,
              "#f0f921"
             ]
            ],
            "type": "histogram2d"
           }
          ],
          "histogram2dcontour": [
           {
            "colorbar": {
             "outlinewidth": 0,
             "ticks": ""
            },
            "colorscale": [
             [
              0,
              "#0d0887"
             ],
             [
              0.1111111111111111,
              "#46039f"
             ],
             [
              0.2222222222222222,
              "#7201a8"
             ],
             [
              0.3333333333333333,
              "#9c179e"
             ],
             [
              0.4444444444444444,
              "#bd3786"
             ],
             [
              0.5555555555555556,
              "#d8576b"
             ],
             [
              0.6666666666666666,
              "#ed7953"
             ],
             [
              0.7777777777777778,
              "#fb9f3a"
             ],
             [
              0.8888888888888888,
              "#fdca26"
             ],
             [
              1,
              "#f0f921"
             ]
            ],
            "type": "histogram2dcontour"
           }
          ],
          "mesh3d": [
           {
            "colorbar": {
             "outlinewidth": 0,
             "ticks": ""
            },
            "type": "mesh3d"
           }
          ],
          "parcoords": [
           {
            "line": {
             "colorbar": {
              "outlinewidth": 0,
              "ticks": ""
             }
            },
            "type": "parcoords"
           }
          ],
          "pie": [
           {
            "automargin": true,
            "type": "pie"
           }
          ],
          "scatter": [
           {
            "fillpattern": {
             "fillmode": "overlay",
             "size": 10,
             "solidity": 0.2
            },
            "type": "scatter"
           }
          ],
          "scatter3d": [
           {
            "line": {
             "colorbar": {
              "outlinewidth": 0,
              "ticks": ""
             }
            },
            "marker": {
             "colorbar": {
              "outlinewidth": 0,
              "ticks": ""
             }
            },
            "type": "scatter3d"
           }
          ],
          "scattercarpet": [
           {
            "marker": {
             "colorbar": {
              "outlinewidth": 0,
              "ticks": ""
             }
            },
            "type": "scattercarpet"
           }
          ],
          "scattergeo": [
           {
            "marker": {
             "colorbar": {
              "outlinewidth": 0,
              "ticks": ""
             }
            },
            "type": "scattergeo"
           }
          ],
          "scattergl": [
           {
            "marker": {
             "colorbar": {
              "outlinewidth": 0,
              "ticks": ""
             }
            },
            "type": "scattergl"
           }
          ],
          "scattermapbox": [
           {
            "marker": {
             "colorbar": {
              "outlinewidth": 0,
              "ticks": ""
             }
            },
            "type": "scattermapbox"
           }
          ],
          "scatterpolar": [
           {
            "marker": {
             "colorbar": {
              "outlinewidth": 0,
              "ticks": ""
             }
            },
            "type": "scatterpolar"
           }
          ],
          "scatterpolargl": [
           {
            "marker": {
             "colorbar": {
              "outlinewidth": 0,
              "ticks": ""
             }
            },
            "type": "scatterpolargl"
           }
          ],
          "scatterternary": [
           {
            "marker": {
             "colorbar": {
              "outlinewidth": 0,
              "ticks": ""
             }
            },
            "type": "scatterternary"
           }
          ],
          "surface": [
           {
            "colorbar": {
             "outlinewidth": 0,
             "ticks": ""
            },
            "colorscale": [
             [
              0,
              "#0d0887"
             ],
             [
              0.1111111111111111,
              "#46039f"
             ],
             [
              0.2222222222222222,
              "#7201a8"
             ],
             [
              0.3333333333333333,
              "#9c179e"
             ],
             [
              0.4444444444444444,
              "#bd3786"
             ],
             [
              0.5555555555555556,
              "#d8576b"
             ],
             [
              0.6666666666666666,
              "#ed7953"
             ],
             [
              0.7777777777777778,
              "#fb9f3a"
             ],
             [
              0.8888888888888888,
              "#fdca26"
             ],
             [
              1,
              "#f0f921"
             ]
            ],
            "type": "surface"
           }
          ],
          "table": [
           {
            "cells": {
             "fill": {
              "color": "#EBF0F8"
             },
             "line": {
              "color": "white"
             }
            },
            "header": {
             "fill": {
              "color": "#C8D4E3"
             },
             "line": {
              "color": "white"
             }
            },
            "type": "table"
           }
          ]
         },
         "layout": {
          "annotationdefaults": {
           "arrowcolor": "#2a3f5f",
           "arrowhead": 0,
           "arrowwidth": 1
          },
          "autotypenumbers": "strict",
          "coloraxis": {
           "colorbar": {
            "outlinewidth": 0,
            "ticks": ""
           }
          },
          "colorscale": {
           "diverging": [
            [
             0,
             "#8e0152"
            ],
            [
             0.1,
             "#c51b7d"
            ],
            [
             0.2,
             "#de77ae"
            ],
            [
             0.3,
             "#f1b6da"
            ],
            [
             0.4,
             "#fde0ef"
            ],
            [
             0.5,
             "#f7f7f7"
            ],
            [
             0.6,
             "#e6f5d0"
            ],
            [
             0.7,
             "#b8e186"
            ],
            [
             0.8,
             "#7fbc41"
            ],
            [
             0.9,
             "#4d9221"
            ],
            [
             1,
             "#276419"
            ]
           ],
           "sequential": [
            [
             0,
             "#0d0887"
            ],
            [
             0.1111111111111111,
             "#46039f"
            ],
            [
             0.2222222222222222,
             "#7201a8"
            ],
            [
             0.3333333333333333,
             "#9c179e"
            ],
            [
             0.4444444444444444,
             "#bd3786"
            ],
            [
             0.5555555555555556,
             "#d8576b"
            ],
            [
             0.6666666666666666,
             "#ed7953"
            ],
            [
             0.7777777777777778,
             "#fb9f3a"
            ],
            [
             0.8888888888888888,
             "#fdca26"
            ],
            [
             1,
             "#f0f921"
            ]
           ],
           "sequentialminus": [
            [
             0,
             "#0d0887"
            ],
            [
             0.1111111111111111,
             "#46039f"
            ],
            [
             0.2222222222222222,
             "#7201a8"
            ],
            [
             0.3333333333333333,
             "#9c179e"
            ],
            [
             0.4444444444444444,
             "#bd3786"
            ],
            [
             0.5555555555555556,
             "#d8576b"
            ],
            [
             0.6666666666666666,
             "#ed7953"
            ],
            [
             0.7777777777777778,
             "#fb9f3a"
            ],
            [
             0.8888888888888888,
             "#fdca26"
            ],
            [
             1,
             "#f0f921"
            ]
           ]
          },
          "colorway": [
           "#636efa",
           "#EF553B",
           "#00cc96",
           "#ab63fa",
           "#FFA15A",
           "#19d3f3",
           "#FF6692",
           "#B6E880",
           "#FF97FF",
           "#FECB52"
          ],
          "font": {
           "color": "#2a3f5f"
          },
          "geo": {
           "bgcolor": "white",
           "lakecolor": "white",
           "landcolor": "#E5ECF6",
           "showlakes": true,
           "showland": true,
           "subunitcolor": "white"
          },
          "hoverlabel": {
           "align": "left"
          },
          "hovermode": "closest",
          "mapbox": {
           "style": "light"
          },
          "paper_bgcolor": "white",
          "plot_bgcolor": "#E5ECF6",
          "polar": {
           "angularaxis": {
            "gridcolor": "white",
            "linecolor": "white",
            "ticks": ""
           },
           "bgcolor": "#E5ECF6",
           "radialaxis": {
            "gridcolor": "white",
            "linecolor": "white",
            "ticks": ""
           }
          },
          "scene": {
           "xaxis": {
            "backgroundcolor": "#E5ECF6",
            "gridcolor": "white",
            "gridwidth": 2,
            "linecolor": "white",
            "showbackground": true,
            "ticks": "",
            "zerolinecolor": "white"
           },
           "yaxis": {
            "backgroundcolor": "#E5ECF6",
            "gridcolor": "white",
            "gridwidth": 2,
            "linecolor": "white",
            "showbackground": true,
            "ticks": "",
            "zerolinecolor": "white"
           },
           "zaxis": {
            "backgroundcolor": "#E5ECF6",
            "gridcolor": "white",
            "gridwidth": 2,
            "linecolor": "white",
            "showbackground": true,
            "ticks": "",
            "zerolinecolor": "white"
           }
          },
          "shapedefaults": {
           "line": {
            "color": "#2a3f5f"
           }
          },
          "ternary": {
           "aaxis": {
            "gridcolor": "white",
            "linecolor": "white",
            "ticks": ""
           },
           "baxis": {
            "gridcolor": "white",
            "linecolor": "white",
            "ticks": ""
           },
           "bgcolor": "#E5ECF6",
           "caxis": {
            "gridcolor": "white",
            "linecolor": "white",
            "ticks": ""
           }
          },
          "title": {
           "x": 0.05
          },
          "xaxis": {
           "automargin": true,
           "gridcolor": "white",
           "linecolor": "white",
           "ticks": "",
           "title": {
            "standoff": 15
           },
           "zerolinecolor": "white",
           "zerolinewidth": 2
          },
          "yaxis": {
           "automargin": true,
           "gridcolor": "white",
           "linecolor": "white",
           "ticks": "",
           "title": {
            "standoff": 15
           },
           "zerolinecolor": "white",
           "zerolinewidth": 2
          }
         }
        },
        "title": {
         "text": "Revenue Trend Over Time"
        },
        "xaxis": {
         "title": {
          "text": "Month"
         }
        },
        "yaxis": {
         "title": {
          "text": "Total Revenue"
         }
        }
       }
      }
     },
     "metadata": {},
     "output_type": "display_data"
    }
   ],
   "source": [
    "import plotly.graph_objects as go\n",
    "import datetime\n",
    "import pandas as pd\n",
    "\n",
    "def plot_trend_line(earnings_df):\n",
    "    # Group by month and sum the revenue columns for all available data\n",
    "    grouped_data = earnings_df.groupby('earning_month').sum()\n",
    "    \n",
    "    # List of months\n",
    "    months = ['Apr', 'May', 'Jun', 'Jul', 'Aug', 'Sep', 'Oct', 'Nov', 'Dec', 'Jan', 'Feb', 'Mar']\n",
    "    \n",
    "    # Extracting required columns\n",
    "    total_pass = grouped_data['total_pass']\n",
    "    freight = grouped_data['freight']\n",
    "    other_coaching = grouped_data['other_coaching']\n",
    "    sundry = grouped_data['sundry']\n",
    "    \n",
    "    # Create trend line chart\n",
    "    fig = go.Figure()\n",
    "    fig.add_trace(go.Scatter(\n",
    "        x=months,\n",
    "        y=total_pass,\n",
    "        mode='lines+markers',\n",
    "        name='Total Passenger Revenue'\n",
    "    ))\n",
    "    fig.add_trace(go.Scatter(\n",
    "        x=months,\n",
    "        y=freight,\n",
    "        mode='lines+markers',\n",
    "        name='Freight'\n",
    "    ))\n",
    "    fig.add_trace(go.Scatter(\n",
    "        x=months,\n",
    "        y=other_coaching,\n",
    "        mode='lines+markers',\n",
    "        name='Other Coaching'\n",
    "    ))\n",
    "    fig.add_trace(go.Scatter(\n",
    "        x=months,\n",
    "        y=sundry,\n",
    "        mode='lines+markers',\n",
    "        name='Sundry'\n",
    "    ))\n",
    "    \n",
    "    # Update figure layout\n",
    "    fig.update_layout(\n",
    "        title='Revenue Trend Over Time',\n",
    "        xaxis_title='Month',\n",
    "        yaxis_title='Total Revenue'\n",
    "    )\n",
    "\n",
    "    return fig\n",
    "\n",
    "# Example usage: Assuming earnings_df is your DataFrame containing the necessary data\n",
    "fig_trend = plot_trend_line(earnings_df)\n",
    "fig_trend.show()\n"
   ]
  },
  {
   "cell_type": "code",
   "execution_count": 101,
   "metadata": {},
   "outputs": [
    {
     "name": "stdout",
     "output_type": "stream",
     "text": [
      "[2022, 2023, 2024]\n"
     ]
    },
    {
     "name": "stderr",
     "output_type": "stream",
     "text": [
      "C:\\Users\\nitin\\AppData\\Local\\Temp\\ipykernel_14648\\1211483445.py:7: FutureWarning:\n",
      "\n",
      "The default value of numeric_only in DataFrameGroupBy.sum is deprecated. In a future version, numeric_only will default to False. Either specify numeric_only or select only columns which should be valid for the function.\n",
      "\n"
     ]
    },
    {
     "data": {
      "application/vnd.plotly.v1+json": {
       "config": {
        "plotlyServerURL": "https://plot.ly"
       },
       "data": [
        {
         "mode": "lines+markers",
         "name": "Total Passenger Revenue",
         "type": "scatter",
         "x": [
          "4-2022",
          "5-2022",
          "6-2022",
          "7-2022",
          "8-2022",
          "9-2022",
          "10-2022",
          "11-2022",
          "12-2022",
          "1-2022",
          "2-2022",
          "3-2022",
          "4-2022",
          "5-2022",
          "6-2022",
          "7-2022",
          "8-2022",
          "9-2022",
          "10-2022",
          "11-2022",
          "12-2022",
          "1-2022",
          "4-2023",
          "5-2023",
          "6-2023",
          "7-2023",
          "8-2023",
          "9-2023",
          "10-2023",
          "11-2023",
          "12-2023",
          "1-2023",
          "2-2023",
          "3-2023",
          "4-2023",
          "5-2023",
          "6-2023",
          "7-2023",
          "8-2023",
          "9-2023",
          "10-2023",
          "11-2023",
          "12-2023",
          "1-2023",
          "4-2024",
          "5-2024",
          "6-2024",
          "7-2024",
          "8-2024",
          "9-2024",
          "10-2024",
          "11-2024",
          "12-2024",
          "1-2024",
          "2-2024",
          "3-2024",
          "4-2024",
          "5-2024",
          "6-2024",
          "7-2024",
          "8-2024",
          "9-2024",
          "10-2024",
          "11-2024",
          "12-2024",
          "1-2024"
         ],
         "y": [
          73.05,
          75.74,
          77.74,
          88.3,
          85.73,
          86.01,
          79.79,
          90.8,
          91.42,
          93.45,
          88.86,
          93.3,
          88.08,
          94.12,
          89.98,
          118.58,
          104.87,
          96.08,
          99.53,
          99.76,
          108.01,
          106.67
         ]
        },
        {
         "mode": "lines+markers",
         "name": "Freight",
         "type": "scatter",
         "x": [
          "4-2022",
          "5-2022",
          "6-2022",
          "7-2022",
          "8-2022",
          "9-2022",
          "10-2022",
          "11-2022",
          "12-2022",
          "1-2022",
          "2-2022",
          "3-2022",
          "4-2022",
          "5-2022",
          "6-2022",
          "7-2022",
          "8-2022",
          "9-2022",
          "10-2022",
          "11-2022",
          "12-2022",
          "1-2022",
          "4-2023",
          "5-2023",
          "6-2023",
          "7-2023",
          "8-2023",
          "9-2023",
          "10-2023",
          "11-2023",
          "12-2023",
          "1-2023",
          "2-2023",
          "3-2023",
          "4-2023",
          "5-2023",
          "6-2023",
          "7-2023",
          "8-2023",
          "9-2023",
          "10-2023",
          "11-2023",
          "12-2023",
          "1-2023",
          "4-2024",
          "5-2024",
          "6-2024",
          "7-2024",
          "8-2024",
          "9-2024",
          "10-2024",
          "11-2024",
          "12-2024",
          "1-2024",
          "2-2024",
          "3-2024",
          "4-2024",
          "5-2024",
          "6-2024",
          "7-2024",
          "8-2024",
          "9-2024",
          "10-2024",
          "11-2024",
          "12-2024",
          "1-2024"
         ],
         "y": [
          28.34,
          25.69,
          35.26,
          40.54,
          34.4,
          38.91,
          30.02,
          43.15,
          36.83,
          28.82,
          28.25,
          32.89,
          30.74,
          28.04,
          36.14,
          34.99,
          43.98,
          40.17,
          42.38,
          31.11,
          40.69,
          28.05
         ]
        },
        {
         "mode": "lines+markers",
         "name": "Other Coaching",
         "type": "scatter",
         "x": [
          "4-2022",
          "5-2022",
          "6-2022",
          "7-2022",
          "8-2022",
          "9-2022",
          "10-2022",
          "11-2022",
          "12-2022",
          "1-2022",
          "2-2022",
          "3-2022",
          "4-2022",
          "5-2022",
          "6-2022",
          "7-2022",
          "8-2022",
          "9-2022",
          "10-2022",
          "11-2022",
          "12-2022",
          "1-2022",
          "4-2023",
          "5-2023",
          "6-2023",
          "7-2023",
          "8-2023",
          "9-2023",
          "10-2023",
          "11-2023",
          "12-2023",
          "1-2023",
          "2-2023",
          "3-2023",
          "4-2023",
          "5-2023",
          "6-2023",
          "7-2023",
          "8-2023",
          "9-2023",
          "10-2023",
          "11-2023",
          "12-2023",
          "1-2023",
          "4-2024",
          "5-2024",
          "6-2024",
          "7-2024",
          "8-2024",
          "9-2024",
          "10-2024",
          "11-2024",
          "12-2024",
          "1-2024",
          "2-2024",
          "3-2024",
          "4-2024",
          "5-2024",
          "6-2024",
          "7-2024",
          "8-2024",
          "9-2024",
          "10-2024",
          "11-2024",
          "12-2024",
          "1-2024"
         ],
         "y": [
          8.58,
          9.63,
          11.64,
          9.07,
          7.83,
          8.36,
          9.57,
          8.64,
          9.08,
          7.98,
          7.55,
          8.76,
          9.81,
          9.95,
          10.1,
          9.23,
          9.54,
          11.35,
          9.88,
          11.23,
          9.3,
          9.77
         ]
        },
        {
         "mode": "lines+markers",
         "name": "Sundry",
         "type": "scatter",
         "x": [
          "4-2022",
          "5-2022",
          "6-2022",
          "7-2022",
          "8-2022",
          "9-2022",
          "10-2022",
          "11-2022",
          "12-2022",
          "1-2022",
          "2-2022",
          "3-2022",
          "4-2022",
          "5-2022",
          "6-2022",
          "7-2022",
          "8-2022",
          "9-2022",
          "10-2022",
          "11-2022",
          "12-2022",
          "1-2022",
          "4-2023",
          "5-2023",
          "6-2023",
          "7-2023",
          "8-2023",
          "9-2023",
          "10-2023",
          "11-2023",
          "12-2023",
          "1-2023",
          "2-2023",
          "3-2023",
          "4-2023",
          "5-2023",
          "6-2023",
          "7-2023",
          "8-2023",
          "9-2023",
          "10-2023",
          "11-2023",
          "12-2023",
          "1-2023",
          "4-2024",
          "5-2024",
          "6-2024",
          "7-2024",
          "8-2024",
          "9-2024",
          "10-2024",
          "11-2024",
          "12-2024",
          "1-2024",
          "2-2024",
          "3-2024",
          "4-2024",
          "5-2024",
          "6-2024",
          "7-2024",
          "8-2024",
          "9-2024",
          "10-2024",
          "11-2024",
          "12-2024",
          "1-2024"
         ],
         "y": [
          0.76,
          0.55,
          1.14,
          0.71,
          1.27,
          2.95,
          0.99,
          2.13,
          1.95,
          1.1,
          1.99,
          2.14,
          1.23,
          1.31,
          1.78,
          1.86,
          1.86,
          1.58,
          1.07,
          1.65,
          1.99,
          1.33
         ]
        }
       ],
       "layout": {
        "template": {
         "data": {
          "bar": [
           {
            "error_x": {
             "color": "#2a3f5f"
            },
            "error_y": {
             "color": "#2a3f5f"
            },
            "marker": {
             "line": {
              "color": "#E5ECF6",
              "width": 0.5
             },
             "pattern": {
              "fillmode": "overlay",
              "size": 10,
              "solidity": 0.2
             }
            },
            "type": "bar"
           }
          ],
          "barpolar": [
           {
            "marker": {
             "line": {
              "color": "#E5ECF6",
              "width": 0.5
             },
             "pattern": {
              "fillmode": "overlay",
              "size": 10,
              "solidity": 0.2
             }
            },
            "type": "barpolar"
           }
          ],
          "carpet": [
           {
            "aaxis": {
             "endlinecolor": "#2a3f5f",
             "gridcolor": "white",
             "linecolor": "white",
             "minorgridcolor": "white",
             "startlinecolor": "#2a3f5f"
            },
            "baxis": {
             "endlinecolor": "#2a3f5f",
             "gridcolor": "white",
             "linecolor": "white",
             "minorgridcolor": "white",
             "startlinecolor": "#2a3f5f"
            },
            "type": "carpet"
           }
          ],
          "choropleth": [
           {
            "colorbar": {
             "outlinewidth": 0,
             "ticks": ""
            },
            "type": "choropleth"
           }
          ],
          "contour": [
           {
            "colorbar": {
             "outlinewidth": 0,
             "ticks": ""
            },
            "colorscale": [
             [
              0,
              "#0d0887"
             ],
             [
              0.1111111111111111,
              "#46039f"
             ],
             [
              0.2222222222222222,
              "#7201a8"
             ],
             [
              0.3333333333333333,
              "#9c179e"
             ],
             [
              0.4444444444444444,
              "#bd3786"
             ],
             [
              0.5555555555555556,
              "#d8576b"
             ],
             [
              0.6666666666666666,
              "#ed7953"
             ],
             [
              0.7777777777777778,
              "#fb9f3a"
             ],
             [
              0.8888888888888888,
              "#fdca26"
             ],
             [
              1,
              "#f0f921"
             ]
            ],
            "type": "contour"
           }
          ],
          "contourcarpet": [
           {
            "colorbar": {
             "outlinewidth": 0,
             "ticks": ""
            },
            "type": "contourcarpet"
           }
          ],
          "heatmap": [
           {
            "colorbar": {
             "outlinewidth": 0,
             "ticks": ""
            },
            "colorscale": [
             [
              0,
              "#0d0887"
             ],
             [
              0.1111111111111111,
              "#46039f"
             ],
             [
              0.2222222222222222,
              "#7201a8"
             ],
             [
              0.3333333333333333,
              "#9c179e"
             ],
             [
              0.4444444444444444,
              "#bd3786"
             ],
             [
              0.5555555555555556,
              "#d8576b"
             ],
             [
              0.6666666666666666,
              "#ed7953"
             ],
             [
              0.7777777777777778,
              "#fb9f3a"
             ],
             [
              0.8888888888888888,
              "#fdca26"
             ],
             [
              1,
              "#f0f921"
             ]
            ],
            "type": "heatmap"
           }
          ],
          "heatmapgl": [
           {
            "colorbar": {
             "outlinewidth": 0,
             "ticks": ""
            },
            "colorscale": [
             [
              0,
              "#0d0887"
             ],
             [
              0.1111111111111111,
              "#46039f"
             ],
             [
              0.2222222222222222,
              "#7201a8"
             ],
             [
              0.3333333333333333,
              "#9c179e"
             ],
             [
              0.4444444444444444,
              "#bd3786"
             ],
             [
              0.5555555555555556,
              "#d8576b"
             ],
             [
              0.6666666666666666,
              "#ed7953"
             ],
             [
              0.7777777777777778,
              "#fb9f3a"
             ],
             [
              0.8888888888888888,
              "#fdca26"
             ],
             [
              1,
              "#f0f921"
             ]
            ],
            "type": "heatmapgl"
           }
          ],
          "histogram": [
           {
            "marker": {
             "pattern": {
              "fillmode": "overlay",
              "size": 10,
              "solidity": 0.2
             }
            },
            "type": "histogram"
           }
          ],
          "histogram2d": [
           {
            "colorbar": {
             "outlinewidth": 0,
             "ticks": ""
            },
            "colorscale": [
             [
              0,
              "#0d0887"
             ],
             [
              0.1111111111111111,
              "#46039f"
             ],
             [
              0.2222222222222222,
              "#7201a8"
             ],
             [
              0.3333333333333333,
              "#9c179e"
             ],
             [
              0.4444444444444444,
              "#bd3786"
             ],
             [
              0.5555555555555556,
              "#d8576b"
             ],
             [
              0.6666666666666666,
              "#ed7953"
             ],
             [
              0.7777777777777778,
              "#fb9f3a"
             ],
             [
              0.8888888888888888,
              "#fdca26"
             ],
             [
              1,
              "#f0f921"
             ]
            ],
            "type": "histogram2d"
           }
          ],
          "histogram2dcontour": [
           {
            "colorbar": {
             "outlinewidth": 0,
             "ticks": ""
            },
            "colorscale": [
             [
              0,
              "#0d0887"
             ],
             [
              0.1111111111111111,
              "#46039f"
             ],
             [
              0.2222222222222222,
              "#7201a8"
             ],
             [
              0.3333333333333333,
              "#9c179e"
             ],
             [
              0.4444444444444444,
              "#bd3786"
             ],
             [
              0.5555555555555556,
              "#d8576b"
             ],
             [
              0.6666666666666666,
              "#ed7953"
             ],
             [
              0.7777777777777778,
              "#fb9f3a"
             ],
             [
              0.8888888888888888,
              "#fdca26"
             ],
             [
              1,
              "#f0f921"
             ]
            ],
            "type": "histogram2dcontour"
           }
          ],
          "mesh3d": [
           {
            "colorbar": {
             "outlinewidth": 0,
             "ticks": ""
            },
            "type": "mesh3d"
           }
          ],
          "parcoords": [
           {
            "line": {
             "colorbar": {
              "outlinewidth": 0,
              "ticks": ""
             }
            },
            "type": "parcoords"
           }
          ],
          "pie": [
           {
            "automargin": true,
            "type": "pie"
           }
          ],
          "scatter": [
           {
            "fillpattern": {
             "fillmode": "overlay",
             "size": 10,
             "solidity": 0.2
            },
            "type": "scatter"
           }
          ],
          "scatter3d": [
           {
            "line": {
             "colorbar": {
              "outlinewidth": 0,
              "ticks": ""
             }
            },
            "marker": {
             "colorbar": {
              "outlinewidth": 0,
              "ticks": ""
             }
            },
            "type": "scatter3d"
           }
          ],
          "scattercarpet": [
           {
            "marker": {
             "colorbar": {
              "outlinewidth": 0,
              "ticks": ""
             }
            },
            "type": "scattercarpet"
           }
          ],
          "scattergeo": [
           {
            "marker": {
             "colorbar": {
              "outlinewidth": 0,
              "ticks": ""
             }
            },
            "type": "scattergeo"
           }
          ],
          "scattergl": [
           {
            "marker": {
             "colorbar": {
              "outlinewidth": 0,
              "ticks": ""
             }
            },
            "type": "scattergl"
           }
          ],
          "scattermapbox": [
           {
            "marker": {
             "colorbar": {
              "outlinewidth": 0,
              "ticks": ""
             }
            },
            "type": "scattermapbox"
           }
          ],
          "scatterpolar": [
           {
            "marker": {
             "colorbar": {
              "outlinewidth": 0,
              "ticks": ""
             }
            },
            "type": "scatterpolar"
           }
          ],
          "scatterpolargl": [
           {
            "marker": {
             "colorbar": {
              "outlinewidth": 0,
              "ticks": ""
             }
            },
            "type": "scatterpolargl"
           }
          ],
          "scatterternary": [
           {
            "marker": {
             "colorbar": {
              "outlinewidth": 0,
              "ticks": ""
             }
            },
            "type": "scatterternary"
           }
          ],
          "surface": [
           {
            "colorbar": {
             "outlinewidth": 0,
             "ticks": ""
            },
            "colorscale": [
             [
              0,
              "#0d0887"
             ],
             [
              0.1111111111111111,
              "#46039f"
             ],
             [
              0.2222222222222222,
              "#7201a8"
             ],
             [
              0.3333333333333333,
              "#9c179e"
             ],
             [
              0.4444444444444444,
              "#bd3786"
             ],
             [
              0.5555555555555556,
              "#d8576b"
             ],
             [
              0.6666666666666666,
              "#ed7953"
             ],
             [
              0.7777777777777778,
              "#fb9f3a"
             ],
             [
              0.8888888888888888,
              "#fdca26"
             ],
             [
              1,
              "#f0f921"
             ]
            ],
            "type": "surface"
           }
          ],
          "table": [
           {
            "cells": {
             "fill": {
              "color": "#EBF0F8"
             },
             "line": {
              "color": "white"
             }
            },
            "header": {
             "fill": {
              "color": "#C8D4E3"
             },
             "line": {
              "color": "white"
             }
            },
            "type": "table"
           }
          ]
         },
         "layout": {
          "annotationdefaults": {
           "arrowcolor": "#2a3f5f",
           "arrowhead": 0,
           "arrowwidth": 1
          },
          "autotypenumbers": "strict",
          "coloraxis": {
           "colorbar": {
            "outlinewidth": 0,
            "ticks": ""
           }
          },
          "colorscale": {
           "diverging": [
            [
             0,
             "#8e0152"
            ],
            [
             0.1,
             "#c51b7d"
            ],
            [
             0.2,
             "#de77ae"
            ],
            [
             0.3,
             "#f1b6da"
            ],
            [
             0.4,
             "#fde0ef"
            ],
            [
             0.5,
             "#f7f7f7"
            ],
            [
             0.6,
             "#e6f5d0"
            ],
            [
             0.7,
             "#b8e186"
            ],
            [
             0.8,
             "#7fbc41"
            ],
            [
             0.9,
             "#4d9221"
            ],
            [
             1,
             "#276419"
            ]
           ],
           "sequential": [
            [
             0,
             "#0d0887"
            ],
            [
             0.1111111111111111,
             "#46039f"
            ],
            [
             0.2222222222222222,
             "#7201a8"
            ],
            [
             0.3333333333333333,
             "#9c179e"
            ],
            [
             0.4444444444444444,
             "#bd3786"
            ],
            [
             0.5555555555555556,
             "#d8576b"
            ],
            [
             0.6666666666666666,
             "#ed7953"
            ],
            [
             0.7777777777777778,
             "#fb9f3a"
            ],
            [
             0.8888888888888888,
             "#fdca26"
            ],
            [
             1,
             "#f0f921"
            ]
           ],
           "sequentialminus": [
            [
             0,
             "#0d0887"
            ],
            [
             0.1111111111111111,
             "#46039f"
            ],
            [
             0.2222222222222222,
             "#7201a8"
            ],
            [
             0.3333333333333333,
             "#9c179e"
            ],
            [
             0.4444444444444444,
             "#bd3786"
            ],
            [
             0.5555555555555556,
             "#d8576b"
            ],
            [
             0.6666666666666666,
             "#ed7953"
            ],
            [
             0.7777777777777778,
             "#fb9f3a"
            ],
            [
             0.8888888888888888,
             "#fdca26"
            ],
            [
             1,
             "#f0f921"
            ]
           ]
          },
          "colorway": [
           "#636efa",
           "#EF553B",
           "#00cc96",
           "#ab63fa",
           "#FFA15A",
           "#19d3f3",
           "#FF6692",
           "#B6E880",
           "#FF97FF",
           "#FECB52"
          ],
          "font": {
           "color": "#2a3f5f"
          },
          "geo": {
           "bgcolor": "white",
           "lakecolor": "white",
           "landcolor": "#E5ECF6",
           "showlakes": true,
           "showland": true,
           "subunitcolor": "white"
          },
          "hoverlabel": {
           "align": "left"
          },
          "hovermode": "closest",
          "mapbox": {
           "style": "light"
          },
          "paper_bgcolor": "white",
          "plot_bgcolor": "#E5ECF6",
          "polar": {
           "angularaxis": {
            "gridcolor": "white",
            "linecolor": "white",
            "ticks": ""
           },
           "bgcolor": "#E5ECF6",
           "radialaxis": {
            "gridcolor": "white",
            "linecolor": "white",
            "ticks": ""
           }
          },
          "scene": {
           "xaxis": {
            "backgroundcolor": "#E5ECF6",
            "gridcolor": "white",
            "gridwidth": 2,
            "linecolor": "white",
            "showbackground": true,
            "ticks": "",
            "zerolinecolor": "white"
           },
           "yaxis": {
            "backgroundcolor": "#E5ECF6",
            "gridcolor": "white",
            "gridwidth": 2,
            "linecolor": "white",
            "showbackground": true,
            "ticks": "",
            "zerolinecolor": "white"
           },
           "zaxis": {
            "backgroundcolor": "#E5ECF6",
            "gridcolor": "white",
            "gridwidth": 2,
            "linecolor": "white",
            "showbackground": true,
            "ticks": "",
            "zerolinecolor": "white"
           }
          },
          "shapedefaults": {
           "line": {
            "color": "#2a3f5f"
           }
          },
          "ternary": {
           "aaxis": {
            "gridcolor": "white",
            "linecolor": "white",
            "ticks": ""
           },
           "baxis": {
            "gridcolor": "white",
            "linecolor": "white",
            "ticks": ""
           },
           "bgcolor": "#E5ECF6",
           "caxis": {
            "gridcolor": "white",
            "linecolor": "white",
            "ticks": ""
           }
          },
          "title": {
           "x": 0.05
          },
          "xaxis": {
           "automargin": true,
           "gridcolor": "white",
           "linecolor": "white",
           "ticks": "",
           "title": {
            "standoff": 15
           },
           "zerolinecolor": "white",
           "zerolinewidth": 2
          },
          "yaxis": {
           "automargin": true,
           "gridcolor": "white",
           "linecolor": "white",
           "ticks": "",
           "title": {
            "standoff": 15
           },
           "zerolinecolor": "white",
           "zerolinewidth": 2
          }
         }
        },
        "title": {
         "text": "Revenue Trend Over Time"
        },
        "xaxis": {
         "title": {
          "text": "Month and Year"
         }
        },
        "yaxis": {
         "title": {
          "text": "Total Revenue"
         }
        }
       }
      }
     },
     "metadata": {},
     "output_type": "display_data"
    }
   ],
   "source": [
    "import plotly.graph_objects as go\n",
    "import datetime\n",
    "import pandas as pd\n",
    "\n",
    "def plot_trend_line(earnings_df):\n",
    "    # Group by month and sum the revenue columns for all available data\n",
    "    grouped_data = earnings_df.groupby('earning_month').sum()\n",
    "    \n",
    "    # List of months\n",
    "    months = ['Apr', 'May', 'Jun', 'Jul', 'Aug', 'Sep', 'Oct', 'Nov', 'Dec', 'Jan', 'Feb', 'Mar']\n",
    "    \n",
    "    # Extracting required columns\n",
    "    total_pass = grouped_data['total_pass']\n",
    "    freight = grouped_data['freight']\n",
    "    other_coaching = grouped_data['other_coaching']\n",
    "    sundry = grouped_data['sundry']\n",
    "    \n",
    "    # Concatenate month and year for x-axis labels\n",
    "    years = sorted(earnings_df['earning_month'].dt.year.unique())\n",
    "    print(years)\n",
    "    x_labels = [f\"{month}-{year}\" for year in years for month in earnings_df['earning_month'].month]\n",
    "    \n",
    "    # Create trend line chart\n",
    "    fig = go.Figure()\n",
    "    fig.add_trace(go.Scatter(\n",
    "        x=x_labels,\n",
    "        y=total_pass,\n",
    "        mode='lines+markers',\n",
    "        name='Total Passenger Revenue'\n",
    "    ))\n",
    "    fig.add_trace(go.Scatter(\n",
    "        x=x_labels,\n",
    "        y=freight,\n",
    "        mode='lines+markers',\n",
    "        name='Freight'\n",
    "    ))\n",
    "    fig.add_trace(go.Scatter(\n",
    "        x=x_labels,\n",
    "        y=other_coaching,\n",
    "        mode='lines+markers',\n",
    "        name='Other Coaching'\n",
    "    ))\n",
    "    fig.add_trace(go.Scatter(\n",
    "        x=x_labels,\n",
    "        y=sundry,\n",
    "        mode='lines+markers',\n",
    "        name='Sundry'\n",
    "    ))\n",
    "    \n",
    "    # Update figure layout\n",
    "    fig.update_layout(\n",
    "        title='Revenue Trend Over Time',\n",
    "        xaxis_title='Month and Year',\n",
    "        yaxis_title='Total Revenue'\n",
    "    )\n",
    "\n",
    "    return fig\n",
    "\n",
    "# Example usage: Assuming earnings_df is your DataFrame containing the necessary data\n",
    "fig_trend = plot_trend_line(earnings_df)\n",
    "fig_trend.show()\n"
   ]
  },
  {
   "cell_type": "code",
   "execution_count": 125,
   "metadata": {},
   "outputs": [
    {
     "data": {
      "application/vnd.plotly.v1+json": {
       "config": {
        "plotlyServerURL": "https://plot.ly"
       },
       "data": [
        {
         "mode": "lines+markers",
         "showlegend": false,
         "type": "scatter",
         "x": [
          "2022-04-01T00:00:00",
          "2022-05-01T00:00:00",
          "2022-06-01T00:00:00",
          "2022-07-01T00:00:00",
          "2022-08-01T00:00:00",
          "2022-09-01T00:00:00",
          "2022-10-01T00:00:00",
          "2022-11-01T00:00:00",
          "2022-12-01T00:00:00",
          "2023-01-01T00:00:00",
          "2023-02-01T00:00:00",
          "2023-03-01T00:00:00",
          "2023-04-01T00:00:00",
          "2023-05-01T00:00:00",
          "2023-06-01T00:00:00",
          "2023-07-01T00:00:00",
          "2023-08-01T00:00:00",
          "2023-09-01T00:00:00",
          "2023-10-01T00:00:00",
          "2023-11-01T00:00:00",
          "2023-12-01T00:00:00",
          "2024-01-01T00:00:00"
         ],
         "xaxis": "x",
         "y": [
          73.05,
          75.74,
          77.74,
          88.3,
          85.73,
          86.01,
          79.79,
          90.8,
          91.42,
          93.45,
          88.86,
          93.3,
          88.08,
          94.12,
          89.98,
          118.58,
          104.87,
          96.08,
          99.53,
          99.76,
          108.01,
          106.67
         ],
         "yaxis": "y"
        },
        {
         "mode": "lines+markers",
         "showlegend": false,
         "type": "scatter",
         "x": [
          "2022-04-01T00:00:00",
          "2022-05-01T00:00:00",
          "2022-06-01T00:00:00",
          "2022-07-01T00:00:00",
          "2022-08-01T00:00:00",
          "2022-09-01T00:00:00",
          "2022-10-01T00:00:00",
          "2022-11-01T00:00:00",
          "2022-12-01T00:00:00",
          "2023-01-01T00:00:00",
          "2023-02-01T00:00:00",
          "2023-03-01T00:00:00",
          "2023-04-01T00:00:00",
          "2023-05-01T00:00:00",
          "2023-06-01T00:00:00",
          "2023-07-01T00:00:00",
          "2023-08-01T00:00:00",
          "2023-09-01T00:00:00",
          "2023-10-01T00:00:00",
          "2023-11-01T00:00:00",
          "2023-12-01T00:00:00",
          "2024-01-01T00:00:00"
         ],
         "xaxis": "x2",
         "y": [
          28.34,
          25.69,
          35.26,
          40.54,
          34.4,
          38.91,
          30.02,
          43.15,
          36.83,
          28.82,
          28.25,
          32.89,
          30.74,
          28.04,
          36.14,
          34.99,
          43.98,
          40.17,
          42.38,
          31.11,
          40.69,
          28.05
         ],
         "yaxis": "y2"
        },
        {
         "mode": "lines+markers",
         "showlegend": false,
         "type": "scatter",
         "x": [
          "2022-04-01T00:00:00",
          "2022-05-01T00:00:00",
          "2022-06-01T00:00:00",
          "2022-07-01T00:00:00",
          "2022-08-01T00:00:00",
          "2022-09-01T00:00:00",
          "2022-10-01T00:00:00",
          "2022-11-01T00:00:00",
          "2022-12-01T00:00:00",
          "2023-01-01T00:00:00",
          "2023-02-01T00:00:00",
          "2023-03-01T00:00:00",
          "2023-04-01T00:00:00",
          "2023-05-01T00:00:00",
          "2023-06-01T00:00:00",
          "2023-07-01T00:00:00",
          "2023-08-01T00:00:00",
          "2023-09-01T00:00:00",
          "2023-10-01T00:00:00",
          "2023-11-01T00:00:00",
          "2023-12-01T00:00:00",
          "2024-01-01T00:00:00"
         ],
         "xaxis": "x3",
         "y": [
          8.58,
          9.63,
          11.64,
          9.07,
          7.83,
          8.36,
          9.57,
          8.64,
          9.08,
          7.98,
          7.55,
          8.76,
          9.81,
          9.95,
          10.1,
          9.23,
          9.54,
          11.35,
          9.88,
          11.23,
          9.3,
          9.77
         ],
         "yaxis": "y3"
        },
        {
         "mode": "lines+markers",
         "showlegend": false,
         "type": "scatter",
         "x": [
          "2022-04-01T00:00:00",
          "2022-05-01T00:00:00",
          "2022-06-01T00:00:00",
          "2022-07-01T00:00:00",
          "2022-08-01T00:00:00",
          "2022-09-01T00:00:00",
          "2022-10-01T00:00:00",
          "2022-11-01T00:00:00",
          "2022-12-01T00:00:00",
          "2023-01-01T00:00:00",
          "2023-02-01T00:00:00",
          "2023-03-01T00:00:00",
          "2023-04-01T00:00:00",
          "2023-05-01T00:00:00",
          "2023-06-01T00:00:00",
          "2023-07-01T00:00:00",
          "2023-08-01T00:00:00",
          "2023-09-01T00:00:00",
          "2023-10-01T00:00:00",
          "2023-11-01T00:00:00",
          "2023-12-01T00:00:00",
          "2024-01-01T00:00:00"
         ],
         "xaxis": "x4",
         "y": [
          0.76,
          0.55,
          1.14,
          0.71,
          1.27,
          2.95,
          0.99,
          2.13,
          1.95,
          1.1,
          1.99,
          2.14,
          1.23,
          1.31,
          1.78,
          1.86,
          1.86,
          1.58,
          1.07,
          1.65,
          1.99,
          1.33
         ],
         "yaxis": "y4"
        }
       ],
       "layout": {
        "annotations": [
         {
          "font": {
           "size": 16
          },
          "showarrow": false,
          "text": "Total Passenger Revenue",
          "x": 0.225,
          "xanchor": "center",
          "xref": "paper",
          "y": 1,
          "yanchor": "bottom",
          "yref": "paper"
         },
         {
          "font": {
           "size": 16
          },
          "showarrow": false,
          "text": "Freight",
          "x": 0.775,
          "xanchor": "center",
          "xref": "paper",
          "y": 1,
          "yanchor": "bottom",
          "yref": "paper"
         },
         {
          "font": {
           "size": 16
          },
          "showarrow": false,
          "text": "Other Coaching",
          "x": 0.225,
          "xanchor": "center",
          "xref": "paper",
          "y": 0.375,
          "yanchor": "bottom",
          "yref": "paper"
         },
         {
          "font": {
           "size": 16
          },
          "showarrow": false,
          "text": "Sundry",
          "x": 0.775,
          "xanchor": "center",
          "xref": "paper",
          "y": 0.375,
          "yanchor": "bottom",
          "yref": "paper"
         }
        ],
        "height": 400,
        "margin": {
         "b": 30,
         "r": 20,
         "t": 50
        },
        "template": {
         "data": {
          "bar": [
           {
            "error_x": {
             "color": "#2a3f5f"
            },
            "error_y": {
             "color": "#2a3f5f"
            },
            "marker": {
             "line": {
              "color": "#E5ECF6",
              "width": 0.5
             },
             "pattern": {
              "fillmode": "overlay",
              "size": 10,
              "solidity": 0.2
             }
            },
            "type": "bar"
           }
          ],
          "barpolar": [
           {
            "marker": {
             "line": {
              "color": "#E5ECF6",
              "width": 0.5
             },
             "pattern": {
              "fillmode": "overlay",
              "size": 10,
              "solidity": 0.2
             }
            },
            "type": "barpolar"
           }
          ],
          "carpet": [
           {
            "aaxis": {
             "endlinecolor": "#2a3f5f",
             "gridcolor": "white",
             "linecolor": "white",
             "minorgridcolor": "white",
             "startlinecolor": "#2a3f5f"
            },
            "baxis": {
             "endlinecolor": "#2a3f5f",
             "gridcolor": "white",
             "linecolor": "white",
             "minorgridcolor": "white",
             "startlinecolor": "#2a3f5f"
            },
            "type": "carpet"
           }
          ],
          "choropleth": [
           {
            "colorbar": {
             "outlinewidth": 0,
             "ticks": ""
            },
            "type": "choropleth"
           }
          ],
          "contour": [
           {
            "colorbar": {
             "outlinewidth": 0,
             "ticks": ""
            },
            "colorscale": [
             [
              0,
              "#0d0887"
             ],
             [
              0.1111111111111111,
              "#46039f"
             ],
             [
              0.2222222222222222,
              "#7201a8"
             ],
             [
              0.3333333333333333,
              "#9c179e"
             ],
             [
              0.4444444444444444,
              "#bd3786"
             ],
             [
              0.5555555555555556,
              "#d8576b"
             ],
             [
              0.6666666666666666,
              "#ed7953"
             ],
             [
              0.7777777777777778,
              "#fb9f3a"
             ],
             [
              0.8888888888888888,
              "#fdca26"
             ],
             [
              1,
              "#f0f921"
             ]
            ],
            "type": "contour"
           }
          ],
          "contourcarpet": [
           {
            "colorbar": {
             "outlinewidth": 0,
             "ticks": ""
            },
            "type": "contourcarpet"
           }
          ],
          "heatmap": [
           {
            "colorbar": {
             "outlinewidth": 0,
             "ticks": ""
            },
            "colorscale": [
             [
              0,
              "#0d0887"
             ],
             [
              0.1111111111111111,
              "#46039f"
             ],
             [
              0.2222222222222222,
              "#7201a8"
             ],
             [
              0.3333333333333333,
              "#9c179e"
             ],
             [
              0.4444444444444444,
              "#bd3786"
             ],
             [
              0.5555555555555556,
              "#d8576b"
             ],
             [
              0.6666666666666666,
              "#ed7953"
             ],
             [
              0.7777777777777778,
              "#fb9f3a"
             ],
             [
              0.8888888888888888,
              "#fdca26"
             ],
             [
              1,
              "#f0f921"
             ]
            ],
            "type": "heatmap"
           }
          ],
          "heatmapgl": [
           {
            "colorbar": {
             "outlinewidth": 0,
             "ticks": ""
            },
            "colorscale": [
             [
              0,
              "#0d0887"
             ],
             [
              0.1111111111111111,
              "#46039f"
             ],
             [
              0.2222222222222222,
              "#7201a8"
             ],
             [
              0.3333333333333333,
              "#9c179e"
             ],
             [
              0.4444444444444444,
              "#bd3786"
             ],
             [
              0.5555555555555556,
              "#d8576b"
             ],
             [
              0.6666666666666666,
              "#ed7953"
             ],
             [
              0.7777777777777778,
              "#fb9f3a"
             ],
             [
              0.8888888888888888,
              "#fdca26"
             ],
             [
              1,
              "#f0f921"
             ]
            ],
            "type": "heatmapgl"
           }
          ],
          "histogram": [
           {
            "marker": {
             "pattern": {
              "fillmode": "overlay",
              "size": 10,
              "solidity": 0.2
             }
            },
            "type": "histogram"
           }
          ],
          "histogram2d": [
           {
            "colorbar": {
             "outlinewidth": 0,
             "ticks": ""
            },
            "colorscale": [
             [
              0,
              "#0d0887"
             ],
             [
              0.1111111111111111,
              "#46039f"
             ],
             [
              0.2222222222222222,
              "#7201a8"
             ],
             [
              0.3333333333333333,
              "#9c179e"
             ],
             [
              0.4444444444444444,
              "#bd3786"
             ],
             [
              0.5555555555555556,
              "#d8576b"
             ],
             [
              0.6666666666666666,
              "#ed7953"
             ],
             [
              0.7777777777777778,
              "#fb9f3a"
             ],
             [
              0.8888888888888888,
              "#fdca26"
             ],
             [
              1,
              "#f0f921"
             ]
            ],
            "type": "histogram2d"
           }
          ],
          "histogram2dcontour": [
           {
            "colorbar": {
             "outlinewidth": 0,
             "ticks": ""
            },
            "colorscale": [
             [
              0,
              "#0d0887"
             ],
             [
              0.1111111111111111,
              "#46039f"
             ],
             [
              0.2222222222222222,
              "#7201a8"
             ],
             [
              0.3333333333333333,
              "#9c179e"
             ],
             [
              0.4444444444444444,
              "#bd3786"
             ],
             [
              0.5555555555555556,
              "#d8576b"
             ],
             [
              0.6666666666666666,
              "#ed7953"
             ],
             [
              0.7777777777777778,
              "#fb9f3a"
             ],
             [
              0.8888888888888888,
              "#fdca26"
             ],
             [
              1,
              "#f0f921"
             ]
            ],
            "type": "histogram2dcontour"
           }
          ],
          "mesh3d": [
           {
            "colorbar": {
             "outlinewidth": 0,
             "ticks": ""
            },
            "type": "mesh3d"
           }
          ],
          "parcoords": [
           {
            "line": {
             "colorbar": {
              "outlinewidth": 0,
              "ticks": ""
             }
            },
            "type": "parcoords"
           }
          ],
          "pie": [
           {
            "automargin": true,
            "type": "pie"
           }
          ],
          "scatter": [
           {
            "fillpattern": {
             "fillmode": "overlay",
             "size": 10,
             "solidity": 0.2
            },
            "type": "scatter"
           }
          ],
          "scatter3d": [
           {
            "line": {
             "colorbar": {
              "outlinewidth": 0,
              "ticks": ""
             }
            },
            "marker": {
             "colorbar": {
              "outlinewidth": 0,
              "ticks": ""
             }
            },
            "type": "scatter3d"
           }
          ],
          "scattercarpet": [
           {
            "marker": {
             "colorbar": {
              "outlinewidth": 0,
              "ticks": ""
             }
            },
            "type": "scattercarpet"
           }
          ],
          "scattergeo": [
           {
            "marker": {
             "colorbar": {
              "outlinewidth": 0,
              "ticks": ""
             }
            },
            "type": "scattergeo"
           }
          ],
          "scattergl": [
           {
            "marker": {
             "colorbar": {
              "outlinewidth": 0,
              "ticks": ""
             }
            },
            "type": "scattergl"
           }
          ],
          "scattermapbox": [
           {
            "marker": {
             "colorbar": {
              "outlinewidth": 0,
              "ticks": ""
             }
            },
            "type": "scattermapbox"
           }
          ],
          "scatterpolar": [
           {
            "marker": {
             "colorbar": {
              "outlinewidth": 0,
              "ticks": ""
             }
            },
            "type": "scatterpolar"
           }
          ],
          "scatterpolargl": [
           {
            "marker": {
             "colorbar": {
              "outlinewidth": 0,
              "ticks": ""
             }
            },
            "type": "scatterpolargl"
           }
          ],
          "scatterternary": [
           {
            "marker": {
             "colorbar": {
              "outlinewidth": 0,
              "ticks": ""
             }
            },
            "type": "scatterternary"
           }
          ],
          "surface": [
           {
            "colorbar": {
             "outlinewidth": 0,
             "ticks": ""
            },
            "colorscale": [
             [
              0,
              "#0d0887"
             ],
             [
              0.1111111111111111,
              "#46039f"
             ],
             [
              0.2222222222222222,
              "#7201a8"
             ],
             [
              0.3333333333333333,
              "#9c179e"
             ],
             [
              0.4444444444444444,
              "#bd3786"
             ],
             [
              0.5555555555555556,
              "#d8576b"
             ],
             [
              0.6666666666666666,
              "#ed7953"
             ],
             [
              0.7777777777777778,
              "#fb9f3a"
             ],
             [
              0.8888888888888888,
              "#fdca26"
             ],
             [
              1,
              "#f0f921"
             ]
            ],
            "type": "surface"
           }
          ],
          "table": [
           {
            "cells": {
             "fill": {
              "color": "#EBF0F8"
             },
             "line": {
              "color": "white"
             }
            },
            "header": {
             "fill": {
              "color": "#C8D4E3"
             },
             "line": {
              "color": "white"
             }
            },
            "type": "table"
           }
          ]
         },
         "layout": {
          "annotationdefaults": {
           "arrowcolor": "#2a3f5f",
           "arrowhead": 0,
           "arrowwidth": 1
          },
          "autotypenumbers": "strict",
          "coloraxis": {
           "colorbar": {
            "outlinewidth": 0,
            "ticks": ""
           }
          },
          "colorscale": {
           "diverging": [
            [
             0,
             "#8e0152"
            ],
            [
             0.1,
             "#c51b7d"
            ],
            [
             0.2,
             "#de77ae"
            ],
            [
             0.3,
             "#f1b6da"
            ],
            [
             0.4,
             "#fde0ef"
            ],
            [
             0.5,
             "#f7f7f7"
            ],
            [
             0.6,
             "#e6f5d0"
            ],
            [
             0.7,
             "#b8e186"
            ],
            [
             0.8,
             "#7fbc41"
            ],
            [
             0.9,
             "#4d9221"
            ],
            [
             1,
             "#276419"
            ]
           ],
           "sequential": [
            [
             0,
             "#0d0887"
            ],
            [
             0.1111111111111111,
             "#46039f"
            ],
            [
             0.2222222222222222,
             "#7201a8"
            ],
            [
             0.3333333333333333,
             "#9c179e"
            ],
            [
             0.4444444444444444,
             "#bd3786"
            ],
            [
             0.5555555555555556,
             "#d8576b"
            ],
            [
             0.6666666666666666,
             "#ed7953"
            ],
            [
             0.7777777777777778,
             "#fb9f3a"
            ],
            [
             0.8888888888888888,
             "#fdca26"
            ],
            [
             1,
             "#f0f921"
            ]
           ],
           "sequentialminus": [
            [
             0,
             "#0d0887"
            ],
            [
             0.1111111111111111,
             "#46039f"
            ],
            [
             0.2222222222222222,
             "#7201a8"
            ],
            [
             0.3333333333333333,
             "#9c179e"
            ],
            [
             0.4444444444444444,
             "#bd3786"
            ],
            [
             0.5555555555555556,
             "#d8576b"
            ],
            [
             0.6666666666666666,
             "#ed7953"
            ],
            [
             0.7777777777777778,
             "#fb9f3a"
            ],
            [
             0.8888888888888888,
             "#fdca26"
            ],
            [
             1,
             "#f0f921"
            ]
           ]
          },
          "colorway": [
           "#636efa",
           "#EF553B",
           "#00cc96",
           "#ab63fa",
           "#FFA15A",
           "#19d3f3",
           "#FF6692",
           "#B6E880",
           "#FF97FF",
           "#FECB52"
          ],
          "font": {
           "color": "#2a3f5f"
          },
          "geo": {
           "bgcolor": "white",
           "lakecolor": "white",
           "landcolor": "#E5ECF6",
           "showlakes": true,
           "showland": true,
           "subunitcolor": "white"
          },
          "hoverlabel": {
           "align": "left"
          },
          "hovermode": "closest",
          "mapbox": {
           "style": "light"
          },
          "paper_bgcolor": "white",
          "plot_bgcolor": "#E5ECF6",
          "polar": {
           "angularaxis": {
            "gridcolor": "white",
            "linecolor": "white",
            "ticks": ""
           },
           "bgcolor": "#E5ECF6",
           "radialaxis": {
            "gridcolor": "white",
            "linecolor": "white",
            "ticks": ""
           }
          },
          "scene": {
           "xaxis": {
            "backgroundcolor": "#E5ECF6",
            "gridcolor": "white",
            "gridwidth": 2,
            "linecolor": "white",
            "showbackground": true,
            "ticks": "",
            "zerolinecolor": "white"
           },
           "yaxis": {
            "backgroundcolor": "#E5ECF6",
            "gridcolor": "white",
            "gridwidth": 2,
            "linecolor": "white",
            "showbackground": true,
            "ticks": "",
            "zerolinecolor": "white"
           },
           "zaxis": {
            "backgroundcolor": "#E5ECF6",
            "gridcolor": "white",
            "gridwidth": 2,
            "linecolor": "white",
            "showbackground": true,
            "ticks": "",
            "zerolinecolor": "white"
           }
          },
          "shapedefaults": {
           "line": {
            "color": "#2a3f5f"
           }
          },
          "ternary": {
           "aaxis": {
            "gridcolor": "white",
            "linecolor": "white",
            "ticks": ""
           },
           "baxis": {
            "gridcolor": "white",
            "linecolor": "white",
            "ticks": ""
           },
           "bgcolor": "#E5ECF6",
           "caxis": {
            "gridcolor": "white",
            "linecolor": "white",
            "ticks": ""
           }
          },
          "title": {
           "x": 0.05
          },
          "xaxis": {
           "automargin": true,
           "gridcolor": "white",
           "linecolor": "white",
           "ticks": "",
           "title": {
            "standoff": 15
           },
           "zerolinecolor": "white",
           "zerolinewidth": 2
          },
          "yaxis": {
           "automargin": true,
           "gridcolor": "white",
           "linecolor": "white",
           "ticks": "",
           "title": {
            "standoff": 15
           },
           "zerolinecolor": "white",
           "zerolinewidth": 2
          }
         }
        },
        "title": {
         "text": "Trend Lines for Revenue Categories Over Time",
         "x": 0.5
        },
        "width": 800,
        "xaxis": {
         "anchor": "y",
         "domain": [
          0,
          0.45
         ],
         "title": {
          "standoff": 10,
          "text": "Earning Month"
         }
        },
        "xaxis2": {
         "anchor": "y2",
         "domain": [
          0.55,
          1
         ]
        },
        "xaxis3": {
         "anchor": "y3",
         "domain": [
          0,
          0.45
         ]
        },
        "xaxis4": {
         "anchor": "y4",
         "domain": [
          0.55,
          1
         ]
        },
        "yaxis": {
         "anchor": "x",
         "domain": [
          0.625,
          1
         ],
         "title": {
          "text": "Revenue"
         }
        },
        "yaxis2": {
         "anchor": "x2",
         "domain": [
          0.625,
          1
         ]
        },
        "yaxis3": {
         "anchor": "x3",
         "domain": [
          0,
          0.375
         ]
        },
        "yaxis4": {
         "anchor": "x4",
         "domain": [
          0,
          0.375
         ]
        }
       }
      }
     },
     "metadata": {},
     "output_type": "display_data"
    }
   ],
   "source": [
    "import plotly.graph_objects as go\n",
    "import pandas as pd\n",
    "from plotly.subplots import make_subplots\n",
    "\n",
    "def draw_trend_lines(earnings_df):\n",
    "    # Sort earning_month column by oldest to newest\n",
    "    earnings_df = earnings_df.sort_values(by='earning_month')\n",
    "\n",
    "    # Create a figure with subplots\n",
    "    fig = make_subplots(rows=2, cols=2, subplot_titles=('Total Passenger Revenue', 'Freight', 'Other Coaching', 'Sundry'))\n",
    "\n",
    "    # Add trend lines for each category\n",
    "    fig.add_trace(\n",
    "        go.Scatter(x=earnings_df['earning_month'], y=earnings_df['total_pass'], mode='lines+markers', showlegend=False),\n",
    "        row=1, col=1\n",
    "    )\n",
    "    fig.add_trace(\n",
    "        go.Scatter(x=earnings_df['earning_month'], y=earnings_df['freight'], mode='lines+markers', showlegend=False),\n",
    "        row=1, col=2\n",
    "    )\n",
    "    fig.add_trace(\n",
    "        go.Scatter(x=earnings_df['earning_month'], y=earnings_df['other_coaching'], mode='lines+markers', showlegend=False),\n",
    "        row=2, col=1\n",
    "    )\n",
    "    fig.add_trace(\n",
    "        go.Scatter(x=earnings_df['earning_month'], y=earnings_df['sundry'], mode='lines+markers', showlegend=False),\n",
    "        row=2, col=2\n",
    "    )\n",
    "\n",
    "    # Update figure layout\n",
    "    fig.update_layout(\n",
    "        title='Trend Lines for Revenue Categories Over Time',\n",
    "        title_x=0.5,  # Center title\n",
    "        xaxis_title='Earning Month',\n",
    "        yaxis_title='Revenue',\n",
    "        xaxis=dict(title=dict(standoff=10)),  # Change location of x-axis title\n",
    "        height=400,\n",
    "        width=800,\n",
    "        margin=dict(t=50, b=30, r=20)  # Adjust top margin\n",
    "    )\n",
    "\n",
    "    return fig\n",
    "\n",
    "# Example usage: Assuming earnings_df is your DataFrame containing the necessary data\n",
    "fig_trend_lines = draw_trend_lines(earnings_df)\n",
    "fig_trend_lines.show()\n"
   ]
  },
  {
   "cell_type": "code",
   "execution_count": null,
   "metadata": {},
   "outputs": [],
   "source": []
  }
 ],
 "metadata": {
  "kernelspec": {
   "display_name": "Python 3",
   "language": "python",
   "name": "python3"
  },
  "language_info": {
   "codemirror_mode": {
    "name": "ipython",
    "version": 3
   },
   "file_extension": ".py",
   "mimetype": "text/x-python",
   "name": "python",
   "nbconvert_exporter": "python",
   "pygments_lexer": "ipython3",
   "version": "3.11.8"
  }
 },
 "nbformat": 4,
 "nbformat_minor": 2
}
