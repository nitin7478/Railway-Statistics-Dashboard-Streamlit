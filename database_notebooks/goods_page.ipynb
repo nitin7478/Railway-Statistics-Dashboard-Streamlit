{
 "cells": [
  {
   "cell_type": "code",
   "execution_count": 95,
   "metadata": {},
   "outputs": [],
   "source": [
    "import pandas as pd\n",
    "import dash\n",
    "from dash import html, dash_table, dcc, Dash\n",
    "import plotly.graph_objects as go\n",
    "import dash_bootstrap_components as dbc\n",
    "# from src.components.database_connection import load_division_goods_monthwise_outward_data\n",
    "import datetime\n",
    "\n",
    "\n",
    "import os\n",
    "import pandas as pd\n",
    "from dotenv import load_dotenv\n",
    "from sqlalchemy import create_engine, text\n",
    "\n",
    "# Load environment variables from .env file\n",
    "load_dotenv()\n",
    "\n",
    "# Access the database connection details\n",
    "DB_HOST = os.getenv(\"DB_HOST\")\n",
    "DB_PORT = os.getenv(\"DB_PORT\")\n",
    "DB_NAME = os.getenv(\"DB_NAME\")\n",
    "DB_USER = os.getenv(\"DB_USER\")\n",
    "DB_PASSWORD = os.getenv(\"DB_PASSWORD\")\n",
    "\n",
    "# Define the database connection URI\n",
    "DB_URI = f\"postgresql://{DB_USER}:{DB_PASSWORD}@{DB_HOST}:{DB_PORT}/{DB_NAME}\"\n",
    "\n",
    "# Create a SQLAlchemy engine\n",
    "engine = create_engine(DB_URI)\n",
    "\n",
    "conn = engine.connect()\n",
    "\n",
    "def load_division_good_yearly_depowisesoutward_data(selected_division):\n",
    "    # Execute the query and read into a DataFrame\n",
    "    selected_division = selected_division.lower()\n",
    "    select_query = text(f\"SELECT * FROM division_goods_depowise_yearly_earning WHERE division_code = '{selected_division}'\")\n",
    "    earnings_df = pd.read_sql_query(select_query, conn)\n",
    "    return earnings_df\n",
    "\n",
    "def load_division_goods_monthwise_outward_data(selected_division):\n",
    "    # Execute the query and read into a DataFrame\n",
    "    selected_division = selected_division.lower()\n",
    "    select_query = text(f\"SELECT * FROM division_goods_monthwise_outward WHERE division_code = '{selected_division}'\")\n",
    "    earnings_df = pd.read_sql_query(select_query, conn)\n",
    "    return earnings_df\n",
    "\n",
    "# Define function to load division earnings data\n",
    "def load_division_target_data(selected_division):\n",
    "    # Execute the query and read into a DataFrame\n",
    "    selected_division = selected_division.lower()\n",
    "    select_query = text(f\"SELECT * FROM division_target WHERE division_code = '{selected_division}'\")\n",
    "    earnings_df = pd.read_sql_query(select_query, conn)\n",
    "    return earnings_df\n",
    "\n",
    "def load_division_commoditywise_yearly_data(selected_division):\n",
    "    selected_division = selected_division.lower()\n",
    "    select_query = text(f\"SELECT * FROM division_goods_commodity_outward WHERE division_code = '{selected_division}'\")\n",
    "    earnings_df = pd.read_sql_query(select_query, conn)\n",
    "    return earnings_df\n",
    "\n",
    "class load_goods_page:\n",
    "    def __init__(self , selected_division):\n",
    "        self.selected_division = selected_division\n",
    "        self.division_goods_outward_df =load_division_goods_monthwise_outward_data(selected_division=self.selected_division)\n",
    "        self.divisiion_target_df = load_division_target_data(selected_division=selected_division)\n",
    "        self.division_depowise_outward_df = load_division_good_yearly_depowisesoutward_data(selected_division=selected_division)\n",
    "        self.division_commodity_wise_outward_df = load_division_commoditywise_yearly_data(selected_division)\n",
    "        \n",
    "        goods_outward = self.division_goods_outward_df\n",
    "        current_date = datetime.datetime.now()\n",
    "        current_year = current_date.year\n",
    "        current_month = current_date.month\n",
    "        \n",
    "        \n",
    "\n",
    "        if current_month < 4:  # Financial year starts from April\n",
    "            start_year = current_year - 1\n",
    "            end_year = current_year\n",
    "        else:\n",
    "            start_year = current_year\n",
    "            end_year = current_year + 1\n",
    "            \n",
    "        \n",
    "        \n",
    "        financial_year_start = pd.Timestamp(year=start_year, month=4, day=1)\n",
    "        financial_year_end = pd.Timestamp(year=end_year, month=3, day=31)\n",
    "        # march_year_end = pd.Timestamp(year=end_year, month=3, day=1)\n",
    "       \n",
    "        self.current_year_monthwise_outward_data = goods_outward[(goods_outward['earning_month'] >= financial_year_start.date()) &\n",
    "                                        (goods_outward['earning_month'] <= financial_year_end.date())]\n",
    "        \n",
    "        previous_financial_year_start = pd.Timestamp(\n",
    "            year=start_year-1, month=4, day=1)\n",
    "        previous_financial_year_end = pd.Timestamp(\n",
    "            year=end_year-1, month=3, day=31)\n",
    "        self.previous_year_monthwise_outward_data = goods_outward[(goods_outward['earning_month'] >= previous_financial_year_start.date()) &\n",
    "                                        (goods_outward['earning_month'] <= previous_financial_year_end.date())]\n",
    "       \n",
    "        current_year = pd.Timestamp(\n",
    "            year=start_year+1, month=3, day=31)\n",
    "        previous_year = pd.Timestamp(\n",
    "            year=start_year, month=3, day=31)\n",
    "        self.current_year_depowise_df = self.division_depowise_outward_df[(self.division_depowise_outward_df['earning_year'] == current_year.date())]\n",
    "                      \n",
    "        self.previous_year_depowise_df = self.division_depowise_outward_df[(self.division_depowise_outward_df['earning_year'] == previous_year.date())]\n",
    "        \n",
    "        self.current_year_commoditywise_ouward_df = self.division_commodity_wise_outward_df[(self.division_commodity_wise_outward_df['earning_year'] == current_year.date())]\n",
    "        \n",
    "        self.previous_year_commoditywise_outward_df = self.division_commodity_wise_outward_df[(self.division_commodity_wise_outward_df['earning_year'] == previous_year.date())]\n",
    "    # def plot_monthwise_outward_comparison_plot(self):\n",
    "    #     return \n",
    "        \n",
    "        \n",
    "\n",
    "\n",
    "selected_division = 'pune'\n",
    "class_object = load_goods_page(selected_division)\n"
   ]
  },
  {
   "cell_type": "code",
   "execution_count": 98,
   "metadata": {},
   "outputs": [
    {
     "data": {
      "text/html": [
       "<div>\n",
       "<style scoped>\n",
       "    .dataframe tbody tr th:only-of-type {\n",
       "        vertical-align: middle;\n",
       "    }\n",
       "\n",
       "    .dataframe tbody tr th {\n",
       "        vertical-align: top;\n",
       "    }\n",
       "\n",
       "    .dataframe thead th {\n",
       "        text-align: right;\n",
       "    }\n",
       "</style>\n",
       "<table border=\"1\" class=\"dataframe\">\n",
       "  <thead>\n",
       "    <tr style=\"text-align: right;\">\n",
       "      <th></th>\n",
       "      <th>id</th>\n",
       "      <th>earning_year</th>\n",
       "      <th>rakes</th>\n",
       "      <th>wagon</th>\n",
       "      <th>weight</th>\n",
       "      <th>freight</th>\n",
       "      <th>commodity</th>\n",
       "      <th>division_code</th>\n",
       "    </tr>\n",
       "  </thead>\n",
       "  <tbody>\n",
       "    <tr>\n",
       "      <th>0</th>\n",
       "      <td>36</td>\n",
       "      <td>2023-03-31</td>\n",
       "      <td>345.0</td>\n",
       "      <td>14208.0</td>\n",
       "      <td>900544.0</td>\n",
       "      <td>901097.0</td>\n",
       "      <td>SUGAR</td>\n",
       "      <td>pune</td>\n",
       "    </tr>\n",
       "    <tr>\n",
       "      <th>1</th>\n",
       "      <td>37</td>\n",
       "      <td>2023-03-31</td>\n",
       "      <td>355.0</td>\n",
       "      <td>17674.0</td>\n",
       "      <td>915587.0</td>\n",
       "      <td>1093616.0</td>\n",
       "      <td>POL</td>\n",
       "      <td>pune</td>\n",
       "    </tr>\n",
       "    <tr>\n",
       "      <th>2</th>\n",
       "      <td>38</td>\n",
       "      <td>2023-03-31</td>\n",
       "      <td>0.0</td>\n",
       "      <td>0.0</td>\n",
       "      <td>0.0</td>\n",
       "      <td>0.0</td>\n",
       "      <td>DRY GRASS</td>\n",
       "      <td>pune</td>\n",
       "    </tr>\n",
       "    <tr>\n",
       "      <th>3</th>\n",
       "      <td>39</td>\n",
       "      <td>2023-03-31</td>\n",
       "      <td>603.0</td>\n",
       "      <td>15416.0</td>\n",
       "      <td>785217.0</td>\n",
       "      <td>800236.0</td>\n",
       "      <td>AUTOMOBILE</td>\n",
       "      <td>pune</td>\n",
       "    </tr>\n",
       "    <tr>\n",
       "      <th>4</th>\n",
       "      <td>40</td>\n",
       "      <td>2023-03-31</td>\n",
       "      <td>0.0</td>\n",
       "      <td>0.0</td>\n",
       "      <td>0.0</td>\n",
       "      <td>0.0</td>\n",
       "      <td>IRON ORE</td>\n",
       "      <td>pune</td>\n",
       "    </tr>\n",
       "    <tr>\n",
       "      <th>5</th>\n",
       "      <td>41</td>\n",
       "      <td>2023-03-31</td>\n",
       "      <td>0.0</td>\n",
       "      <td>0.0</td>\n",
       "      <td>0.0</td>\n",
       "      <td>0.0</td>\n",
       "      <td>PIG IRON</td>\n",
       "      <td>pune</td>\n",
       "    </tr>\n",
       "    <tr>\n",
       "      <th>6</th>\n",
       "      <td>42</td>\n",
       "      <td>2023-03-31</td>\n",
       "      <td>0.0</td>\n",
       "      <td>0.0</td>\n",
       "      <td>0.0</td>\n",
       "      <td>0.0</td>\n",
       "      <td>BENTONITE POWDER</td>\n",
       "      <td>pune</td>\n",
       "    </tr>\n",
       "    <tr>\n",
       "      <th>7</th>\n",
       "      <td>43</td>\n",
       "      <td>2023-03-31</td>\n",
       "      <td>0.0</td>\n",
       "      <td>0.0</td>\n",
       "      <td>0.0</td>\n",
       "      <td>0.0</td>\n",
       "      <td>CEMENT</td>\n",
       "      <td>pune</td>\n",
       "    </tr>\n",
       "    <tr>\n",
       "      <th>8</th>\n",
       "      <td>44</td>\n",
       "      <td>2023-03-31</td>\n",
       "      <td>1.0</td>\n",
       "      <td>42.0</td>\n",
       "      <td>2661.0</td>\n",
       "      <td>2704.0</td>\n",
       "      <td>FOODGRAIN</td>\n",
       "      <td>pune</td>\n",
       "    </tr>\n",
       "    <tr>\n",
       "      <th>9</th>\n",
       "      <td>45</td>\n",
       "      <td>2023-03-31</td>\n",
       "      <td>0.0</td>\n",
       "      <td>0.0</td>\n",
       "      <td>0.0</td>\n",
       "      <td>0.0</td>\n",
       "      <td>IRON STEEL</td>\n",
       "      <td>pune</td>\n",
       "    </tr>\n",
       "    <tr>\n",
       "      <th>10</th>\n",
       "      <td>46</td>\n",
       "      <td>2023-03-31</td>\n",
       "      <td>0.0</td>\n",
       "      <td>0.0</td>\n",
       "      <td>0.0</td>\n",
       "      <td>0.0</td>\n",
       "      <td>FURNACE OIL</td>\n",
       "      <td>pune</td>\n",
       "    </tr>\n",
       "    <tr>\n",
       "      <th>11</th>\n",
       "      <td>47</td>\n",
       "      <td>2023-03-31</td>\n",
       "      <td>0.0</td>\n",
       "      <td>0.0</td>\n",
       "      <td>0.0</td>\n",
       "      <td>0.0</td>\n",
       "      <td>OTHER</td>\n",
       "      <td>pune</td>\n",
       "    </tr>\n",
       "    <tr>\n",
       "      <th>12</th>\n",
       "      <td>48</td>\n",
       "      <td>2023-03-31</td>\n",
       "      <td>2.0</td>\n",
       "      <td>42.0</td>\n",
       "      <td>2748.0</td>\n",
       "      <td>2792.0</td>\n",
       "      <td>FERTILIZER</td>\n",
       "      <td>pune</td>\n",
       "    </tr>\n",
       "    <tr>\n",
       "      <th>13</th>\n",
       "      <td>49</td>\n",
       "      <td>2023-03-31</td>\n",
       "      <td>216.0</td>\n",
       "      <td>4263.0</td>\n",
       "      <td>261458.0</td>\n",
       "      <td>265937.0</td>\n",
       "      <td>RMC</td>\n",
       "      <td>pune</td>\n",
       "    </tr>\n",
       "    <tr>\n",
       "      <th>14</th>\n",
       "      <td>50</td>\n",
       "      <td>2023-03-31</td>\n",
       "      <td>0.0</td>\n",
       "      <td>0.0</td>\n",
       "      <td>0.0</td>\n",
       "      <td>0.0</td>\n",
       "      <td>CONCOR</td>\n",
       "      <td>pune</td>\n",
       "    </tr>\n",
       "    <tr>\n",
       "      <th>15</th>\n",
       "      <td>51</td>\n",
       "      <td>2023-03-31</td>\n",
       "      <td>0.0</td>\n",
       "      <td>0.0</td>\n",
       "      <td>0.0</td>\n",
       "      <td>0.0</td>\n",
       "      <td>EMPTY CONTAINER</td>\n",
       "      <td>pune</td>\n",
       "    </tr>\n",
       "    <tr>\n",
       "      <th>16</th>\n",
       "      <td>52</td>\n",
       "      <td>2023-03-31</td>\n",
       "      <td>11.0</td>\n",
       "      <td>297.0</td>\n",
       "      <td>0.0</td>\n",
       "      <td>308.0</td>\n",
       "      <td>EMPTY HAULAGE RAKE</td>\n",
       "      <td>pune</td>\n",
       "    </tr>\n",
       "    <tr>\n",
       "      <th>17</th>\n",
       "      <td>53</td>\n",
       "      <td>2023-03-31</td>\n",
       "      <td>0.0</td>\n",
       "      <td>0.0</td>\n",
       "      <td>0.0</td>\n",
       "      <td>0.0</td>\n",
       "      <td>FLY ASH</td>\n",
       "      <td>pune</td>\n",
       "    </tr>\n",
       "    <tr>\n",
       "      <th>18</th>\n",
       "      <td>54</td>\n",
       "      <td>2023-03-31</td>\n",
       "      <td>0.0</td>\n",
       "      <td>0.0</td>\n",
       "      <td>0.0</td>\n",
       "      <td>0.0</td>\n",
       "      <td>JAGGERY</td>\n",
       "      <td>pune</td>\n",
       "    </tr>\n",
       "  </tbody>\n",
       "</table>\n",
       "</div>"
      ],
      "text/plain": [
       "    id earning_year  rakes    wagon    weight    freight           commodity  \\\n",
       "0   36   2023-03-31  345.0  14208.0  900544.0   901097.0               SUGAR   \n",
       "1   37   2023-03-31  355.0  17674.0  915587.0  1093616.0                 POL   \n",
       "2   38   2023-03-31    0.0      0.0       0.0        0.0           DRY GRASS   \n",
       "3   39   2023-03-31  603.0  15416.0  785217.0   800236.0          AUTOMOBILE   \n",
       "4   40   2023-03-31    0.0      0.0       0.0        0.0            IRON ORE   \n",
       "5   41   2023-03-31    0.0      0.0       0.0        0.0            PIG IRON   \n",
       "6   42   2023-03-31    0.0      0.0       0.0        0.0    BENTONITE POWDER   \n",
       "7   43   2023-03-31    0.0      0.0       0.0        0.0              CEMENT   \n",
       "8   44   2023-03-31    1.0     42.0    2661.0     2704.0           FOODGRAIN   \n",
       "9   45   2023-03-31    0.0      0.0       0.0        0.0          IRON STEEL   \n",
       "10  46   2023-03-31    0.0      0.0       0.0        0.0         FURNACE OIL   \n",
       "11  47   2023-03-31    0.0      0.0       0.0        0.0               OTHER   \n",
       "12  48   2023-03-31    2.0     42.0    2748.0     2792.0          FERTILIZER   \n",
       "13  49   2023-03-31  216.0   4263.0  261458.0   265937.0                 RMC   \n",
       "14  50   2023-03-31    0.0      0.0       0.0        0.0              CONCOR   \n",
       "15  51   2023-03-31    0.0      0.0       0.0        0.0     EMPTY CONTAINER   \n",
       "16  52   2023-03-31   11.0    297.0       0.0      308.0  EMPTY HAULAGE RAKE   \n",
       "17  53   2023-03-31    0.0      0.0       0.0        0.0             FLY ASH   \n",
       "18  54   2023-03-31    0.0      0.0       0.0        0.0             JAGGERY   \n",
       "\n",
       "   division_code  \n",
       "0           pune  \n",
       "1           pune  \n",
       "2           pune  \n",
       "3           pune  \n",
       "4           pune  \n",
       "5           pune  \n",
       "6           pune  \n",
       "7           pune  \n",
       "8           pune  \n",
       "9           pune  \n",
       "10          pune  \n",
       "11          pune  \n",
       "12          pune  \n",
       "13          pune  \n",
       "14          pune  \n",
       "15          pune  \n",
       "16          pune  \n",
       "17          pune  \n",
       "18          pune  "
      ]
     },
     "execution_count": 98,
     "metadata": {},
     "output_type": "execute_result"
    }
   ],
   "source": [
    "class_object.previous_year_commoditywise_outward_df.head(30)"
   ]
  },
  {
   "cell_type": "markdown",
   "metadata": {},
   "source": []
  },
  {
   "cell_type": "code",
   "execution_count": null,
   "metadata": {},
   "outputs": [],
   "source": [
    "current_year_monthwise_outward_df = class_object.current_year_monthwise_outward_data\n",
    "previous_year_monthwise_outward_df = class_object.previous_year_monthwise_outward_data\n",
    "division_monthwise_target_df = class_object.divisiion_target_df\n"
   ]
  },
  {
   "cell_type": "code",
   "execution_count": null,
   "metadata": {},
   "outputs": [
    {
     "data": {
      "text/html": [
       "<div>\n",
       "<style scoped>\n",
       "    .dataframe tbody tr th:only-of-type {\n",
       "        vertical-align: middle;\n",
       "    }\n",
       "\n",
       "    .dataframe tbody tr th {\n",
       "        vertical-align: top;\n",
       "    }\n",
       "\n",
       "    .dataframe thead th {\n",
       "        text-align: right;\n",
       "    }\n",
       "</style>\n",
       "<table border=\"1\" class=\"dataframe\">\n",
       "  <thead>\n",
       "    <tr style=\"text-align: right;\">\n",
       "      <th></th>\n",
       "      <th>earning_id</th>\n",
       "      <th>earning_month</th>\n",
       "      <th>uts_sub_urban_pass</th>\n",
       "      <th>non_sub_pass</th>\n",
       "      <th>total_pass</th>\n",
       "      <th>freight</th>\n",
       "      <th>other_coaching</th>\n",
       "      <th>total</th>\n",
       "      <th>sundry</th>\n",
       "      <th>gross_total</th>\n",
       "      <th>sub_passengers</th>\n",
       "      <th>non_sub_passengers</th>\n",
       "      <th>total_passengers</th>\n",
       "      <th>division_code</th>\n",
       "    </tr>\n",
       "  </thead>\n",
       "  <tbody>\n",
       "    <tr>\n",
       "      <th>0</th>\n",
       "      <td>1</td>\n",
       "      <td>2023-04-01</td>\n",
       "      <td>0.75</td>\n",
       "      <td>78.73</td>\n",
       "      <td>79.48</td>\n",
       "      <td>30.73</td>\n",
       "      <td>9.34</td>\n",
       "      <td>119.55</td>\n",
       "      <td>1.67</td>\n",
       "      <td>121.22</td>\n",
       "      <td>1.32</td>\n",
       "      <td>2.05</td>\n",
       "      <td>3.37</td>\n",
       "      <td>pune</td>\n",
       "    </tr>\n",
       "    <tr>\n",
       "      <th>1</th>\n",
       "      <td>2</td>\n",
       "      <td>2023-05-01</td>\n",
       "      <td>0.98</td>\n",
       "      <td>81.14</td>\n",
       "      <td>82.12</td>\n",
       "      <td>29.03</td>\n",
       "      <td>12.49</td>\n",
       "      <td>123.64</td>\n",
       "      <td>1.67</td>\n",
       "      <td>125.31</td>\n",
       "      <td>1.57</td>\n",
       "      <td>2.12</td>\n",
       "      <td>3.69</td>\n",
       "      <td>pune</td>\n",
       "    </tr>\n",
       "    <tr>\n",
       "      <th>2</th>\n",
       "      <td>3</td>\n",
       "      <td>2023-06-01</td>\n",
       "      <td>0.99</td>\n",
       "      <td>83.97</td>\n",
       "      <td>84.96</td>\n",
       "      <td>38.93</td>\n",
       "      <td>13.35</td>\n",
       "      <td>137.24</td>\n",
       "      <td>1.67</td>\n",
       "      <td>138.91</td>\n",
       "      <td>1.64</td>\n",
       "      <td>2.21</td>\n",
       "      <td>3.85</td>\n",
       "      <td>pune</td>\n",
       "    </tr>\n",
       "    <tr>\n",
       "      <th>3</th>\n",
       "      <td>4</td>\n",
       "      <td>2023-07-01</td>\n",
       "      <td>1.06</td>\n",
       "      <td>96.04</td>\n",
       "      <td>97.10</td>\n",
       "      <td>44.73</td>\n",
       "      <td>10.13</td>\n",
       "      <td>151.96</td>\n",
       "      <td>1.67</td>\n",
       "      <td>153.63</td>\n",
       "      <td>1.64</td>\n",
       "      <td>2.56</td>\n",
       "      <td>4.20</td>\n",
       "      <td>pune</td>\n",
       "    </tr>\n",
       "    <tr>\n",
       "      <th>4</th>\n",
       "      <td>5</td>\n",
       "      <td>2023-08-01</td>\n",
       "      <td>1.15</td>\n",
       "      <td>92.46</td>\n",
       "      <td>93.61</td>\n",
       "      <td>38.06</td>\n",
       "      <td>8.93</td>\n",
       "      <td>140.60</td>\n",
       "      <td>1.67</td>\n",
       "      <td>142.27</td>\n",
       "      <td>1.82</td>\n",
       "      <td>2.68</td>\n",
       "      <td>4.50</td>\n",
       "      <td>pune</td>\n",
       "    </tr>\n",
       "    <tr>\n",
       "      <th>5</th>\n",
       "      <td>6</td>\n",
       "      <td>2023-09-01</td>\n",
       "      <td>1.17</td>\n",
       "      <td>93.11</td>\n",
       "      <td>94.28</td>\n",
       "      <td>42.91</td>\n",
       "      <td>11.65</td>\n",
       "      <td>148.84</td>\n",
       "      <td>1.67</td>\n",
       "      <td>150.51</td>\n",
       "      <td>2.04</td>\n",
       "      <td>2.85</td>\n",
       "      <td>4.89</td>\n",
       "      <td>pune</td>\n",
       "    </tr>\n",
       "    <tr>\n",
       "      <th>6</th>\n",
       "      <td>7</td>\n",
       "      <td>2023-10-01</td>\n",
       "      <td>1.15</td>\n",
       "      <td>85.21</td>\n",
       "      <td>86.36</td>\n",
       "      <td>32.83</td>\n",
       "      <td>11.71</td>\n",
       "      <td>130.90</td>\n",
       "      <td>1.67</td>\n",
       "      <td>132.57</td>\n",
       "      <td>1.86</td>\n",
       "      <td>2.97</td>\n",
       "      <td>4.83</td>\n",
       "      <td>pune</td>\n",
       "    </tr>\n",
       "    <tr>\n",
       "      <th>7</th>\n",
       "      <td>8</td>\n",
       "      <td>2023-11-01</td>\n",
       "      <td>1.24</td>\n",
       "      <td>98.28</td>\n",
       "      <td>99.52</td>\n",
       "      <td>47.54</td>\n",
       "      <td>9.47</td>\n",
       "      <td>156.53</td>\n",
       "      <td>1.67</td>\n",
       "      <td>158.20</td>\n",
       "      <td>2.15</td>\n",
       "      <td>3.20</td>\n",
       "      <td>5.35</td>\n",
       "      <td>pune</td>\n",
       "    </tr>\n",
       "    <tr>\n",
       "      <th>8</th>\n",
       "      <td>9</td>\n",
       "      <td>2023-12-01</td>\n",
       "      <td>1.22</td>\n",
       "      <td>98.34</td>\n",
       "      <td>99.56</td>\n",
       "      <td>40.64</td>\n",
       "      <td>9.76</td>\n",
       "      <td>149.96</td>\n",
       "      <td>1.67</td>\n",
       "      <td>151.63</td>\n",
       "      <td>2.08</td>\n",
       "      <td>3.14</td>\n",
       "      <td>5.22</td>\n",
       "      <td>pune</td>\n",
       "    </tr>\n",
       "    <tr>\n",
       "      <th>9</th>\n",
       "      <td>10</td>\n",
       "      <td>2024-01-01</td>\n",
       "      <td>1.22</td>\n",
       "      <td>102.20</td>\n",
       "      <td>103.42</td>\n",
       "      <td>31.64</td>\n",
       "      <td>9.21</td>\n",
       "      <td>144.27</td>\n",
       "      <td>1.67</td>\n",
       "      <td>145.94</td>\n",
       "      <td>2.06</td>\n",
       "      <td>3.21</td>\n",
       "      <td>5.27</td>\n",
       "      <td>pune</td>\n",
       "    </tr>\n",
       "    <tr>\n",
       "      <th>10</th>\n",
       "      <td>11</td>\n",
       "      <td>2024-02-01</td>\n",
       "      <td>1.13</td>\n",
       "      <td>96.15</td>\n",
       "      <td>97.28</td>\n",
       "      <td>31.37</td>\n",
       "      <td>8.28</td>\n",
       "      <td>136.93</td>\n",
       "      <td>1.67</td>\n",
       "      <td>138.60</td>\n",
       "      <td>1.91</td>\n",
       "      <td>2.85</td>\n",
       "      <td>4.76</td>\n",
       "      <td>pune</td>\n",
       "    </tr>\n",
       "    <tr>\n",
       "      <th>11</th>\n",
       "      <td>12</td>\n",
       "      <td>2024-03-01</td>\n",
       "      <td>1.20</td>\n",
       "      <td>100.83</td>\n",
       "      <td>102.03</td>\n",
       "      <td>36.29</td>\n",
       "      <td>9.71</td>\n",
       "      <td>148.03</td>\n",
       "      <td>1.67</td>\n",
       "      <td>149.70</td>\n",
       "      <td>2.00</td>\n",
       "      <td>3.13</td>\n",
       "      <td>5.13</td>\n",
       "      <td>pune</td>\n",
       "    </tr>\n",
       "  </tbody>\n",
       "</table>\n",
       "</div>"
      ],
      "text/plain": [
       "    earning_id earning_month  uts_sub_urban_pass  non_sub_pass  total_pass  \\\n",
       "0            1    2023-04-01                0.75         78.73       79.48   \n",
       "1            2    2023-05-01                0.98         81.14       82.12   \n",
       "2            3    2023-06-01                0.99         83.97       84.96   \n",
       "3            4    2023-07-01                1.06         96.04       97.10   \n",
       "4            5    2023-08-01                1.15         92.46       93.61   \n",
       "5            6    2023-09-01                1.17         93.11       94.28   \n",
       "6            7    2023-10-01                1.15         85.21       86.36   \n",
       "7            8    2023-11-01                1.24         98.28       99.52   \n",
       "8            9    2023-12-01                1.22         98.34       99.56   \n",
       "9           10    2024-01-01                1.22        102.20      103.42   \n",
       "10          11    2024-02-01                1.13         96.15       97.28   \n",
       "11          12    2024-03-01                1.20        100.83      102.03   \n",
       "\n",
       "    freight  other_coaching   total  sundry  gross_total  sub_passengers  \\\n",
       "0     30.73            9.34  119.55    1.67       121.22            1.32   \n",
       "1     29.03           12.49  123.64    1.67       125.31            1.57   \n",
       "2     38.93           13.35  137.24    1.67       138.91            1.64   \n",
       "3     44.73           10.13  151.96    1.67       153.63            1.64   \n",
       "4     38.06            8.93  140.60    1.67       142.27            1.82   \n",
       "5     42.91           11.65  148.84    1.67       150.51            2.04   \n",
       "6     32.83           11.71  130.90    1.67       132.57            1.86   \n",
       "7     47.54            9.47  156.53    1.67       158.20            2.15   \n",
       "8     40.64            9.76  149.96    1.67       151.63            2.08   \n",
       "9     31.64            9.21  144.27    1.67       145.94            2.06   \n",
       "10    31.37            8.28  136.93    1.67       138.60            1.91   \n",
       "11    36.29            9.71  148.03    1.67       149.70            2.00   \n",
       "\n",
       "    non_sub_passengers  total_passengers division_code  \n",
       "0                 2.05              3.37          pune  \n",
       "1                 2.12              3.69          pune  \n",
       "2                 2.21              3.85          pune  \n",
       "3                 2.56              4.20          pune  \n",
       "4                 2.68              4.50          pune  \n",
       "5                 2.85              4.89          pune  \n",
       "6                 2.97              4.83          pune  \n",
       "7                 3.20              5.35          pune  \n",
       "8                 3.14              5.22          pune  \n",
       "9                 3.21              5.27          pune  \n",
       "10                2.85              4.76          pune  \n",
       "11                3.13              5.13          pune  "
      ]
     },
     "execution_count": 66,
     "metadata": {},
     "output_type": "execute_result"
    }
   ],
   "source": [
    "division_monthwise_target_df.head(30)"
   ]
  },
  {
   "cell_type": "code",
   "execution_count": null,
   "metadata": {},
   "outputs": [
    {
     "data": {
      "application/vnd.plotly.v1+json": {
       "config": {
        "plotlyServerURL": "https://plot.ly"
       },
       "data": [
        {
         "hovertemplate": "Month: %{x}<br>Current Year Freight: %{y:.2f} Cr",
         "mode": "lines+markers",
         "name": "CY Freight",
         "showlegend": true,
         "type": "scatter",
         "x": [
          "Apr",
          "May",
          "Jun",
          "Jul",
          "Aug",
          "Sep",
          "Oct",
          "Nov",
          "Dec",
          "Jan",
          "Feb",
          "Mar"
         ],
         "y": [
          30.76,
          28.04,
          36.14,
          34.99,
          43.98,
          40.17,
          42.38,
          31.41,
          40.7,
          28.05
         ]
        },
        {
         "hovertemplate": "Month: %{x}<br>Last Year Freight: %{y:.2f} Cr",
         "mode": "lines+markers",
         "name": "LY Freight",
         "showlegend": true,
         "type": "scatter",
         "x": [
          "Apr",
          "May",
          "Jun",
          "Jul",
          "Aug",
          "Sep",
          "Oct",
          "Nov",
          "Dec",
          "Jan",
          "Feb",
          "Mar"
         ],
         "y": [
          28.3,
          25.7,
          35.3,
          40.5,
          34.4,
          38.9,
          30,
          43.2,
          36.8,
          28.8,
          28.3,
          32.9
         ]
        },
        {
         "hovertemplate": "Month: %{x}<br>Last Year Freight: %{y:.2f} Cr",
         "mode": "lines+markers",
         "name": "TGT Freight",
         "showlegend": true,
         "type": "scatter",
         "x": [
          "Apr",
          "May",
          "Jun",
          "Jul",
          "Aug",
          "Sep",
          "Oct",
          "Nov",
          "Dec",
          "Jan",
          "Feb",
          "Mar"
         ],
         "y": [
          30.73,
          29.03,
          38.93,
          44.73,
          38.06,
          42.91,
          32.83,
          47.54,
          40.64,
          31.64,
          31.37,
          36.29
         ]
        }
       ],
       "layout": {
        "legend": {
         "bgcolor": "rgba(255, 255, 255, 0.5)",
         "bordercolor": "rgba(0, 0, 0, 0.5)",
         "borderwidth": 1,
         "font": {
          "color": "black",
          "family": "sans-serif",
          "size": 12
         },
         "orientation": "h",
         "traceorder": "normal",
         "x": 0.3,
         "y": 1.15
        },
        "margin": {
         "b": 10,
         "r": 10,
         "t": 10
        },
        "template": {
         "data": {
          "bar": [
           {
            "error_x": {
             "color": "#2a3f5f"
            },
            "error_y": {
             "color": "#2a3f5f"
            },
            "marker": {
             "line": {
              "color": "#E5ECF6",
              "width": 0.5
             },
             "pattern": {
              "fillmode": "overlay",
              "size": 10,
              "solidity": 0.2
             }
            },
            "type": "bar"
           }
          ],
          "barpolar": [
           {
            "marker": {
             "line": {
              "color": "#E5ECF6",
              "width": 0.5
             },
             "pattern": {
              "fillmode": "overlay",
              "size": 10,
              "solidity": 0.2
             }
            },
            "type": "barpolar"
           }
          ],
          "carpet": [
           {
            "aaxis": {
             "endlinecolor": "#2a3f5f",
             "gridcolor": "white",
             "linecolor": "white",
             "minorgridcolor": "white",
             "startlinecolor": "#2a3f5f"
            },
            "baxis": {
             "endlinecolor": "#2a3f5f",
             "gridcolor": "white",
             "linecolor": "white",
             "minorgridcolor": "white",
             "startlinecolor": "#2a3f5f"
            },
            "type": "carpet"
           }
          ],
          "choropleth": [
           {
            "colorbar": {
             "outlinewidth": 0,
             "ticks": ""
            },
            "type": "choropleth"
           }
          ],
          "contour": [
           {
            "colorbar": {
             "outlinewidth": 0,
             "ticks": ""
            },
            "colorscale": [
             [
              0,
              "#0d0887"
             ],
             [
              0.1111111111111111,
              "#46039f"
             ],
             [
              0.2222222222222222,
              "#7201a8"
             ],
             [
              0.3333333333333333,
              "#9c179e"
             ],
             [
              0.4444444444444444,
              "#bd3786"
             ],
             [
              0.5555555555555556,
              "#d8576b"
             ],
             [
              0.6666666666666666,
              "#ed7953"
             ],
             [
              0.7777777777777778,
              "#fb9f3a"
             ],
             [
              0.8888888888888888,
              "#fdca26"
             ],
             [
              1,
              "#f0f921"
             ]
            ],
            "type": "contour"
           }
          ],
          "contourcarpet": [
           {
            "colorbar": {
             "outlinewidth": 0,
             "ticks": ""
            },
            "type": "contourcarpet"
           }
          ],
          "heatmap": [
           {
            "colorbar": {
             "outlinewidth": 0,
             "ticks": ""
            },
            "colorscale": [
             [
              0,
              "#0d0887"
             ],
             [
              0.1111111111111111,
              "#46039f"
             ],
             [
              0.2222222222222222,
              "#7201a8"
             ],
             [
              0.3333333333333333,
              "#9c179e"
             ],
             [
              0.4444444444444444,
              "#bd3786"
             ],
             [
              0.5555555555555556,
              "#d8576b"
             ],
             [
              0.6666666666666666,
              "#ed7953"
             ],
             [
              0.7777777777777778,
              "#fb9f3a"
             ],
             [
              0.8888888888888888,
              "#fdca26"
             ],
             [
              1,
              "#f0f921"
             ]
            ],
            "type": "heatmap"
           }
          ],
          "heatmapgl": [
           {
            "colorbar": {
             "outlinewidth": 0,
             "ticks": ""
            },
            "colorscale": [
             [
              0,
              "#0d0887"
             ],
             [
              0.1111111111111111,
              "#46039f"
             ],
             [
              0.2222222222222222,
              "#7201a8"
             ],
             [
              0.3333333333333333,
              "#9c179e"
             ],
             [
              0.4444444444444444,
              "#bd3786"
             ],
             [
              0.5555555555555556,
              "#d8576b"
             ],
             [
              0.6666666666666666,
              "#ed7953"
             ],
             [
              0.7777777777777778,
              "#fb9f3a"
             ],
             [
              0.8888888888888888,
              "#fdca26"
             ],
             [
              1,
              "#f0f921"
             ]
            ],
            "type": "heatmapgl"
           }
          ],
          "histogram": [
           {
            "marker": {
             "pattern": {
              "fillmode": "overlay",
              "size": 10,
              "solidity": 0.2
             }
            },
            "type": "histogram"
           }
          ],
          "histogram2d": [
           {
            "colorbar": {
             "outlinewidth": 0,
             "ticks": ""
            },
            "colorscale": [
             [
              0,
              "#0d0887"
             ],
             [
              0.1111111111111111,
              "#46039f"
             ],
             [
              0.2222222222222222,
              "#7201a8"
             ],
             [
              0.3333333333333333,
              "#9c179e"
             ],
             [
              0.4444444444444444,
              "#bd3786"
             ],
             [
              0.5555555555555556,
              "#d8576b"
             ],
             [
              0.6666666666666666,
              "#ed7953"
             ],
             [
              0.7777777777777778,
              "#fb9f3a"
             ],
             [
              0.8888888888888888,
              "#fdca26"
             ],
             [
              1,
              "#f0f921"
             ]
            ],
            "type": "histogram2d"
           }
          ],
          "histogram2dcontour": [
           {
            "colorbar": {
             "outlinewidth": 0,
             "ticks": ""
            },
            "colorscale": [
             [
              0,
              "#0d0887"
             ],
             [
              0.1111111111111111,
              "#46039f"
             ],
             [
              0.2222222222222222,
              "#7201a8"
             ],
             [
              0.3333333333333333,
              "#9c179e"
             ],
             [
              0.4444444444444444,
              "#bd3786"
             ],
             [
              0.5555555555555556,
              "#d8576b"
             ],
             [
              0.6666666666666666,
              "#ed7953"
             ],
             [
              0.7777777777777778,
              "#fb9f3a"
             ],
             [
              0.8888888888888888,
              "#fdca26"
             ],
             [
              1,
              "#f0f921"
             ]
            ],
            "type": "histogram2dcontour"
           }
          ],
          "mesh3d": [
           {
            "colorbar": {
             "outlinewidth": 0,
             "ticks": ""
            },
            "type": "mesh3d"
           }
          ],
          "parcoords": [
           {
            "line": {
             "colorbar": {
              "outlinewidth": 0,
              "ticks": ""
             }
            },
            "type": "parcoords"
           }
          ],
          "pie": [
           {
            "automargin": true,
            "type": "pie"
           }
          ],
          "scatter": [
           {
            "fillpattern": {
             "fillmode": "overlay",
             "size": 10,
             "solidity": 0.2
            },
            "type": "scatter"
           }
          ],
          "scatter3d": [
           {
            "line": {
             "colorbar": {
              "outlinewidth": 0,
              "ticks": ""
             }
            },
            "marker": {
             "colorbar": {
              "outlinewidth": 0,
              "ticks": ""
             }
            },
            "type": "scatter3d"
           }
          ],
          "scattercarpet": [
           {
            "marker": {
             "colorbar": {
              "outlinewidth": 0,
              "ticks": ""
             }
            },
            "type": "scattercarpet"
           }
          ],
          "scattergeo": [
           {
            "marker": {
             "colorbar": {
              "outlinewidth": 0,
              "ticks": ""
             }
            },
            "type": "scattergeo"
           }
          ],
          "scattergl": [
           {
            "marker": {
             "colorbar": {
              "outlinewidth": 0,
              "ticks": ""
             }
            },
            "type": "scattergl"
           }
          ],
          "scattermapbox": [
           {
            "marker": {
             "colorbar": {
              "outlinewidth": 0,
              "ticks": ""
             }
            },
            "type": "scattermapbox"
           }
          ],
          "scatterpolar": [
           {
            "marker": {
             "colorbar": {
              "outlinewidth": 0,
              "ticks": ""
             }
            },
            "type": "scatterpolar"
           }
          ],
          "scatterpolargl": [
           {
            "marker": {
             "colorbar": {
              "outlinewidth": 0,
              "ticks": ""
             }
            },
            "type": "scatterpolargl"
           }
          ],
          "scatterternary": [
           {
            "marker": {
             "colorbar": {
              "outlinewidth": 0,
              "ticks": ""
             }
            },
            "type": "scatterternary"
           }
          ],
          "surface": [
           {
            "colorbar": {
             "outlinewidth": 0,
             "ticks": ""
            },
            "colorscale": [
             [
              0,
              "#0d0887"
             ],
             [
              0.1111111111111111,
              "#46039f"
             ],
             [
              0.2222222222222222,
              "#7201a8"
             ],
             [
              0.3333333333333333,
              "#9c179e"
             ],
             [
              0.4444444444444444,
              "#bd3786"
             ],
             [
              0.5555555555555556,
              "#d8576b"
             ],
             [
              0.6666666666666666,
              "#ed7953"
             ],
             [
              0.7777777777777778,
              "#fb9f3a"
             ],
             [
              0.8888888888888888,
              "#fdca26"
             ],
             [
              1,
              "#f0f921"
             ]
            ],
            "type": "surface"
           }
          ],
          "table": [
           {
            "cells": {
             "fill": {
              "color": "#EBF0F8"
             },
             "line": {
              "color": "white"
             }
            },
            "header": {
             "fill": {
              "color": "#C8D4E3"
             },
             "line": {
              "color": "white"
             }
            },
            "type": "table"
           }
          ]
         },
         "layout": {
          "annotationdefaults": {
           "arrowcolor": "#2a3f5f",
           "arrowhead": 0,
           "arrowwidth": 1
          },
          "autotypenumbers": "strict",
          "coloraxis": {
           "colorbar": {
            "outlinewidth": 0,
            "ticks": ""
           }
          },
          "colorscale": {
           "diverging": [
            [
             0,
             "#8e0152"
            ],
            [
             0.1,
             "#c51b7d"
            ],
            [
             0.2,
             "#de77ae"
            ],
            [
             0.3,
             "#f1b6da"
            ],
            [
             0.4,
             "#fde0ef"
            ],
            [
             0.5,
             "#f7f7f7"
            ],
            [
             0.6,
             "#e6f5d0"
            ],
            [
             0.7,
             "#b8e186"
            ],
            [
             0.8,
             "#7fbc41"
            ],
            [
             0.9,
             "#4d9221"
            ],
            [
             1,
             "#276419"
            ]
           ],
           "sequential": [
            [
             0,
             "#0d0887"
            ],
            [
             0.1111111111111111,
             "#46039f"
            ],
            [
             0.2222222222222222,
             "#7201a8"
            ],
            [
             0.3333333333333333,
             "#9c179e"
            ],
            [
             0.4444444444444444,
             "#bd3786"
            ],
            [
             0.5555555555555556,
             "#d8576b"
            ],
            [
             0.6666666666666666,
             "#ed7953"
            ],
            [
             0.7777777777777778,
             "#fb9f3a"
            ],
            [
             0.8888888888888888,
             "#fdca26"
            ],
            [
             1,
             "#f0f921"
            ]
           ],
           "sequentialminus": [
            [
             0,
             "#0d0887"
            ],
            [
             0.1111111111111111,
             "#46039f"
            ],
            [
             0.2222222222222222,
             "#7201a8"
            ],
            [
             0.3333333333333333,
             "#9c179e"
            ],
            [
             0.4444444444444444,
             "#bd3786"
            ],
            [
             0.5555555555555556,
             "#d8576b"
            ],
            [
             0.6666666666666666,
             "#ed7953"
            ],
            [
             0.7777777777777778,
             "#fb9f3a"
            ],
            [
             0.8888888888888888,
             "#fdca26"
            ],
            [
             1,
             "#f0f921"
            ]
           ]
          },
          "colorway": [
           "#636efa",
           "#EF553B",
           "#00cc96",
           "#ab63fa",
           "#FFA15A",
           "#19d3f3",
           "#FF6692",
           "#B6E880",
           "#FF97FF",
           "#FECB52"
          ],
          "font": {
           "color": "#2a3f5f"
          },
          "geo": {
           "bgcolor": "white",
           "lakecolor": "white",
           "landcolor": "#E5ECF6",
           "showlakes": true,
           "showland": true,
           "subunitcolor": "white"
          },
          "hoverlabel": {
           "align": "left"
          },
          "hovermode": "closest",
          "mapbox": {
           "style": "light"
          },
          "paper_bgcolor": "white",
          "plot_bgcolor": "#E5ECF6",
          "polar": {
           "angularaxis": {
            "gridcolor": "white",
            "linecolor": "white",
            "ticks": ""
           },
           "bgcolor": "#E5ECF6",
           "radialaxis": {
            "gridcolor": "white",
            "linecolor": "white",
            "ticks": ""
           }
          },
          "scene": {
           "xaxis": {
            "backgroundcolor": "#E5ECF6",
            "gridcolor": "white",
            "gridwidth": 2,
            "linecolor": "white",
            "showbackground": true,
            "ticks": "",
            "zerolinecolor": "white"
           },
           "yaxis": {
            "backgroundcolor": "#E5ECF6",
            "gridcolor": "white",
            "gridwidth": 2,
            "linecolor": "white",
            "showbackground": true,
            "ticks": "",
            "zerolinecolor": "white"
           },
           "zaxis": {
            "backgroundcolor": "#E5ECF6",
            "gridcolor": "white",
            "gridwidth": 2,
            "linecolor": "white",
            "showbackground": true,
            "ticks": "",
            "zerolinecolor": "white"
           }
          },
          "shapedefaults": {
           "line": {
            "color": "#2a3f5f"
           }
          },
          "ternary": {
           "aaxis": {
            "gridcolor": "white",
            "linecolor": "white",
            "ticks": ""
           },
           "baxis": {
            "gridcolor": "white",
            "linecolor": "white",
            "ticks": ""
           },
           "bgcolor": "#E5ECF6",
           "caxis": {
            "gridcolor": "white",
            "linecolor": "white",
            "ticks": ""
           }
          },
          "title": {
           "x": 0.05
          },
          "xaxis": {
           "automargin": true,
           "gridcolor": "white",
           "linecolor": "white",
           "ticks": "",
           "title": {
            "standoff": 15
           },
           "zerolinecolor": "white",
           "zerolinewidth": 2
          },
          "yaxis": {
           "automargin": true,
           "gridcolor": "white",
           "linecolor": "white",
           "ticks": "",
           "title": {
            "standoff": 15
           },
           "zerolinecolor": "white",
           "zerolinewidth": 2
          }
         }
        },
        "title": {
         "text": "Revenue Trend Lines ",
         "x": 0.1
        },
        "xaxis": {
         "linecolor": "black",
         "linewidth": 2,
         "showline": true,
         "tickangle": -45
        },
        "yaxis": {
         "title": {
          "text": "Revenue in Cr"
         }
        }
       }
      }
     },
     "metadata": {},
     "output_type": "display_data"
    }
   ],
   "source": [
    "current_year_monthwise_outward_df = current_year_monthwise_outward_df.sort_values(by='earning_month')\n",
    "previous_year_monthwise_outward_df = previous_year_monthwise_outward_df.sort_values(by='earning_month')\n",
    "division_monthwise_target_df  = division_monthwise_target_df.sort_values(by='earning_month')\n",
    "months = ['Apr', 'May', 'Jun', 'Jul', 'Aug', 'Sep',\n",
    "                'Oct', 'Nov', 'Dec', 'Jan', 'Feb', 'Mar']\n",
    "# Create a figure with subplots\n",
    "fig = go.Figure()\n",
    "\n",
    "# Add trend lines for each category\n",
    "fig.add_trace(\n",
    "    go.Scatter(x=months,\n",
    "               y=current_year_monthwise_outward_df['freight'],\n",
    "               mode='lines+markers',\n",
    "               showlegend=True,\n",
    "               name='CY Freight',\n",
    "               hovertemplate='Month: %{x}<br>Current Year Freight: %{y:.2f} Cr')\n",
    ")\n",
    "fig.add_trace(\n",
    "    go.Scatter(x=months,\n",
    "               y=previous_year_monthwise_outward_df['freight'],\n",
    "               mode='lines+markers',\n",
    "               showlegend=True,\n",
    "               name='LY Freight',\n",
    "               hovertemplate='Month: %{x}<br>Last Year Freight: %{y:.2f} Cr')\n",
    ")\n",
    "\n",
    "fig.add_trace(\n",
    "    go.Scatter(x=months,\n",
    "               y=division_monthwise_target_df['freight'],\n",
    "               mode='lines+markers',\n",
    "               showlegend=True,\n",
    "               name='TGT Freight',\n",
    "               hovertemplate='Month: %{x}<br>Last Year Freight: %{y:.2f} Cr')\n",
    "    ),\n",
    "\n",
    "# Update figure layout\n",
    "fig.update_layout(\n",
    "    xaxis_tickangle=-45,\n",
    "    title='Revenue Trend Lines ',\n",
    "    title_x=0.1,# Center title\n",
    "    # xaxis_title='Month',\n",
    "    yaxis_title='Revenue in Cr',\n",
    "    margin=dict(t=10, b=10,r=10),  # Adjust top margin\n",
    "    legend=dict(\n",
    "        x=0.3,  # Change the x-coordinate of the legend\n",
    "            y=1.15, # Change the y-coordinate of the legend\n",
    "            traceorder='normal',  # Order of the legend items\n",
    "            font=dict(\n",
    "                family='sans-serif',\n",
    "                size=12,\n",
    "                color='black'\n",
    "            ),\n",
    "            bgcolor='rgba(255, 255, 255, 0.5)',  # Background color of the legend\n",
    "            bordercolor='rgba(0, 0, 0, 0.5)',  # Border color of the legend\n",
    "            borderwidth=1,  # Border width of the legend\n",
    "            orientation='h',\n",
    "            # yanchor=\"bottom\",\n",
    "            ),\n",
    "        )\n",
    "fig.update_xaxes(showline=True, linewidth=2, linecolor='black',)\n",
    "\n"
   ]
  },
  {
   "cell_type": "code",
   "execution_count": null,
   "metadata": {},
   "outputs": [
    {
     "data": {
      "application/vnd.plotly.v1+json": {
       "config": {
        "plotlyServerURL": "https://plot.ly"
       },
       "data": [
        {
         "hovertemplate": "Month: %{x}<br>Current Year Freight: %{y:.2f} Cr",
         "mode": "lines+markers",
         "name": "CY Freight",
         "showlegend": true,
         "type": "scatter",
         "x": [
          "Apr",
          "May",
          "Jun",
          "Jul",
          "Aug",
          "Sep",
          "Oct",
          "Nov",
          "Dec",
          "Jan",
          "Feb",
          "Mar"
         ],
         "y": [
          30.76,
          28.04,
          36.14,
          34.99,
          43.98,
          40.17,
          42.38,
          31.41,
          40.7,
          28.05
         ]
        },
        {
         "hovertemplate": "Month: %{x}<br>Last Year Freight: %{y:.2f} Cr",
         "mode": "lines+markers",
         "name": "LY Freight",
         "showlegend": true,
         "type": "scatter",
         "x": [
          "Apr",
          "May",
          "Jun",
          "Jul",
          "Aug",
          "Sep",
          "Oct",
          "Nov",
          "Dec",
          "Jan",
          "Feb",
          "Mar"
         ],
         "y": [
          28.3,
          25.7,
          35.3,
          40.5,
          34.4,
          38.9,
          30,
          43.2,
          36.8,
          28.8,
          28.3,
          32.9
         ]
        },
        {
         "hovertemplate": "Month: %{x}<br>Last Year Freight: %{y:.2f} Cr",
         "mode": "lines+markers",
         "name": "TGT Freight",
         "showlegend": true,
         "type": "scatter",
         "x": [
          "Apr",
          "May",
          "Jun",
          "Jul",
          "Aug",
          "Sep",
          "Oct",
          "Nov",
          "Dec",
          "Jan",
          "Feb",
          "Mar"
         ],
         "y": [
          30.73,
          29.03,
          38.93,
          44.73,
          38.06,
          42.91,
          32.83,
          47.54,
          40.64,
          31.64,
          31.37,
          36.29
         ]
        }
       ],
       "layout": {
        "annotations": [
         {
          "bgcolor": "#ff7f0e",
          "bordercolor": "#c7c7c7",
          "borderpad": 4,
          "borderwidth": 2,
          "font": {
           "color": "#ffffff",
           "family": "Courier New, monospace",
           "size": 16
          },
          "opacity": 0.8,
          "showarrow": false,
          "text": "Monthly Avg CY: 35.66 Cr",
          "x": 9,
          "y": 15
         },
         {
          "bgcolor": "#ff7f0e",
          "bordercolor": "#c7c7c7",
          "borderpad": 4,
          "borderwidth": 2,
          "font": {
           "color": "#ffffff",
           "family": "Courier New, monospace",
           "size": 16
          },
          "opacity": 0.8,
          "showarrow": false,
          "text": "Daily Avg CY: 1.19 Cr",
          "x": 9,
          "y": 20
         }
        ],
        "legend": {
         "bgcolor": "rgba(255, 255, 255, 0.5)",
         "bordercolor": "rgba(0, 0, 0, 0.5)",
         "borderwidth": 1,
         "font": {
          "color": "black",
          "family": "sans-serif",
          "size": 12
         },
         "orientation": "h",
         "traceorder": "normal",
         "x": 0.3,
         "y": 1.15
        },
        "margin": {
         "b": 10,
         "r": 10,
         "t": 10
        },
        "template": {
         "data": {
          "bar": [
           {
            "error_x": {
             "color": "#2a3f5f"
            },
            "error_y": {
             "color": "#2a3f5f"
            },
            "marker": {
             "line": {
              "color": "#E5ECF6",
              "width": 0.5
             },
             "pattern": {
              "fillmode": "overlay",
              "size": 10,
              "solidity": 0.2
             }
            },
            "type": "bar"
           }
          ],
          "barpolar": [
           {
            "marker": {
             "line": {
              "color": "#E5ECF6",
              "width": 0.5
             },
             "pattern": {
              "fillmode": "overlay",
              "size": 10,
              "solidity": 0.2
             }
            },
            "type": "barpolar"
           }
          ],
          "carpet": [
           {
            "aaxis": {
             "endlinecolor": "#2a3f5f",
             "gridcolor": "white",
             "linecolor": "white",
             "minorgridcolor": "white",
             "startlinecolor": "#2a3f5f"
            },
            "baxis": {
             "endlinecolor": "#2a3f5f",
             "gridcolor": "white",
             "linecolor": "white",
             "minorgridcolor": "white",
             "startlinecolor": "#2a3f5f"
            },
            "type": "carpet"
           }
          ],
          "choropleth": [
           {
            "colorbar": {
             "outlinewidth": 0,
             "ticks": ""
            },
            "type": "choropleth"
           }
          ],
          "contour": [
           {
            "colorbar": {
             "outlinewidth": 0,
             "ticks": ""
            },
            "colorscale": [
             [
              0,
              "#0d0887"
             ],
             [
              0.1111111111111111,
              "#46039f"
             ],
             [
              0.2222222222222222,
              "#7201a8"
             ],
             [
              0.3333333333333333,
              "#9c179e"
             ],
             [
              0.4444444444444444,
              "#bd3786"
             ],
             [
              0.5555555555555556,
              "#d8576b"
             ],
             [
              0.6666666666666666,
              "#ed7953"
             ],
             [
              0.7777777777777778,
              "#fb9f3a"
             ],
             [
              0.8888888888888888,
              "#fdca26"
             ],
             [
              1,
              "#f0f921"
             ]
            ],
            "type": "contour"
           }
          ],
          "contourcarpet": [
           {
            "colorbar": {
             "outlinewidth": 0,
             "ticks": ""
            },
            "type": "contourcarpet"
           }
          ],
          "heatmap": [
           {
            "colorbar": {
             "outlinewidth": 0,
             "ticks": ""
            },
            "colorscale": [
             [
              0,
              "#0d0887"
             ],
             [
              0.1111111111111111,
              "#46039f"
             ],
             [
              0.2222222222222222,
              "#7201a8"
             ],
             [
              0.3333333333333333,
              "#9c179e"
             ],
             [
              0.4444444444444444,
              "#bd3786"
             ],
             [
              0.5555555555555556,
              "#d8576b"
             ],
             [
              0.6666666666666666,
              "#ed7953"
             ],
             [
              0.7777777777777778,
              "#fb9f3a"
             ],
             [
              0.8888888888888888,
              "#fdca26"
             ],
             [
              1,
              "#f0f921"
             ]
            ],
            "type": "heatmap"
           }
          ],
          "heatmapgl": [
           {
            "colorbar": {
             "outlinewidth": 0,
             "ticks": ""
            },
            "colorscale": [
             [
              0,
              "#0d0887"
             ],
             [
              0.1111111111111111,
              "#46039f"
             ],
             [
              0.2222222222222222,
              "#7201a8"
             ],
             [
              0.3333333333333333,
              "#9c179e"
             ],
             [
              0.4444444444444444,
              "#bd3786"
             ],
             [
              0.5555555555555556,
              "#d8576b"
             ],
             [
              0.6666666666666666,
              "#ed7953"
             ],
             [
              0.7777777777777778,
              "#fb9f3a"
             ],
             [
              0.8888888888888888,
              "#fdca26"
             ],
             [
              1,
              "#f0f921"
             ]
            ],
            "type": "heatmapgl"
           }
          ],
          "histogram": [
           {
            "marker": {
             "pattern": {
              "fillmode": "overlay",
              "size": 10,
              "solidity": 0.2
             }
            },
            "type": "histogram"
           }
          ],
          "histogram2d": [
           {
            "colorbar": {
             "outlinewidth": 0,
             "ticks": ""
            },
            "colorscale": [
             [
              0,
              "#0d0887"
             ],
             [
              0.1111111111111111,
              "#46039f"
             ],
             [
              0.2222222222222222,
              "#7201a8"
             ],
             [
              0.3333333333333333,
              "#9c179e"
             ],
             [
              0.4444444444444444,
              "#bd3786"
             ],
             [
              0.5555555555555556,
              "#d8576b"
             ],
             [
              0.6666666666666666,
              "#ed7953"
             ],
             [
              0.7777777777777778,
              "#fb9f3a"
             ],
             [
              0.8888888888888888,
              "#fdca26"
             ],
             [
              1,
              "#f0f921"
             ]
            ],
            "type": "histogram2d"
           }
          ],
          "histogram2dcontour": [
           {
            "colorbar": {
             "outlinewidth": 0,
             "ticks": ""
            },
            "colorscale": [
             [
              0,
              "#0d0887"
             ],
             [
              0.1111111111111111,
              "#46039f"
             ],
             [
              0.2222222222222222,
              "#7201a8"
             ],
             [
              0.3333333333333333,
              "#9c179e"
             ],
             [
              0.4444444444444444,
              "#bd3786"
             ],
             [
              0.5555555555555556,
              "#d8576b"
             ],
             [
              0.6666666666666666,
              "#ed7953"
             ],
             [
              0.7777777777777778,
              "#fb9f3a"
             ],
             [
              0.8888888888888888,
              "#fdca26"
             ],
             [
              1,
              "#f0f921"
             ]
            ],
            "type": "histogram2dcontour"
           }
          ],
          "mesh3d": [
           {
            "colorbar": {
             "outlinewidth": 0,
             "ticks": ""
            },
            "type": "mesh3d"
           }
          ],
          "parcoords": [
           {
            "line": {
             "colorbar": {
              "outlinewidth": 0,
              "ticks": ""
             }
            },
            "type": "parcoords"
           }
          ],
          "pie": [
           {
            "automargin": true,
            "type": "pie"
           }
          ],
          "scatter": [
           {
            "fillpattern": {
             "fillmode": "overlay",
             "size": 10,
             "solidity": 0.2
            },
            "type": "scatter"
           }
          ],
          "scatter3d": [
           {
            "line": {
             "colorbar": {
              "outlinewidth": 0,
              "ticks": ""
             }
            },
            "marker": {
             "colorbar": {
              "outlinewidth": 0,
              "ticks": ""
             }
            },
            "type": "scatter3d"
           }
          ],
          "scattercarpet": [
           {
            "marker": {
             "colorbar": {
              "outlinewidth": 0,
              "ticks": ""
             }
            },
            "type": "scattercarpet"
           }
          ],
          "scattergeo": [
           {
            "marker": {
             "colorbar": {
              "outlinewidth": 0,
              "ticks": ""
             }
            },
            "type": "scattergeo"
           }
          ],
          "scattergl": [
           {
            "marker": {
             "colorbar": {
              "outlinewidth": 0,
              "ticks": ""
             }
            },
            "type": "scattergl"
           }
          ],
          "scattermapbox": [
           {
            "marker": {
             "colorbar": {
              "outlinewidth": 0,
              "ticks": ""
             }
            },
            "type": "scattermapbox"
           }
          ],
          "scatterpolar": [
           {
            "marker": {
             "colorbar": {
              "outlinewidth": 0,
              "ticks": ""
             }
            },
            "type": "scatterpolar"
           }
          ],
          "scatterpolargl": [
           {
            "marker": {
             "colorbar": {
              "outlinewidth": 0,
              "ticks": ""
             }
            },
            "type": "scatterpolargl"
           }
          ],
          "scatterternary": [
           {
            "marker": {
             "colorbar": {
              "outlinewidth": 0,
              "ticks": ""
             }
            },
            "type": "scatterternary"
           }
          ],
          "surface": [
           {
            "colorbar": {
             "outlinewidth": 0,
             "ticks": ""
            },
            "colorscale": [
             [
              0,
              "#0d0887"
             ],
             [
              0.1111111111111111,
              "#46039f"
             ],
             [
              0.2222222222222222,
              "#7201a8"
             ],
             [
              0.3333333333333333,
              "#9c179e"
             ],
             [
              0.4444444444444444,
              "#bd3786"
             ],
             [
              0.5555555555555556,
              "#d8576b"
             ],
             [
              0.6666666666666666,
              "#ed7953"
             ],
             [
              0.7777777777777778,
              "#fb9f3a"
             ],
             [
              0.8888888888888888,
              "#fdca26"
             ],
             [
              1,
              "#f0f921"
             ]
            ],
            "type": "surface"
           }
          ],
          "table": [
           {
            "cells": {
             "fill": {
              "color": "#EBF0F8"
             },
             "line": {
              "color": "white"
             }
            },
            "header": {
             "fill": {
              "color": "#C8D4E3"
             },
             "line": {
              "color": "white"
             }
            },
            "type": "table"
           }
          ]
         },
         "layout": {
          "annotationdefaults": {
           "arrowcolor": "#2a3f5f",
           "arrowhead": 0,
           "arrowwidth": 1
          },
          "autotypenumbers": "strict",
          "coloraxis": {
           "colorbar": {
            "outlinewidth": 0,
            "ticks": ""
           }
          },
          "colorscale": {
           "diverging": [
            [
             0,
             "#8e0152"
            ],
            [
             0.1,
             "#c51b7d"
            ],
            [
             0.2,
             "#de77ae"
            ],
            [
             0.3,
             "#f1b6da"
            ],
            [
             0.4,
             "#fde0ef"
            ],
            [
             0.5,
             "#f7f7f7"
            ],
            [
             0.6,
             "#e6f5d0"
            ],
            [
             0.7,
             "#b8e186"
            ],
            [
             0.8,
             "#7fbc41"
            ],
            [
             0.9,
             "#4d9221"
            ],
            [
             1,
             "#276419"
            ]
           ],
           "sequential": [
            [
             0,
             "#0d0887"
            ],
            [
             0.1111111111111111,
             "#46039f"
            ],
            [
             0.2222222222222222,
             "#7201a8"
            ],
            [
             0.3333333333333333,
             "#9c179e"
            ],
            [
             0.4444444444444444,
             "#bd3786"
            ],
            [
             0.5555555555555556,
             "#d8576b"
            ],
            [
             0.6666666666666666,
             "#ed7953"
            ],
            [
             0.7777777777777778,
             "#fb9f3a"
            ],
            [
             0.8888888888888888,
             "#fdca26"
            ],
            [
             1,
             "#f0f921"
            ]
           ],
           "sequentialminus": [
            [
             0,
             "#0d0887"
            ],
            [
             0.1111111111111111,
             "#46039f"
            ],
            [
             0.2222222222222222,
             "#7201a8"
            ],
            [
             0.3333333333333333,
             "#9c179e"
            ],
            [
             0.4444444444444444,
             "#bd3786"
            ],
            [
             0.5555555555555556,
             "#d8576b"
            ],
            [
             0.6666666666666666,
             "#ed7953"
            ],
            [
             0.7777777777777778,
             "#fb9f3a"
            ],
            [
             0.8888888888888888,
             "#fdca26"
            ],
            [
             1,
             "#f0f921"
            ]
           ]
          },
          "colorway": [
           "#636efa",
           "#EF553B",
           "#00cc96",
           "#ab63fa",
           "#FFA15A",
           "#19d3f3",
           "#FF6692",
           "#B6E880",
           "#FF97FF",
           "#FECB52"
          ],
          "font": {
           "color": "#2a3f5f"
          },
          "geo": {
           "bgcolor": "white",
           "lakecolor": "white",
           "landcolor": "#E5ECF6",
           "showlakes": true,
           "showland": true,
           "subunitcolor": "white"
          },
          "hoverlabel": {
           "align": "left"
          },
          "hovermode": "closest",
          "mapbox": {
           "style": "light"
          },
          "paper_bgcolor": "white",
          "plot_bgcolor": "#E5ECF6",
          "polar": {
           "angularaxis": {
            "gridcolor": "white",
            "linecolor": "white",
            "ticks": ""
           },
           "bgcolor": "#E5ECF6",
           "radialaxis": {
            "gridcolor": "white",
            "linecolor": "white",
            "ticks": ""
           }
          },
          "scene": {
           "xaxis": {
            "backgroundcolor": "#E5ECF6",
            "gridcolor": "white",
            "gridwidth": 2,
            "linecolor": "white",
            "showbackground": true,
            "ticks": "",
            "zerolinecolor": "white"
           },
           "yaxis": {
            "backgroundcolor": "#E5ECF6",
            "gridcolor": "white",
            "gridwidth": 2,
            "linecolor": "white",
            "showbackground": true,
            "ticks": "",
            "zerolinecolor": "white"
           },
           "zaxis": {
            "backgroundcolor": "#E5ECF6",
            "gridcolor": "white",
            "gridwidth": 2,
            "linecolor": "white",
            "showbackground": true,
            "ticks": "",
            "zerolinecolor": "white"
           }
          },
          "shapedefaults": {
           "line": {
            "color": "#2a3f5f"
           }
          },
          "ternary": {
           "aaxis": {
            "gridcolor": "white",
            "linecolor": "white",
            "ticks": ""
           },
           "baxis": {
            "gridcolor": "white",
            "linecolor": "white",
            "ticks": ""
           },
           "bgcolor": "#E5ECF6",
           "caxis": {
            "gridcolor": "white",
            "linecolor": "white",
            "ticks": ""
           }
          },
          "title": {
           "x": 0.05
          },
          "xaxis": {
           "automargin": true,
           "gridcolor": "white",
           "linecolor": "white",
           "ticks": "",
           "title": {
            "standoff": 15
           },
           "zerolinecolor": "white",
           "zerolinewidth": 2
          },
          "yaxis": {
           "automargin": true,
           "gridcolor": "white",
           "linecolor": "white",
           "ticks": "",
           "title": {
            "standoff": 15
           },
           "zerolinecolor": "white",
           "zerolinewidth": 2
          }
         }
        },
        "title": {
         "text": "Revenue Trend Lines ",
         "x": 0.1
        },
        "xaxis": {
         "linecolor": "black",
         "linewidth": 2,
         "showline": true,
         "tickangle": -45
        },
        "yaxis": {
         "title": {
          "text": "Revenue in Cr"
         }
        }
       }
      }
     },
     "metadata": {},
     "output_type": "display_data"
    }
   ],
   "source": [
    "\n",
    "import plotly.graph_objects as go\n",
    "def comparison_line_plot(feature , current_year_df , previous_year_df , target_df = None):\n",
    "    months = ['Apr', 'May', 'Jun', 'Jul', 'Aug', 'Sep',\n",
    "                'Oct', 'Nov', 'Dec', 'Jan', 'Feb', 'Mar']\n",
    "    # Create a figure with subplots\n",
    "    fig = go.Figure()\n",
    "\n",
    "    # Add trend lines for each category\n",
    "    fig.add_trace(\n",
    "        go.Scatter(x=months,\n",
    "                y=current_year_df[feature],\n",
    "                mode='lines+markers',\n",
    "                showlegend=True,\n",
    "                name='CY Freight',\n",
    "                hovertemplate='Month: %{x}<br>Current Year Freight: %{y:.2f} Cr'),\n",
    "        \n",
    "    )\n",
    "    fig.add_trace(\n",
    "        go.Scatter(x=months,\n",
    "                y=previous_year_df[feature],\n",
    "                mode='lines+markers',\n",
    "                showlegend=True,\n",
    "                name='LY Freight',\n",
    "                hovertemplate='Month: %{x}<br>Last Year Freight: %{y:.2f} Cr')\n",
    "    )\n",
    "    if target_df is not None:\n",
    "        fig.add_trace(\n",
    "            go.Scatter(x=months,\n",
    "                    y=division_monthwise_target_df[feature],\n",
    "                    mode='lines+markers',\n",
    "                    showlegend=True,\n",
    "                    name='TGT Freight',\n",
    "                    hovertemplate='Month: %{x}<br>Last Year Freight: %{y:.2f} Cr')\n",
    "        )\n",
    "\n",
    "    # Annotate with monthly average revenue\n",
    "\n",
    "    monthly_avg_current = current_year_df[feature].mean()\n",
    "    monthly_avg_previous = previous_year_monthwise_outward_df[feature].mean()\n",
    "\n",
    "    # Calculate daily average revenue assuming 30 days in a month\n",
    "    daily_avg_current = monthly_avg_current / 30\n",
    "    daily_avg_previous = monthly_avg_previous / 30\n",
    "    fig.add_annotation(x=9,\n",
    "                    y=15,\n",
    "                    text=f'Monthly Avg CY: {monthly_avg_current:.2f} Cr',\n",
    "                    showarrow=False,\n",
    "                    bordercolor=\"#c7c7c7\",\n",
    "                    borderwidth=2,\n",
    "                    borderpad=4,\n",
    "                    bgcolor=\"#ff7f0e\",\n",
    "                    opacity=0.8,\n",
    "                    font=dict(\n",
    "                    family=\"Courier New, monospace\",\n",
    "                    size=16,\n",
    "                    color=\"#ffffff\"\n",
    "                ),\n",
    "                    )\n",
    "    fig.add_annotation(x=9,\n",
    "                        y=20,\n",
    "                        text=f'Daily Avg CY: {daily_avg_current:.2f} Cr',\n",
    "                        showarrow=False,\n",
    "                    bordercolor=\"#c7c7c7\",\n",
    "                    borderwidth=2,\n",
    "                    borderpad=4,\n",
    "                    bgcolor=\"#ff7f0e\",\n",
    "                    opacity=0.8,\n",
    "                    font=dict(\n",
    "                    family=\"Courier New, monospace\",\n",
    "                    size=16,\n",
    "                    color=\"#ffffff\",\n",
    "                        )\n",
    "    )\n",
    "\n",
    "\n",
    "    # Update figure layout\n",
    "    fig.update_layout(\n",
    "        xaxis_tickangle=-45,\n",
    "        title='Revenue Trend Lines ',\n",
    "        title_x=0.1,# Center title\n",
    "        yaxis_title='Revenue in Cr',\n",
    "        margin=dict(t=10, b=10,r=10),  # Adjust top margin\n",
    "        legend=dict(\n",
    "            x=0.3,  # Change the x-coordinate of the legend\n",
    "            y=1.15, # Change the y-coordinate of the legend\n",
    "            traceorder='normal',  # Order of the legend items\n",
    "            font=dict(\n",
    "                family='sans-serif',\n",
    "                size=12,\n",
    "                color='black'\n",
    "            ),\n",
    "            bgcolor='rgba(255, 255, 255, 0.5)',  # Background color of the legend\n",
    "            bordercolor='rgba(0, 0, 0, 0.5)',  # Border color of the legend\n",
    "            borderwidth=1,  # Border width of the legend\n",
    "            orientation='h',\n",
    "        ),\n",
    "    )\n",
    "\n",
    "\n",
    "    fig.update_xaxes(showline=True, linewidth=2, linecolor='black',)\n",
    "\n",
    "    # Show plot\n",
    "    fig.show()\n",
    "comparison_line_plot('freight', current_year_monthwise_outward_df , previous_year_monthwise_outward_df, target_df=division_monthwise_target_df)\n"
   ]
  },
  {
   "cell_type": "code",
   "execution_count": null,
   "metadata": {},
   "outputs": [
    {
     "data": {
      "text/plain": [
       "Index(['id', 'earning_month', 'rakes', 'wagon', 'weight', 'freight',\n",
       "       'division_code'],\n",
       "      dtype='object')"
      ]
     },
     "execution_count": 69,
     "metadata": {},
     "output_type": "execute_result"
    }
   ],
   "source": [
    "current_year_monthwise_outward_df.columns"
   ]
  },
  {
   "cell_type": "code",
   "execution_count": null,
   "metadata": {},
   "outputs": [
    {
     "data": {
      "application/vnd.plotly.v1+json": {
       "config": {
        "plotlyServerURL": "https://plot.ly"
       },
       "data": [
        {
         "hovertemplate": "Station: %{x}<br>Current Year Rakes: %{y:.2f}  ",
         "mode": "lines+markers",
         "name": "CY : Rakes",
         "showlegend": true,
         "type": "scatter",
         "x": [
          "ssv",
          "sli",
          "lnn",
          "krd",
          "str",
          "grmt",
          "brmt",
          "mrj",
          "loni",
          "kk",
          "hplg",
          "cch"
         ],
         "y": [
          2,
          22,
          24,
          39,
          64,
          72,
          97,
          131,
          180,
          204,
          311,
          391
         ]
        },
        {
         "hovertemplate": "Station: %{x}<br>Last Year Rakes: %{y:.2f}  ",
         "mode": "lines+markers",
         "name": "LY : Rakes",
         "showlegend": true,
         "type": "scatter",
         "x": [
          "ssv",
          "sli",
          "lnn",
          "krd",
          "str",
          "grmt",
          "brmt",
          "mrj",
          "loni",
          "kk",
          "hplg",
          "cch"
         ],
         "y": [
          0,
          34,
          61,
          74,
          81,
          82,
          92,
          96,
          99,
          149,
          321,
          410
         ]
        }
       ],
       "layout": {
        "legend": {
         "bgcolor": "rgba(255, 255, 255, 0.5)",
         "bordercolor": "rgba(0, 0, 0, 0.5)",
         "borderwidth": 1,
         "font": {
          "color": "black",
          "family": "sans-serif",
          "size": 12
         },
         "orientation": "h",
         "traceorder": "normal",
         "x": 0.5,
         "y": 1.15
        },
        "margin": {
         "b": 10,
         "r": 10,
         "t": 10
        },
        "template": {
         "data": {
          "bar": [
           {
            "error_x": {
             "color": "#2a3f5f"
            },
            "error_y": {
             "color": "#2a3f5f"
            },
            "marker": {
             "line": {
              "color": "#E5ECF6",
              "width": 0.5
             },
             "pattern": {
              "fillmode": "overlay",
              "size": 10,
              "solidity": 0.2
             }
            },
            "type": "bar"
           }
          ],
          "barpolar": [
           {
            "marker": {
             "line": {
              "color": "#E5ECF6",
              "width": 0.5
             },
             "pattern": {
              "fillmode": "overlay",
              "size": 10,
              "solidity": 0.2
             }
            },
            "type": "barpolar"
           }
          ],
          "carpet": [
           {
            "aaxis": {
             "endlinecolor": "#2a3f5f",
             "gridcolor": "white",
             "linecolor": "white",
             "minorgridcolor": "white",
             "startlinecolor": "#2a3f5f"
            },
            "baxis": {
             "endlinecolor": "#2a3f5f",
             "gridcolor": "white",
             "linecolor": "white",
             "minorgridcolor": "white",
             "startlinecolor": "#2a3f5f"
            },
            "type": "carpet"
           }
          ],
          "choropleth": [
           {
            "colorbar": {
             "outlinewidth": 0,
             "ticks": ""
            },
            "type": "choropleth"
           }
          ],
          "contour": [
           {
            "colorbar": {
             "outlinewidth": 0,
             "ticks": ""
            },
            "colorscale": [
             [
              0,
              "#0d0887"
             ],
             [
              0.1111111111111111,
              "#46039f"
             ],
             [
              0.2222222222222222,
              "#7201a8"
             ],
             [
              0.3333333333333333,
              "#9c179e"
             ],
             [
              0.4444444444444444,
              "#bd3786"
             ],
             [
              0.5555555555555556,
              "#d8576b"
             ],
             [
              0.6666666666666666,
              "#ed7953"
             ],
             [
              0.7777777777777778,
              "#fb9f3a"
             ],
             [
              0.8888888888888888,
              "#fdca26"
             ],
             [
              1,
              "#f0f921"
             ]
            ],
            "type": "contour"
           }
          ],
          "contourcarpet": [
           {
            "colorbar": {
             "outlinewidth": 0,
             "ticks": ""
            },
            "type": "contourcarpet"
           }
          ],
          "heatmap": [
           {
            "colorbar": {
             "outlinewidth": 0,
             "ticks": ""
            },
            "colorscale": [
             [
              0,
              "#0d0887"
             ],
             [
              0.1111111111111111,
              "#46039f"
             ],
             [
              0.2222222222222222,
              "#7201a8"
             ],
             [
              0.3333333333333333,
              "#9c179e"
             ],
             [
              0.4444444444444444,
              "#bd3786"
             ],
             [
              0.5555555555555556,
              "#d8576b"
             ],
             [
              0.6666666666666666,
              "#ed7953"
             ],
             [
              0.7777777777777778,
              "#fb9f3a"
             ],
             [
              0.8888888888888888,
              "#fdca26"
             ],
             [
              1,
              "#f0f921"
             ]
            ],
            "type": "heatmap"
           }
          ],
          "heatmapgl": [
           {
            "colorbar": {
             "outlinewidth": 0,
             "ticks": ""
            },
            "colorscale": [
             [
              0,
              "#0d0887"
             ],
             [
              0.1111111111111111,
              "#46039f"
             ],
             [
              0.2222222222222222,
              "#7201a8"
             ],
             [
              0.3333333333333333,
              "#9c179e"
             ],
             [
              0.4444444444444444,
              "#bd3786"
             ],
             [
              0.5555555555555556,
              "#d8576b"
             ],
             [
              0.6666666666666666,
              "#ed7953"
             ],
             [
              0.7777777777777778,
              "#fb9f3a"
             ],
             [
              0.8888888888888888,
              "#fdca26"
             ],
             [
              1,
              "#f0f921"
             ]
            ],
            "type": "heatmapgl"
           }
          ],
          "histogram": [
           {
            "marker": {
             "pattern": {
              "fillmode": "overlay",
              "size": 10,
              "solidity": 0.2
             }
            },
            "type": "histogram"
           }
          ],
          "histogram2d": [
           {
            "colorbar": {
             "outlinewidth": 0,
             "ticks": ""
            },
            "colorscale": [
             [
              0,
              "#0d0887"
             ],
             [
              0.1111111111111111,
              "#46039f"
             ],
             [
              0.2222222222222222,
              "#7201a8"
             ],
             [
              0.3333333333333333,
              "#9c179e"
             ],
             [
              0.4444444444444444,
              "#bd3786"
             ],
             [
              0.5555555555555556,
              "#d8576b"
             ],
             [
              0.6666666666666666,
              "#ed7953"
             ],
             [
              0.7777777777777778,
              "#fb9f3a"
             ],
             [
              0.8888888888888888,
              "#fdca26"
             ],
             [
              1,
              "#f0f921"
             ]
            ],
            "type": "histogram2d"
           }
          ],
          "histogram2dcontour": [
           {
            "colorbar": {
             "outlinewidth": 0,
             "ticks": ""
            },
            "colorscale": [
             [
              0,
              "#0d0887"
             ],
             [
              0.1111111111111111,
              "#46039f"
             ],
             [
              0.2222222222222222,
              "#7201a8"
             ],
             [
              0.3333333333333333,
              "#9c179e"
             ],
             [
              0.4444444444444444,
              "#bd3786"
             ],
             [
              0.5555555555555556,
              "#d8576b"
             ],
             [
              0.6666666666666666,
              "#ed7953"
             ],
             [
              0.7777777777777778,
              "#fb9f3a"
             ],
             [
              0.8888888888888888,
              "#fdca26"
             ],
             [
              1,
              "#f0f921"
             ]
            ],
            "type": "histogram2dcontour"
           }
          ],
          "mesh3d": [
           {
            "colorbar": {
             "outlinewidth": 0,
             "ticks": ""
            },
            "type": "mesh3d"
           }
          ],
          "parcoords": [
           {
            "line": {
             "colorbar": {
              "outlinewidth": 0,
              "ticks": ""
             }
            },
            "type": "parcoords"
           }
          ],
          "pie": [
           {
            "automargin": true,
            "type": "pie"
           }
          ],
          "scatter": [
           {
            "fillpattern": {
             "fillmode": "overlay",
             "size": 10,
             "solidity": 0.2
            },
            "type": "scatter"
           }
          ],
          "scatter3d": [
           {
            "line": {
             "colorbar": {
              "outlinewidth": 0,
              "ticks": ""
             }
            },
            "marker": {
             "colorbar": {
              "outlinewidth": 0,
              "ticks": ""
             }
            },
            "type": "scatter3d"
           }
          ],
          "scattercarpet": [
           {
            "marker": {
             "colorbar": {
              "outlinewidth": 0,
              "ticks": ""
             }
            },
            "type": "scattercarpet"
           }
          ],
          "scattergeo": [
           {
            "marker": {
             "colorbar": {
              "outlinewidth": 0,
              "ticks": ""
             }
            },
            "type": "scattergeo"
           }
          ],
          "scattergl": [
           {
            "marker": {
             "colorbar": {
              "outlinewidth": 0,
              "ticks": ""
             }
            },
            "type": "scattergl"
           }
          ],
          "scattermapbox": [
           {
            "marker": {
             "colorbar": {
              "outlinewidth": 0,
              "ticks": ""
             }
            },
            "type": "scattermapbox"
           }
          ],
          "scatterpolar": [
           {
            "marker": {
             "colorbar": {
              "outlinewidth": 0,
              "ticks": ""
             }
            },
            "type": "scatterpolar"
           }
          ],
          "scatterpolargl": [
           {
            "marker": {
             "colorbar": {
              "outlinewidth": 0,
              "ticks": ""
             }
            },
            "type": "scatterpolargl"
           }
          ],
          "scatterternary": [
           {
            "marker": {
             "colorbar": {
              "outlinewidth": 0,
              "ticks": ""
             }
            },
            "type": "scatterternary"
           }
          ],
          "surface": [
           {
            "colorbar": {
             "outlinewidth": 0,
             "ticks": ""
            },
            "colorscale": [
             [
              0,
              "#0d0887"
             ],
             [
              0.1111111111111111,
              "#46039f"
             ],
             [
              0.2222222222222222,
              "#7201a8"
             ],
             [
              0.3333333333333333,
              "#9c179e"
             ],
             [
              0.4444444444444444,
              "#bd3786"
             ],
             [
              0.5555555555555556,
              "#d8576b"
             ],
             [
              0.6666666666666666,
              "#ed7953"
             ],
             [
              0.7777777777777778,
              "#fb9f3a"
             ],
             [
              0.8888888888888888,
              "#fdca26"
             ],
             [
              1,
              "#f0f921"
             ]
            ],
            "type": "surface"
           }
          ],
          "table": [
           {
            "cells": {
             "fill": {
              "color": "#EBF0F8"
             },
             "line": {
              "color": "white"
             }
            },
            "header": {
             "fill": {
              "color": "#C8D4E3"
             },
             "line": {
              "color": "white"
             }
            },
            "type": "table"
           }
          ]
         },
         "layout": {
          "annotationdefaults": {
           "arrowcolor": "#2a3f5f",
           "arrowhead": 0,
           "arrowwidth": 1
          },
          "autotypenumbers": "strict",
          "coloraxis": {
           "colorbar": {
            "outlinewidth": 0,
            "ticks": ""
           }
          },
          "colorscale": {
           "diverging": [
            [
             0,
             "#8e0152"
            ],
            [
             0.1,
             "#c51b7d"
            ],
            [
             0.2,
             "#de77ae"
            ],
            [
             0.3,
             "#f1b6da"
            ],
            [
             0.4,
             "#fde0ef"
            ],
            [
             0.5,
             "#f7f7f7"
            ],
            [
             0.6,
             "#e6f5d0"
            ],
            [
             0.7,
             "#b8e186"
            ],
            [
             0.8,
             "#7fbc41"
            ],
            [
             0.9,
             "#4d9221"
            ],
            [
             1,
             "#276419"
            ]
           ],
           "sequential": [
            [
             0,
             "#0d0887"
            ],
            [
             0.1111111111111111,
             "#46039f"
            ],
            [
             0.2222222222222222,
             "#7201a8"
            ],
            [
             0.3333333333333333,
             "#9c179e"
            ],
            [
             0.4444444444444444,
             "#bd3786"
            ],
            [
             0.5555555555555556,
             "#d8576b"
            ],
            [
             0.6666666666666666,
             "#ed7953"
            ],
            [
             0.7777777777777778,
             "#fb9f3a"
            ],
            [
             0.8888888888888888,
             "#fdca26"
            ],
            [
             1,
             "#f0f921"
            ]
           ],
           "sequentialminus": [
            [
             0,
             "#0d0887"
            ],
            [
             0.1111111111111111,
             "#46039f"
            ],
            [
             0.2222222222222222,
             "#7201a8"
            ],
            [
             0.3333333333333333,
             "#9c179e"
            ],
            [
             0.4444444444444444,
             "#bd3786"
            ],
            [
             0.5555555555555556,
             "#d8576b"
            ],
            [
             0.6666666666666666,
             "#ed7953"
            ],
            [
             0.7777777777777778,
             "#fb9f3a"
            ],
            [
             0.8888888888888888,
             "#fdca26"
            ],
            [
             1,
             "#f0f921"
            ]
           ]
          },
          "colorway": [
           "#636efa",
           "#EF553B",
           "#00cc96",
           "#ab63fa",
           "#FFA15A",
           "#19d3f3",
           "#FF6692",
           "#B6E880",
           "#FF97FF",
           "#FECB52"
          ],
          "font": {
           "color": "#2a3f5f"
          },
          "geo": {
           "bgcolor": "white",
           "lakecolor": "white",
           "landcolor": "#E5ECF6",
           "showlakes": true,
           "showland": true,
           "subunitcolor": "white"
          },
          "hoverlabel": {
           "align": "left"
          },
          "hovermode": "closest",
          "mapbox": {
           "style": "light"
          },
          "paper_bgcolor": "white",
          "plot_bgcolor": "#E5ECF6",
          "polar": {
           "angularaxis": {
            "gridcolor": "white",
            "linecolor": "white",
            "ticks": ""
           },
           "bgcolor": "#E5ECF6",
           "radialaxis": {
            "gridcolor": "white",
            "linecolor": "white",
            "ticks": ""
           }
          },
          "scene": {
           "xaxis": {
            "backgroundcolor": "#E5ECF6",
            "gridcolor": "white",
            "gridwidth": 2,
            "linecolor": "white",
            "showbackground": true,
            "ticks": "",
            "zerolinecolor": "white"
           },
           "yaxis": {
            "backgroundcolor": "#E5ECF6",
            "gridcolor": "white",
            "gridwidth": 2,
            "linecolor": "white",
            "showbackground": true,
            "ticks": "",
            "zerolinecolor": "white"
           },
           "zaxis": {
            "backgroundcolor": "#E5ECF6",
            "gridcolor": "white",
            "gridwidth": 2,
            "linecolor": "white",
            "showbackground": true,
            "ticks": "",
            "zerolinecolor": "white"
           }
          },
          "shapedefaults": {
           "line": {
            "color": "#2a3f5f"
           }
          },
          "ternary": {
           "aaxis": {
            "gridcolor": "white",
            "linecolor": "white",
            "ticks": ""
           },
           "baxis": {
            "gridcolor": "white",
            "linecolor": "white",
            "ticks": ""
           },
           "bgcolor": "#E5ECF6",
           "caxis": {
            "gridcolor": "white",
            "linecolor": "white",
            "ticks": ""
           }
          },
          "title": {
           "x": 0.05
          },
          "xaxis": {
           "automargin": true,
           "gridcolor": "white",
           "linecolor": "white",
           "ticks": "",
           "title": {
            "standoff": 15
           },
           "zerolinecolor": "white",
           "zerolinewidth": 2
          },
          "yaxis": {
           "automargin": true,
           "gridcolor": "white",
           "linecolor": "white",
           "ticks": "",
           "title": {
            "standoff": 15
           },
           "zerolinecolor": "white",
           "zerolinewidth": 2
          }
         }
        },
        "title": {
         "text": "Depowise Rakes Comparison",
         "x": 0.15
        },
        "xaxis": {
         "linecolor": "black",
         "linewidth": 2,
         "showline": true,
         "tickangle": -45
        },
        "yaxis": {
         "title": {
          "font": {
           "size": 15
          },
          "text": "Rakes  "
         }
        }
       }
      }
     },
     "metadata": {},
     "output_type": "display_data"
    }
   ],
   "source": [
    "current_year_depowise_yearly_df = class_object.current_year_depowise_df\n",
    "previous_year_depowose_yearly_df = class_object.previous_year_depowise_df\n",
    "def yearly_data_comparison_line_plot(feature, current_year_df, previous_year_df, target_df=None):\n",
    "    current_year_df = current_year_df.sort_values(by=feature)\n",
    "    previous_year_df = previous_year_df.sort_values(by=feature)\n",
    "    \n",
    "    fig = go.Figure()\n",
    "    \n",
    "    if feature == 'freight':\n",
    "        unit = 'Crores'\n",
    "    elif feature == 'weight':\n",
    "        unit = 'Tonnes'\n",
    "    else:\n",
    "        unit = ' '\n",
    "    # Add trend lines for each category\n",
    "    fig.add_trace(\n",
    "        go.Scatter(x=current_year_df['station_code'],\n",
    "                y=current_year_df[feature],\n",
    "                mode='lines+markers',\n",
    "                showlegend=True,\n",
    "                name=f'CY : {feature[0].upper()}{feature[1:]}',\n",
    "                hovertemplate = f'Station: %{{x}}<br>Current Year {feature[0].upper()}{feature[1:]}: %{{y:.2f}} {unit}'\n",
    "        )\n",
    "    )\n",
    "    fig.add_trace(\n",
    "        go.Scatter(x=current_year_df['station_code'],\n",
    "                y=previous_year_df[feature],\n",
    "                mode='lines+markers',\n",
    "                showlegend=True,\n",
    "                name=f'LY : {feature[0].upper()}{feature[1:]}',\n",
    "                hovertemplate = f'Station: %{{x}}<br>Last Year {feature[0].upper()}{feature[1:]}: %{{y:.2f}} {unit}'\n",
    "        )\n",
    "    )\n",
    "    \n",
    "    # Update figure layout\n",
    "    fig.update_layout(\n",
    "        xaxis_tickangle=-45,\n",
    "        title=f'Depowise {feature[0].upper()}{feature[1:]} Comparison',\n",
    "        title_x=0.15,# Center title\n",
    "        yaxis_title=f'{feature[0].upper()}{feature[1:]} {unit}',\n",
    "        margin=dict(t=10, b=10,r=10),  # Adjust top margin\n",
    "        legend=dict(\n",
    "            x=0.50,  # Change the x-coordinate of the legend\n",
    "            y=1.15, # Change the y-coordinate of the legend\n",
    "            traceorder='normal',  # Order of the legend items\n",
    "            font=dict(\n",
    "                family='sans-serif',\n",
    "                size=12,\n",
    "                color='black'\n",
    "            ),\n",
    "            bgcolor='rgba(255, 255, 255, 0.5)',  # Background color of the legend\n",
    "            bordercolor='rgba(0, 0, 0, 0.5)',  # Border color of the legend\n",
    "            borderwidth=1,  # Border width of the legend\n",
    "            orientation='h',\n",
    "        ),\n",
    "        yaxis=dict(\n",
    "        title_font=dict(size=15),  # Adjust font size of y-axis title\n",
    "    ),\n",
    "    )\n",
    "\n",
    "\n",
    "    fig.update_xaxes(showline=True, linewidth=2, linecolor='black',)\n",
    "\n",
    "    return fig.show()\n",
    "\n",
    "\n",
    "yearly_data_comparison_line_plot('rakes', current_year_depowise_yearly_df , previous_year_depowose_yearly_df)"
   ]
  },
  {
   "cell_type": "code",
   "execution_count": null,
   "metadata": {},
   "outputs": [
    {
     "data": {
      "text/plain": [
       "Index(['id', 'earning_year', 'rakes', 'wagon', 'weight', 'freight',\n",
       "       'commodity', 'division_code'],\n",
       "      dtype='object')"
      ]
     },
     "execution_count": 71,
     "metadata": {},
     "output_type": "execute_result"
    }
   ],
   "source": [
    "class_object.current_year_commoditywise_ouward_df.columns"
   ]
  },
  {
   "cell_type": "code",
   "execution_count": 124,
   "metadata": {},
   "outputs": [],
   "source": [
    "import plotly.express as px\n",
    "df_filtered = class_object.current_year_commoditywise_ouward_df[class_object.current_year_commoditywise_ouward_df['freight'] > (class_object.current_year_commoditywise_ouward_df['freight']*0.001)]\n",
    "df_filtered_ly = class_object.previous_year_commoditywise_outward_df[class_object.previous_year_commoditywise_outward_df['freight'] > (class_object.previous_year_commoditywise_outward_df['freight'].sum()*0.001)]\n"
   ]
  },
  {
   "cell_type": "code",
   "execution_count": 154,
   "metadata": {},
   "outputs": [
    {
     "data": {
      "application/vnd.plotly.v1+json": {
       "config": {
        "plotlyServerURL": "https://plot.ly"
       },
       "data": [
        {
         "domain": {
          "x": [
           0,
           1
          ],
          "y": [
           0.575,
           1
          ]
         },
         "hole": 0.8,
         "hoverinfo": "label+percent+name",
         "insidetextorientation": "radial",
         "labels": [
          "SUGAR",
          "POL",
          "AUTOMOBILE"
         ],
         "showlegend": false,
         "textinfo": "label+percent",
         "title": {
          "text": "CY : Frieght Distribution<br>by Commodity "
         },
         "type": "pie",
         "values": [
          166.3,
          77,
          135
         ]
        },
        {
         "domain": {
          "x": [
           0,
           1
          ],
          "y": [
           0,
           0.425
          ]
         },
         "hole": 0.8,
         "hoverinfo": "label+percent+name",
         "insidetextorientation": "radial",
         "labels": [
          "SUGAR",
          "POL",
          "AUTOMOBILE",
          "RMC"
         ],
         "showlegend": false,
         "textinfo": "label+percent",
         "title": {
          "text": "LY : Freight Distribution<br>by Commodity"
         },
         "type": "pie",
         "values": [
          901097,
          1093616,
          800236,
          265937
         ]
        }
       ],
       "layout": {
        "legend": {
         "bgcolor": "rgba(255, 255, 255, 0.5)",
         "bordercolor": "rgba(0, 0, 0, 0.5)",
         "borderwidth": 1,
         "font": {
          "color": "black",
          "family": "sans-serif",
          "size": 10
         },
         "orientation": "v",
         "traceorder": "normal",
         "x": 0.01,
         "y": 1.15
        },
        "margin": {
         "b": 10,
         "r": 10,
         "t": 10
        },
        "template": {
         "data": {
          "bar": [
           {
            "error_x": {
             "color": "#2a3f5f"
            },
            "error_y": {
             "color": "#2a3f5f"
            },
            "marker": {
             "line": {
              "color": "#E5ECF6",
              "width": 0.5
             },
             "pattern": {
              "fillmode": "overlay",
              "size": 10,
              "solidity": 0.2
             }
            },
            "type": "bar"
           }
          ],
          "barpolar": [
           {
            "marker": {
             "line": {
              "color": "#E5ECF6",
              "width": 0.5
             },
             "pattern": {
              "fillmode": "overlay",
              "size": 10,
              "solidity": 0.2
             }
            },
            "type": "barpolar"
           }
          ],
          "carpet": [
           {
            "aaxis": {
             "endlinecolor": "#2a3f5f",
             "gridcolor": "white",
             "linecolor": "white",
             "minorgridcolor": "white",
             "startlinecolor": "#2a3f5f"
            },
            "baxis": {
             "endlinecolor": "#2a3f5f",
             "gridcolor": "white",
             "linecolor": "white",
             "minorgridcolor": "white",
             "startlinecolor": "#2a3f5f"
            },
            "type": "carpet"
           }
          ],
          "choropleth": [
           {
            "colorbar": {
             "outlinewidth": 0,
             "ticks": ""
            },
            "type": "choropleth"
           }
          ],
          "contour": [
           {
            "colorbar": {
             "outlinewidth": 0,
             "ticks": ""
            },
            "colorscale": [
             [
              0,
              "#0d0887"
             ],
             [
              0.1111111111111111,
              "#46039f"
             ],
             [
              0.2222222222222222,
              "#7201a8"
             ],
             [
              0.3333333333333333,
              "#9c179e"
             ],
             [
              0.4444444444444444,
              "#bd3786"
             ],
             [
              0.5555555555555556,
              "#d8576b"
             ],
             [
              0.6666666666666666,
              "#ed7953"
             ],
             [
              0.7777777777777778,
              "#fb9f3a"
             ],
             [
              0.8888888888888888,
              "#fdca26"
             ],
             [
              1,
              "#f0f921"
             ]
            ],
            "type": "contour"
           }
          ],
          "contourcarpet": [
           {
            "colorbar": {
             "outlinewidth": 0,
             "ticks": ""
            },
            "type": "contourcarpet"
           }
          ],
          "heatmap": [
           {
            "colorbar": {
             "outlinewidth": 0,
             "ticks": ""
            },
            "colorscale": [
             [
              0,
              "#0d0887"
             ],
             [
              0.1111111111111111,
              "#46039f"
             ],
             [
              0.2222222222222222,
              "#7201a8"
             ],
             [
              0.3333333333333333,
              "#9c179e"
             ],
             [
              0.4444444444444444,
              "#bd3786"
             ],
             [
              0.5555555555555556,
              "#d8576b"
             ],
             [
              0.6666666666666666,
              "#ed7953"
             ],
             [
              0.7777777777777778,
              "#fb9f3a"
             ],
             [
              0.8888888888888888,
              "#fdca26"
             ],
             [
              1,
              "#f0f921"
             ]
            ],
            "type": "heatmap"
           }
          ],
          "heatmapgl": [
           {
            "colorbar": {
             "outlinewidth": 0,
             "ticks": ""
            },
            "colorscale": [
             [
              0,
              "#0d0887"
             ],
             [
              0.1111111111111111,
              "#46039f"
             ],
             [
              0.2222222222222222,
              "#7201a8"
             ],
             [
              0.3333333333333333,
              "#9c179e"
             ],
             [
              0.4444444444444444,
              "#bd3786"
             ],
             [
              0.5555555555555556,
              "#d8576b"
             ],
             [
              0.6666666666666666,
              "#ed7953"
             ],
             [
              0.7777777777777778,
              "#fb9f3a"
             ],
             [
              0.8888888888888888,
              "#fdca26"
             ],
             [
              1,
              "#f0f921"
             ]
            ],
            "type": "heatmapgl"
           }
          ],
          "histogram": [
           {
            "marker": {
             "pattern": {
              "fillmode": "overlay",
              "size": 10,
              "solidity": 0.2
             }
            },
            "type": "histogram"
           }
          ],
          "histogram2d": [
           {
            "colorbar": {
             "outlinewidth": 0,
             "ticks": ""
            },
            "colorscale": [
             [
              0,
              "#0d0887"
             ],
             [
              0.1111111111111111,
              "#46039f"
             ],
             [
              0.2222222222222222,
              "#7201a8"
             ],
             [
              0.3333333333333333,
              "#9c179e"
             ],
             [
              0.4444444444444444,
              "#bd3786"
             ],
             [
              0.5555555555555556,
              "#d8576b"
             ],
             [
              0.6666666666666666,
              "#ed7953"
             ],
             [
              0.7777777777777778,
              "#fb9f3a"
             ],
             [
              0.8888888888888888,
              "#fdca26"
             ],
             [
              1,
              "#f0f921"
             ]
            ],
            "type": "histogram2d"
           }
          ],
          "histogram2dcontour": [
           {
            "colorbar": {
             "outlinewidth": 0,
             "ticks": ""
            },
            "colorscale": [
             [
              0,
              "#0d0887"
             ],
             [
              0.1111111111111111,
              "#46039f"
             ],
             [
              0.2222222222222222,
              "#7201a8"
             ],
             [
              0.3333333333333333,
              "#9c179e"
             ],
             [
              0.4444444444444444,
              "#bd3786"
             ],
             [
              0.5555555555555556,
              "#d8576b"
             ],
             [
              0.6666666666666666,
              "#ed7953"
             ],
             [
              0.7777777777777778,
              "#fb9f3a"
             ],
             [
              0.8888888888888888,
              "#fdca26"
             ],
             [
              1,
              "#f0f921"
             ]
            ],
            "type": "histogram2dcontour"
           }
          ],
          "mesh3d": [
           {
            "colorbar": {
             "outlinewidth": 0,
             "ticks": ""
            },
            "type": "mesh3d"
           }
          ],
          "parcoords": [
           {
            "line": {
             "colorbar": {
              "outlinewidth": 0,
              "ticks": ""
             }
            },
            "type": "parcoords"
           }
          ],
          "pie": [
           {
            "automargin": true,
            "type": "pie"
           }
          ],
          "scatter": [
           {
            "fillpattern": {
             "fillmode": "overlay",
             "size": 10,
             "solidity": 0.2
            },
            "type": "scatter"
           }
          ],
          "scatter3d": [
           {
            "line": {
             "colorbar": {
              "outlinewidth": 0,
              "ticks": ""
             }
            },
            "marker": {
             "colorbar": {
              "outlinewidth": 0,
              "ticks": ""
             }
            },
            "type": "scatter3d"
           }
          ],
          "scattercarpet": [
           {
            "marker": {
             "colorbar": {
              "outlinewidth": 0,
              "ticks": ""
             }
            },
            "type": "scattercarpet"
           }
          ],
          "scattergeo": [
           {
            "marker": {
             "colorbar": {
              "outlinewidth": 0,
              "ticks": ""
             }
            },
            "type": "scattergeo"
           }
          ],
          "scattergl": [
           {
            "marker": {
             "colorbar": {
              "outlinewidth": 0,
              "ticks": ""
             }
            },
            "type": "scattergl"
           }
          ],
          "scattermapbox": [
           {
            "marker": {
             "colorbar": {
              "outlinewidth": 0,
              "ticks": ""
             }
            },
            "type": "scattermapbox"
           }
          ],
          "scatterpolar": [
           {
            "marker": {
             "colorbar": {
              "outlinewidth": 0,
              "ticks": ""
             }
            },
            "type": "scatterpolar"
           }
          ],
          "scatterpolargl": [
           {
            "marker": {
             "colorbar": {
              "outlinewidth": 0,
              "ticks": ""
             }
            },
            "type": "scatterpolargl"
           }
          ],
          "scatterternary": [
           {
            "marker": {
             "colorbar": {
              "outlinewidth": 0,
              "ticks": ""
             }
            },
            "type": "scatterternary"
           }
          ],
          "surface": [
           {
            "colorbar": {
             "outlinewidth": 0,
             "ticks": ""
            },
            "colorscale": [
             [
              0,
              "#0d0887"
             ],
             [
              0.1111111111111111,
              "#46039f"
             ],
             [
              0.2222222222222222,
              "#7201a8"
             ],
             [
              0.3333333333333333,
              "#9c179e"
             ],
             [
              0.4444444444444444,
              "#bd3786"
             ],
             [
              0.5555555555555556,
              "#d8576b"
             ],
             [
              0.6666666666666666,
              "#ed7953"
             ],
             [
              0.7777777777777778,
              "#fb9f3a"
             ],
             [
              0.8888888888888888,
              "#fdca26"
             ],
             [
              1,
              "#f0f921"
             ]
            ],
            "type": "surface"
           }
          ],
          "table": [
           {
            "cells": {
             "fill": {
              "color": "#EBF0F8"
             },
             "line": {
              "color": "white"
             }
            },
            "header": {
             "fill": {
              "color": "#C8D4E3"
             },
             "line": {
              "color": "white"
             }
            },
            "type": "table"
           }
          ]
         },
         "layout": {
          "annotationdefaults": {
           "arrowcolor": "#2a3f5f",
           "arrowhead": 0,
           "arrowwidth": 1
          },
          "autotypenumbers": "strict",
          "coloraxis": {
           "colorbar": {
            "outlinewidth": 0,
            "ticks": ""
           }
          },
          "colorscale": {
           "diverging": [
            [
             0,
             "#8e0152"
            ],
            [
             0.1,
             "#c51b7d"
            ],
            [
             0.2,
             "#de77ae"
            ],
            [
             0.3,
             "#f1b6da"
            ],
            [
             0.4,
             "#fde0ef"
            ],
            [
             0.5,
             "#f7f7f7"
            ],
            [
             0.6,
             "#e6f5d0"
            ],
            [
             0.7,
             "#b8e186"
            ],
            [
             0.8,
             "#7fbc41"
            ],
            [
             0.9,
             "#4d9221"
            ],
            [
             1,
             "#276419"
            ]
           ],
           "sequential": [
            [
             0,
             "#0d0887"
            ],
            [
             0.1111111111111111,
             "#46039f"
            ],
            [
             0.2222222222222222,
             "#7201a8"
            ],
            [
             0.3333333333333333,
             "#9c179e"
            ],
            [
             0.4444444444444444,
             "#bd3786"
            ],
            [
             0.5555555555555556,
             "#d8576b"
            ],
            [
             0.6666666666666666,
             "#ed7953"
            ],
            [
             0.7777777777777778,
             "#fb9f3a"
            ],
            [
             0.8888888888888888,
             "#fdca26"
            ],
            [
             1,
             "#f0f921"
            ]
           ],
           "sequentialminus": [
            [
             0,
             "#0d0887"
            ],
            [
             0.1111111111111111,
             "#46039f"
            ],
            [
             0.2222222222222222,
             "#7201a8"
            ],
            [
             0.3333333333333333,
             "#9c179e"
            ],
            [
             0.4444444444444444,
             "#bd3786"
            ],
            [
             0.5555555555555556,
             "#d8576b"
            ],
            [
             0.6666666666666666,
             "#ed7953"
            ],
            [
             0.7777777777777778,
             "#fb9f3a"
            ],
            [
             0.8888888888888888,
             "#fdca26"
            ],
            [
             1,
             "#f0f921"
            ]
           ]
          },
          "colorway": [
           "#636efa",
           "#EF553B",
           "#00cc96",
           "#ab63fa",
           "#FFA15A",
           "#19d3f3",
           "#FF6692",
           "#B6E880",
           "#FF97FF",
           "#FECB52"
          ],
          "font": {
           "color": "#2a3f5f"
          },
          "geo": {
           "bgcolor": "white",
           "lakecolor": "white",
           "landcolor": "#E5ECF6",
           "showlakes": true,
           "showland": true,
           "subunitcolor": "white"
          },
          "hoverlabel": {
           "align": "left"
          },
          "hovermode": "closest",
          "mapbox": {
           "style": "light"
          },
          "paper_bgcolor": "white",
          "plot_bgcolor": "#E5ECF6",
          "polar": {
           "angularaxis": {
            "gridcolor": "white",
            "linecolor": "white",
            "ticks": ""
           },
           "bgcolor": "#E5ECF6",
           "radialaxis": {
            "gridcolor": "white",
            "linecolor": "white",
            "ticks": ""
           }
          },
          "scene": {
           "xaxis": {
            "backgroundcolor": "#E5ECF6",
            "gridcolor": "white",
            "gridwidth": 2,
            "linecolor": "white",
            "showbackground": true,
            "ticks": "",
            "zerolinecolor": "white"
           },
           "yaxis": {
            "backgroundcolor": "#E5ECF6",
            "gridcolor": "white",
            "gridwidth": 2,
            "linecolor": "white",
            "showbackground": true,
            "ticks": "",
            "zerolinecolor": "white"
           },
           "zaxis": {
            "backgroundcolor": "#E5ECF6",
            "gridcolor": "white",
            "gridwidth": 2,
            "linecolor": "white",
            "showbackground": true,
            "ticks": "",
            "zerolinecolor": "white"
           }
          },
          "shapedefaults": {
           "line": {
            "color": "#2a3f5f"
           }
          },
          "ternary": {
           "aaxis": {
            "gridcolor": "white",
            "linecolor": "white",
            "ticks": ""
           },
           "baxis": {
            "gridcolor": "white",
            "linecolor": "white",
            "ticks": ""
           },
           "bgcolor": "#E5ECF6",
           "caxis": {
            "gridcolor": "white",
            "linecolor": "white",
            "ticks": ""
           }
          },
          "title": {
           "x": 0.05
          },
          "xaxis": {
           "automargin": true,
           "gridcolor": "white",
           "linecolor": "white",
           "ticks": "",
           "title": {
            "standoff": 15
           },
           "zerolinecolor": "white",
           "zerolinewidth": 2
          },
          "yaxis": {
           "automargin": true,
           "gridcolor": "white",
           "linecolor": "white",
           "ticks": "",
           "title": {
            "standoff": 15
           },
           "zerolinecolor": "white",
           "zerolinewidth": 2
          }
         }
        }
       }
      }
     },
     "metadata": {},
     "output_type": "display_data"
    }
   ],
   "source": [
    "from plotly.subplots import make_subplots\n",
    "import plotly.graph_objects as go\n",
    "\n",
    "def plot_pie_chart(current_year_commoditywise_ouward_df,previous_year_commoditywise_outward_df):\n",
    "    df_filtered = current_year_commoditywise_ouward_df[class_object.current_year_commoditywise_ouward_df['freight'] > (class_object.current_year_commoditywise_ouward_df['freight']*0.001)]\n",
    "    df_filtered_ly = previous_year_commoditywise_outward_df[class_object.previous_year_commoditywise_outward_df['freight'] > (class_object.previous_year_commoditywise_outward_df['freight'].sum()*0.001)]\n",
    "\n",
    "    fig = make_subplots(rows=2, cols=1, specs=[[{'type':'domain'}], [{'type':'domain'}]])\n",
    "\n",
    "    # Extract values and names from the filtered DataFrame\n",
    "    values = df_filtered['freight']\n",
    "    names = df_filtered['commodity']\n",
    "    values_ly = df_filtered_ly['freight']\n",
    "    names_ly = df_filtered_ly['commodity']\n",
    "    # Add pie charts to the subplots\n",
    "    fig.add_trace(go.Pie(values=values, labels=names, title=f'CY : Frieght Distribution<br>by Commodity ',textinfo='label+percent', showlegend=False,insidetextorientation='radial'), row=1, col=1)\n",
    "    fig.add_trace(go.Pie(values=values_ly, labels=names_ly, title=f'LY : Freight Distribution<br>by Commodity',textinfo='label+percent', showlegend=False,insidetextorientation='radial'), row=2, col=1)\n",
    "    fig.update_traces(hole=.8, hoverinfo=\"label+percent+name\")\n",
    "    fig.update_layout(\n",
    "        margin=dict(t=10, b=10,r=10),\n",
    "        legend=dict(\n",
    "            x=0.01,  # Change the x-coordinate of the legend\n",
    "            y=1.15, # Change the y-coordinate of the legend\n",
    "            traceorder='normal',  # Order of the legend items\n",
    "            font=dict(\n",
    "                family='sans-serif',\n",
    "                size=10,\n",
    "                color='black'\n",
    "            ),\n",
    "            bgcolor='rgba(255, 255, 255, 0.5)',  # Background color of the legend\n",
    "            bordercolor='rgba(0, 0, 0, 0.5)',  # Border color of the legend\n",
    "            borderwidth=1,  # Border width of the legend\n",
    "            orientation='v',\n",
    "        ),\n",
    "    )\n",
    "    return fig.show()\n",
    "plot_pie_chart(class_object.current_year_commoditywise_ouward_df, class_object.previous_year_commoditywise_outward_df)"
   ]
  },
  {
   "cell_type": "code",
   "execution_count": null,
   "metadata": {},
   "outputs": [],
   "source": []
  },
  {
   "cell_type": "code",
   "execution_count": null,
   "metadata": {},
   "outputs": [],
   "source": []
  }
 ],
 "metadata": {
  "kernelspec": {
   "display_name": "Python 3",
   "language": "python",
   "name": "python3"
  },
  "language_info": {
   "codemirror_mode": {
    "name": "ipython",
    "version": 3
   },
   "file_extension": ".py",
   "mimetype": "text/x-python",
   "name": "python",
   "nbconvert_exporter": "python",
   "pygments_lexer": "ipython3",
   "version": "3.11.8"
  }
 },
 "nbformat": 4,
 "nbformat_minor": 2
}
